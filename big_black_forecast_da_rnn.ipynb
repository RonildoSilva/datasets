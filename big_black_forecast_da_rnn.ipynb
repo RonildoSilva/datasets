{
  "cells": [
    {
      "cell_type": "markdown",
      "metadata": {
        "id": "view-in-github",
        "colab_type": "text"
      },
      "source": [
        "<a href=\"https://colab.research.google.com/github/RonildoSilva/datasets/blob/main/big_black_forecast_da_rnn.ipynb\" target=\"_parent\"><img src=\"https://colab.research.google.com/assets/colab-badge.svg\" alt=\"Open In Colab\"/></a>"
      ]
    },
    {
      "cell_type": "code",
      "execution_count": 25,
      "id": "b8558057",
      "metadata": {
        "_cell_guid": "b1076dfc-b9ad-4769-8c92-a6c4dae69d19",
        "_uuid": "8f2839f25d086af736a60e9eeb907d3b93b6e0e5",
        "execution": {
          "iopub.execute_input": "2021-10-18T07:44:53.831587Z",
          "iopub.status.busy": "2021-10-18T07:44:53.830943Z",
          "iopub.status.idle": "2021-10-18T07:45:14.831734Z",
          "shell.execute_reply": "2021-10-18T07:45:14.832227Z",
          "shell.execute_reply.started": "2021-10-18T07:28:07.959727Z"
        },
        "papermill": {
          "duration": 21.017822,
          "end_time": "2021-10-18T07:45:14.832538",
          "exception": false,
          "start_time": "2021-10-18T07:44:53.814716",
          "status": "completed"
        },
        "tags": [],
        "colab": {
          "base_uri": "https://localhost:8080/"
        },
        "id": "b8558057",
        "outputId": "a333737f-c3b2-4fee-d255-6ecbb79ddaea"
      },
      "outputs": [
        {
          "output_type": "stream",
          "name": "stdout",
          "text": [
            "Looking in indexes: https://pypi.org/simple, https://us-python.pkg.dev/colab-wheels/public/simple/\n",
            "Requirement already satisfied: flood-forecast in /usr/local/lib/python3.7/dist-packages (0.99998.dev0)\n",
            "Requirement already satisfied: sphinx-autodoc-typehints in /usr/local/lib/python3.7/dist-packages (from flood-forecast) (1.19.2)\n",
            "Requirement already satisfied: pytz>=2022.1 in /usr/local/lib/python3.7/dist-packages (from flood-forecast) (2022.2.1)\n",
            "Requirement already satisfied: torchvision>=0.6.0 in /usr/local/lib/python3.7/dist-packages (from flood-forecast) (0.13.1+cu113)\n",
            "Requirement already satisfied: torch in /usr/local/lib/python3.7/dist-packages (from flood-forecast) (1.12.1+cu113)\n",
            "Requirement already satisfied: numba>=0.50 in /usr/local/lib/python3.7/dist-packages (from flood-forecast) (0.56.0)\n",
            "Requirement already satisfied: sphinx in /usr/local/lib/python3.7/dist-packages (from flood-forecast) (5.1.1)\n",
            "Requirement already satisfied: setuptools~=62.0.0 in /usr/local/lib/python3.7/dist-packages (from flood-forecast) (62.0.0)\n",
            "Requirement already satisfied: numpy>=1.21 in /usr/local/lib/python3.7/dist-packages (from flood-forecast) (1.21.6)\n",
            "Requirement already satisfied: sphinx-rtd-theme in /usr/local/lib/python3.7/dist-packages (from flood-forecast) (1.0.0)\n",
            "Requirement already satisfied: scikit-learn>=1.0.1 in /usr/local/lib/python3.7/dist-packages (from flood-forecast) (1.0.2)\n",
            "Requirement already satisfied: plotly~=5.7.0 in /usr/local/lib/python3.7/dist-packages (from flood-forecast) (5.7.0)\n",
            "Requirement already satisfied: requests in /usr/local/lib/python3.7/dist-packages (from flood-forecast) (2.23.0)\n",
            "Requirement already satisfied: pandas in /usr/local/lib/python3.7/dist-packages (from flood-forecast) (1.3.5)\n",
            "Requirement already satisfied: future in /usr/local/lib/python3.7/dist-packages (from flood-forecast) (0.16.0)\n",
            "Requirement already satisfied: h5py in /usr/local/lib/python3.7/dist-packages (from flood-forecast) (3.1.0)\n",
            "Requirement already satisfied: google-cloud in /usr/local/lib/python3.7/dist-packages (from flood-forecast) (0.34.0)\n",
            "Requirement already satisfied: mpld3>=0.5 in /usr/local/lib/python3.7/dist-packages (from flood-forecast) (0.5.8)\n",
            "Requirement already satisfied: tb-nightly in /usr/local/lib/python3.7/dist-packages (from flood-forecast) (2.11.0a20220916)\n",
            "Requirement already satisfied: google-cloud-storage in /usr/local/lib/python3.7/dist-packages (from flood-forecast) (1.18.1)\n",
            "Requirement already satisfied: seaborn in /usr/local/lib/python3.7/dist-packages (from flood-forecast) (0.11.2)\n",
            "Requirement already satisfied: shap==0.40.0 in /usr/local/lib/python3.7/dist-packages (from flood-forecast) (0.40.0)\n",
            "Requirement already satisfied: wandb==0.12.17 in /usr/local/lib/python3.7/dist-packages (from flood-forecast) (0.12.17)\n",
            "Requirement already satisfied: packaging>20.9 in /usr/local/lib/python3.7/dist-packages (from shap==0.40.0->flood-forecast) (21.3)\n",
            "Requirement already satisfied: tqdm>4.25.0 in /usr/local/lib/python3.7/dist-packages (from shap==0.40.0->flood-forecast) (4.64.1)\n",
            "Requirement already satisfied: slicer==0.0.7 in /usr/local/lib/python3.7/dist-packages (from shap==0.40.0->flood-forecast) (0.0.7)\n",
            "Requirement already satisfied: cloudpickle in /usr/local/lib/python3.7/dist-packages (from shap==0.40.0->flood-forecast) (1.5.0)\n",
            "Requirement already satisfied: scipy in /usr/local/lib/python3.7/dist-packages (from shap==0.40.0->flood-forecast) (1.7.3)\n",
            "Requirement already satisfied: python-dateutil>=2.6.1 in /usr/local/lib/python3.7/dist-packages (from wandb==0.12.17->flood-forecast) (2.8.2)\n",
            "Requirement already satisfied: sentry-sdk>=1.0.0 in /usr/local/lib/python3.7/dist-packages (from wandb==0.12.17->flood-forecast) (1.9.0)\n",
            "Requirement already satisfied: setproctitle in /usr/local/lib/python3.7/dist-packages (from wandb==0.12.17->flood-forecast) (1.3.2)\n",
            "Requirement already satisfied: Click!=8.0.0,>=7.0 in /usr/local/lib/python3.7/dist-packages (from wandb==0.12.17->flood-forecast) (7.1.2)\n",
            "Requirement already satisfied: GitPython>=1.0.0 in /usr/local/lib/python3.7/dist-packages (from wandb==0.12.17->flood-forecast) (3.1.27)\n",
            "Requirement already satisfied: six>=1.13.0 in /usr/local/lib/python3.7/dist-packages (from wandb==0.12.17->flood-forecast) (1.15.0)\n",
            "Requirement already satisfied: PyYAML in /usr/local/lib/python3.7/dist-packages (from wandb==0.12.17->flood-forecast) (6.0)\n",
            "Requirement already satisfied: psutil>=5.0.0 in /usr/local/lib/python3.7/dist-packages (from wandb==0.12.17->flood-forecast) (5.4.8)\n",
            "Requirement already satisfied: promise<3,>=2.0 in /usr/local/lib/python3.7/dist-packages (from wandb==0.12.17->flood-forecast) (2.3)\n",
            "Requirement already satisfied: shortuuid>=0.5.0 in /usr/local/lib/python3.7/dist-packages (from wandb==0.12.17->flood-forecast) (1.0.9)\n",
            "Requirement already satisfied: pathtools in /usr/local/lib/python3.7/dist-packages (from wandb==0.12.17->flood-forecast) (0.1.2)\n",
            "Requirement already satisfied: docker-pycreds>=0.4.0 in /usr/local/lib/python3.7/dist-packages (from wandb==0.12.17->flood-forecast) (0.4.0)\n",
            "Requirement already satisfied: protobuf<4.0dev,>=3.12.0 in /usr/local/lib/python3.7/dist-packages (from wandb==0.12.17->flood-forecast) (3.17.3)\n",
            "Requirement already satisfied: gitdb<5,>=4.0.1 in /usr/local/lib/python3.7/dist-packages (from GitPython>=1.0.0->wandb==0.12.17->flood-forecast) (4.0.9)\n",
            "Requirement already satisfied: typing-extensions>=3.7.4.3 in /usr/local/lib/python3.7/dist-packages (from GitPython>=1.0.0->wandb==0.12.17->flood-forecast) (4.1.1)\n",
            "Requirement already satisfied: smmap<6,>=3.0.1 in /usr/local/lib/python3.7/dist-packages (from gitdb<5,>=4.0.1->GitPython>=1.0.0->wandb==0.12.17->flood-forecast) (5.0.0)\n",
            "Requirement already satisfied: jinja2 in /usr/local/lib/python3.7/dist-packages (from mpld3>=0.5->flood-forecast) (2.11.3)\n",
            "Requirement already satisfied: matplotlib in /usr/local/lib/python3.7/dist-packages (from mpld3>=0.5->flood-forecast) (3.2.2)\n",
            "Requirement already satisfied: llvmlite<0.40,>=0.39.0dev0 in /usr/local/lib/python3.7/dist-packages (from numba>=0.50->flood-forecast) (0.39.1)\n",
            "Requirement already satisfied: importlib-metadata in /usr/local/lib/python3.7/dist-packages (from numba>=0.50->flood-forecast) (4.12.0)\n",
            "Requirement already satisfied: pyparsing!=3.0.5,>=2.0.2 in /usr/local/lib/python3.7/dist-packages (from packaging>20.9->shap==0.40.0->flood-forecast) (3.0.9)\n",
            "Requirement already satisfied: tenacity>=6.2.0 in /usr/local/lib/python3.7/dist-packages (from plotly~=5.7.0->flood-forecast) (8.0.1)\n",
            "Requirement already satisfied: certifi>=2017.4.17 in /usr/local/lib/python3.7/dist-packages (from requests->flood-forecast) (2022.6.15)\n",
            "Requirement already satisfied: idna<3,>=2.5 in /usr/local/lib/python3.7/dist-packages (from requests->flood-forecast) (2.10)\n",
            "Requirement already satisfied: chardet<4,>=3.0.2 in /usr/local/lib/python3.7/dist-packages (from requests->flood-forecast) (3.0.4)\n",
            "Requirement already satisfied: urllib3!=1.25.0,!=1.25.1,<1.26,>=1.21.1 in /usr/local/lib/python3.7/dist-packages (from requests->flood-forecast) (1.24.3)\n",
            "Requirement already satisfied: joblib>=0.11 in /usr/local/lib/python3.7/dist-packages (from scikit-learn>=1.0.1->flood-forecast) (1.1.0)\n",
            "Requirement already satisfied: threadpoolctl>=2.0.0 in /usr/local/lib/python3.7/dist-packages (from scikit-learn>=1.0.1->flood-forecast) (3.1.0)\n",
            "Requirement already satisfied: pillow!=8.3.*,>=5.3.0 in /usr/local/lib/python3.7/dist-packages (from torchvision>=0.6.0->flood-forecast) (7.1.2)\n",
            "Requirement already satisfied: google-resumable-media<0.5.0dev,>=0.3.1 in /usr/local/lib/python3.7/dist-packages (from google-cloud-storage->flood-forecast) (0.4.1)\n",
            "Requirement already satisfied: google-cloud-core<2.0dev,>=1.0.0 in /usr/local/lib/python3.7/dist-packages (from google-cloud-storage->flood-forecast) (1.0.3)\n",
            "Requirement already satisfied: google-auth>=1.2.0 in /usr/local/lib/python3.7/dist-packages (from google-cloud-storage->flood-forecast) (1.35.0)\n",
            "Requirement already satisfied: pyasn1-modules>=0.2.1 in /usr/local/lib/python3.7/dist-packages (from google-auth>=1.2.0->google-cloud-storage->flood-forecast) (0.2.8)\n",
            "Requirement already satisfied: cachetools<5.0,>=2.0.0 in /usr/local/lib/python3.7/dist-packages (from google-auth>=1.2.0->google-cloud-storage->flood-forecast) (4.2.4)\n",
            "Requirement already satisfied: rsa<5,>=3.1.4 in /usr/local/lib/python3.7/dist-packages (from google-auth>=1.2.0->google-cloud-storage->flood-forecast) (4.9)\n",
            "Requirement already satisfied: google-api-core<2.0.0dev,>=1.14.0 in /usr/local/lib/python3.7/dist-packages (from google-cloud-core<2.0dev,>=1.0.0->google-cloud-storage->flood-forecast) (1.31.6)\n",
            "Requirement already satisfied: googleapis-common-protos<2.0dev,>=1.6.0 in /usr/local/lib/python3.7/dist-packages (from google-api-core<2.0.0dev,>=1.14.0->google-cloud-core<2.0dev,>=1.0.0->google-cloud-storage->flood-forecast) (1.56.4)\n",
            "Requirement already satisfied: pyasn1<0.5.0,>=0.4.6 in /usr/local/lib/python3.7/dist-packages (from pyasn1-modules>=0.2.1->google-auth>=1.2.0->google-cloud-storage->flood-forecast) (0.4.8)\n",
            "Requirement already satisfied: cached-property in /usr/local/lib/python3.7/dist-packages (from h5py->flood-forecast) (1.5.2)\n",
            "Requirement already satisfied: zipp>=0.5 in /usr/local/lib/python3.7/dist-packages (from importlib-metadata->numba>=0.50->flood-forecast) (3.8.1)\n",
            "Requirement already satisfied: MarkupSafe>=0.23 in /usr/local/lib/python3.7/dist-packages (from jinja2->mpld3>=0.5->flood-forecast) (2.0.1)\n",
            "Requirement already satisfied: kiwisolver>=1.0.1 in /usr/local/lib/python3.7/dist-packages (from matplotlib->mpld3>=0.5->flood-forecast) (1.4.4)\n",
            "Requirement already satisfied: cycler>=0.10 in /usr/local/lib/python3.7/dist-packages (from matplotlib->mpld3>=0.5->flood-forecast) (0.11.0)\n",
            "Requirement already satisfied: sphinxcontrib-serializinghtml>=1.1.5 in /usr/local/lib/python3.7/dist-packages (from sphinx->flood-forecast) (1.1.5)\n",
            "Requirement already satisfied: sphinxcontrib-htmlhelp>=2.0.0 in /usr/local/lib/python3.7/dist-packages (from sphinx->flood-forecast) (2.0.0)\n",
            "Requirement already satisfied: snowballstemmer>=1.1 in /usr/local/lib/python3.7/dist-packages (from sphinx->flood-forecast) (2.2.0)\n",
            "Requirement already satisfied: sphinxcontrib-qthelp in /usr/local/lib/python3.7/dist-packages (from sphinx->flood-forecast) (1.0.3)\n",
            "Requirement already satisfied: docutils<0.20,>=0.14 in /usr/local/lib/python3.7/dist-packages (from sphinx->flood-forecast) (0.17.1)\n",
            "Requirement already satisfied: alabaster<0.8,>=0.7 in /usr/local/lib/python3.7/dist-packages (from sphinx->flood-forecast) (0.7.12)\n",
            "Requirement already satisfied: sphinxcontrib-jsmath in /usr/local/lib/python3.7/dist-packages (from sphinx->flood-forecast) (1.0.1)\n",
            "Requirement already satisfied: babel>=1.3 in /usr/local/lib/python3.7/dist-packages (from sphinx->flood-forecast) (2.10.3)\n",
            "Requirement already satisfied: Pygments>=2.0 in /usr/local/lib/python3.7/dist-packages (from sphinx->flood-forecast) (2.6.1)\n",
            "Requirement already satisfied: sphinxcontrib-applehelp in /usr/local/lib/python3.7/dist-packages (from sphinx->flood-forecast) (1.0.2)\n",
            "Requirement already satisfied: sphinxcontrib-devhelp in /usr/local/lib/python3.7/dist-packages (from sphinx->flood-forecast) (1.0.2)\n",
            "Requirement already satisfied: imagesize in /usr/local/lib/python3.7/dist-packages (from sphinx->flood-forecast) (1.4.1)\n",
            "Requirement already satisfied: werkzeug>=1.0.1 in /usr/local/lib/python3.7/dist-packages (from tb-nightly->flood-forecast) (1.0.1)\n",
            "Requirement already satisfied: tensorboard-plugin-wit>=1.6.0 in /usr/local/lib/python3.7/dist-packages (from tb-nightly->flood-forecast) (1.8.1)\n",
            "Requirement already satisfied: grpcio>=1.24.3 in /usr/local/lib/python3.7/dist-packages (from tb-nightly->flood-forecast) (1.48.1)\n",
            "Requirement already satisfied: tensorboard-data-server<0.7.0,>=0.6.0 in /usr/local/lib/python3.7/dist-packages (from tb-nightly->flood-forecast) (0.6.1)\n",
            "Requirement already satisfied: markdown>=2.6.8 in /usr/local/lib/python3.7/dist-packages (from tb-nightly->flood-forecast) (3.4.1)\n",
            "Requirement already satisfied: wheel>=0.26 in /usr/local/lib/python3.7/dist-packages (from tb-nightly->flood-forecast) (0.37.1)\n",
            "Requirement already satisfied: absl-py>=0.4 in /usr/local/lib/python3.7/dist-packages (from tb-nightly->flood-forecast) (1.2.0)\n",
            "Requirement already satisfied: google-auth-oauthlib<0.5,>=0.4.1 in /usr/local/lib/python3.7/dist-packages (from tb-nightly->flood-forecast) (0.4.6)\n",
            "Requirement already satisfied: requests-oauthlib>=0.7.0 in /usr/local/lib/python3.7/dist-packages (from google-auth-oauthlib<0.5,>=0.4.1->tb-nightly->flood-forecast) (1.3.1)\n",
            "Requirement already satisfied: oauthlib>=3.0.0 in /usr/local/lib/python3.7/dist-packages (from requests-oauthlib>=0.7.0->google-auth-oauthlib<0.5,>=0.4.1->tb-nightly->flood-forecast) (3.2.0)\n"
          ]
        }
      ],
      "source": [
        "from datetime import datetime\n",
        "\n",
        "! pip install flood-forecast"
      ]
    },
    {
      "cell_type": "code",
      "source": [],
      "metadata": {
        "id": "8XgIRFDxzHkb"
      },
      "id": "8XgIRFDxzHkb",
      "execution_count": 25,
      "outputs": []
    },
    {
      "cell_type": "code",
      "source": [
        "! pip install wget"
      ],
      "metadata": {
        "colab": {
          "base_uri": "https://localhost:8080/"
        },
        "id": "zkvQQVm-iHt0",
        "outputId": "dcf44a7a-37e5-468d-a90b-d7552a2ba99a"
      },
      "id": "zkvQQVm-iHt0",
      "execution_count": 26,
      "outputs": [
        {
          "output_type": "stream",
          "name": "stdout",
          "text": [
            "Looking in indexes: https://pypi.org/simple, https://us-python.pkg.dev/colab-wheels/public/simple/\n",
            "Requirement already satisfied: wget in /usr/local/lib/python3.7/dist-packages (3.2)\n"
          ]
        }
      ]
    },
    {
      "cell_type": "code",
      "source": [
        "import wget\n",
        "import os.path"
      ],
      "metadata": {
        "id": "V0UO6wwpiRlX"
      },
      "id": "V0UO6wwpiRlX",
      "execution_count": 27,
      "outputs": []
    },
    {
      "cell_type": "code",
      "source": [
        "#! unzip 01010500FVE_flow.csv.zip"
      ],
      "metadata": {
        "id": "ioHBvdJBiRnn"
      },
      "id": "ioHBvdJBiRnn",
      "execution_count": 28,
      "outputs": []
    },
    {
      "cell_type": "code",
      "source": [],
      "metadata": {
        "id": "os55AJG5iRpz"
      },
      "id": "os55AJG5iRpz",
      "execution_count": 28,
      "outputs": []
    },
    {
      "cell_type": "code",
      "source": [],
      "metadata": {
        "id": "TlknhZzciVeF"
      },
      "id": "TlknhZzciVeF",
      "execution_count": 28,
      "outputs": []
    },
    {
      "cell_type": "code",
      "execution_count": 28,
      "id": "9cccbad6",
      "metadata": {
        "execution": {
          "iopub.status.busy": "2021-10-18T07:23:19.995082Z",
          "iopub.status.idle": "2021-10-18T07:23:19.995414Z",
          "shell.execute_reply": "2021-10-18T07:23:19.995268Z",
          "shell.execute_reply.started": "2021-10-18T07:23:19.995248Z"
        },
        "papermill": {
          "duration": null,
          "end_time": null,
          "exception": null,
          "start_time": null,
          "status": "pending"
        },
        "tags": [],
        "id": "9cccbad6"
      },
      "outputs": [],
      "source": []
    },
    {
      "cell_type": "code",
      "source": [
        "import wget\n",
        "import os.path\n",
        "\n",
        "if(not os.path.exists('df_train_keras_tk.csv')):\n",
        "    wget.download('https://raw.githubusercontent.com/RonildoSilva/datasets/main/df_train_keras_tk.csv')\n",
        "\n",
        "if(not os.path.exists('df_val_keras_tk.csv')):\n",
        "    wget.download('https://raw.githubusercontent.com/RonildoSilva/datasets/main/df_val_keras_tk.csv')\n",
        "\n",
        "if(not os.path.exists('df_test_keras_tk.csv')):\n",
        "    wget.download('https://raw.githubusercontent.com/RonildoSilva/datasets/main/df_test_keras_tk.csv')"
      ],
      "metadata": {
        "id": "kOlQ2sBFFemA"
      },
      "id": "kOlQ2sBFFemA",
      "execution_count": 29,
      "outputs": []
    },
    {
      "cell_type": "markdown",
      "source": [
        "Merge"
      ],
      "metadata": {
        "id": "7kfWF1esP3Ts"
      },
      "id": "7kfWF1esP3Ts"
    },
    {
      "cell_type": "code",
      "source": [
        "import pandas as pd \n",
        "df = pd.concat([\n",
        "    pd.read_csv('df_train_keras_tk.csv'),\n",
        "    pd.read_csv('df_val_keras_tk.csv'),\n",
        "    pd.read_csv('df_test_keras_tk.csv')\n",
        "])"
      ],
      "metadata": {
        "id": "bv1OEhFmFeoE"
      },
      "id": "bv1OEhFmFeoE",
      "execution_count": 30,
      "outputs": []
    },
    {
      "cell_type": "code",
      "source": [
        "print(\n",
        "    pd.read_csv('df_train_keras_tk.csv').shape,\n",
        "    pd.read_csv('df_val_keras_tk.csv').shape,\n",
        "    pd.read_csv('df_test_keras_tk.csv').shape\n",
        ")"
      ],
      "metadata": {
        "colab": {
          "base_uri": "https://localhost:8080/"
        },
        "id": "9-LlEhN0N3G3",
        "outputId": "9bf08548-6406-4e8d-9224-946cf5ae383d"
      },
      "id": "9-LlEhN0N3G3",
      "execution_count": 31,
      "outputs": [
        {
          "output_type": "stream",
          "name": "stdout",
          "text": [
            "(12363, 20) (4021, 20) (4020, 20)\n"
          ]
        }
      ]
    },
    {
      "cell_type": "code",
      "source": [
        "DATETIME_START = pd.to_datetime(pd.read_csv('df_test_keras_tk.csv')['datetime']).dt.strftime('%Y-%m-%d').min()"
      ],
      "metadata": {
        "id": "v8vS6j_AWef5"
      },
      "id": "v8vS6j_AWef5",
      "execution_count": 62,
      "outputs": []
    },
    {
      "cell_type": "code",
      "source": [
        "DATETIME_END = pd.to_datetime(pd.read_csv('df_test_keras_tk.csv')['datetime']).dt.strftime('%Y-%m-%d').max()"
      ],
      "metadata": {
        "id": "wrHvAw4RuDIw"
      },
      "id": "wrHvAw4RuDIw",
      "execution_count": 63,
      "outputs": []
    },
    {
      "cell_type": "code",
      "source": [
        "DATETIME_START, DATETIME_END"
      ],
      "metadata": {
        "colab": {
          "base_uri": "https://localhost:8080/"
        },
        "id": "gATT0phxW9bv",
        "outputId": "97346318-7a40-4943-83d4-2ace6fd3e749"
      },
      "id": "gATT0phxW9bv",
      "execution_count": 64,
      "outputs": [
        {
          "output_type": "execute_result",
          "data": {
            "text/plain": [
              "('2010-01-13', '2014-01-03')"
            ]
          },
          "metadata": {},
          "execution_count": 64
        }
      ]
    },
    {
      "cell_type": "code",
      "source": [
        "TRAIN_START = 0\n",
        "TRAIN_END = pd.read_csv('df_train_keras_tk.csv').shape[0]\n",
        "\n",
        "VAL_START = TRAIN_END + 1\n",
        "VAL_END = VAL_START + pd.read_csv('df_val_keras_tk.csv').shape[0]\n",
        "\n",
        "TEST_START = VAL_END + 1\n",
        "TEST_END = TEST_START + pd.read_csv('df_test_keras_tk.csv').shape[0] - 1"
      ],
      "metadata": {
        "id": "FRwOYLo5M-bf"
      },
      "id": "FRwOYLo5M-bf",
      "execution_count": 65,
      "outputs": []
    },
    {
      "cell_type": "code",
      "source": [
        "print(TRAIN_START, TRAIN_END, VAL_START, VAL_END, TEST_START, TEST_END)"
      ],
      "metadata": {
        "colab": {
          "base_uri": "https://localhost:8080/"
        },
        "id": "rF0O28-GQi5I",
        "outputId": "0beae92e-2d05-4e39-b401-55b74a9d00ed"
      },
      "id": "rF0O28-GQi5I",
      "execution_count": 66,
      "outputs": [
        {
          "output_type": "stream",
          "name": "stdout",
          "text": [
            "0 12363 12364 16385 16386 20405\n"
          ]
        }
      ]
    },
    {
      "cell_type": "code",
      "source": [
        "df['datetime'] = pd.to_datetime(df['datetime']).dt.strftime('%Y-%m-%d')\n",
        "#df['datetime'] = pd.to_datetime(df['datetime']).dt.strftime('%Y-%m-%d %H:%M:%S+00:00')\n",
        "#2000-04-04 04:00:00+00:00"
      ],
      "metadata": {
        "id": "1N6AYKwBM-dc"
      },
      "id": "1N6AYKwBM-dc",
      "execution_count": 36,
      "outputs": []
    },
    {
      "cell_type": "code",
      "source": [
        "#df = df[[\"TimeConclusion\", \"Duration\", \"datetime\"]]\n",
        "df.to_csv('df_full.csv', index=False)"
      ],
      "metadata": {
        "id": "t7iJv5SmM-fm"
      },
      "id": "t7iJv5SmM-fm",
      "execution_count": 37,
      "outputs": []
    },
    {
      "cell_type": "code",
      "source": [
        "df.head()"
      ],
      "metadata": {
        "colab": {
          "base_uri": "https://localhost:8080/",
          "height": 206
        },
        "id": "9n2JosxiCwMk",
        "outputId": "93069a02-b4fa-4310-d0a7-512c37e50c36"
      },
      "id": "9n2JosxiCwMk",
      "execution_count": 38,
      "outputs": [
        {
          "output_type": "execute_result",
          "data": {
            "text/plain": [
              "   0  1  2  3  4  5  6  7  8  9  10  11  12  13  14    datetime  Duration  \\\n",
              "0  1  0  0  0  0  0  0  0  0  0   0   0   0   0   0  2012-10-09    0.0000   \n",
              "1  1  2  0  0  0  0  0  0  0  0   0   0   0   0   0  2012-10-09   16.0084   \n",
              "2  1  2  3  0  0  0  0  0  0  0   0   0   0   0   0  2012-10-12    0.0001   \n",
              "3  1  2  3  5  0  0  0  0  0  0   0   0   0   0   0  2012-10-25   15.0002   \n",
              "4  1  0  0  0  0  0  0  0  0  0   0   0   0   0   0  2012-11-09    0.0000   \n",
              "\n",
              "   PassedTime  Step  TimeConclusion  \n",
              "0      0.0000     1         31.0087  \n",
              "1     15.0002     2         15.0003  \n",
              "2     15.0003     3         15.0002  \n",
              "3     31.0087     4          0.0000  \n",
              "4      0.0000     1         30.9822  "
            ],
            "text/html": [
              "\n",
              "  <div id=\"df-85a63c17-dcc5-40c7-bdfe-9770a72b1990\">\n",
              "    <div class=\"colab-df-container\">\n",
              "      <div>\n",
              "<style scoped>\n",
              "    .dataframe tbody tr th:only-of-type {\n",
              "        vertical-align: middle;\n",
              "    }\n",
              "\n",
              "    .dataframe tbody tr th {\n",
              "        vertical-align: top;\n",
              "    }\n",
              "\n",
              "    .dataframe thead th {\n",
              "        text-align: right;\n",
              "    }\n",
              "</style>\n",
              "<table border=\"1\" class=\"dataframe\">\n",
              "  <thead>\n",
              "    <tr style=\"text-align: right;\">\n",
              "      <th></th>\n",
              "      <th>0</th>\n",
              "      <th>1</th>\n",
              "      <th>2</th>\n",
              "      <th>3</th>\n",
              "      <th>4</th>\n",
              "      <th>5</th>\n",
              "      <th>6</th>\n",
              "      <th>7</th>\n",
              "      <th>8</th>\n",
              "      <th>9</th>\n",
              "      <th>10</th>\n",
              "      <th>11</th>\n",
              "      <th>12</th>\n",
              "      <th>13</th>\n",
              "      <th>14</th>\n",
              "      <th>datetime</th>\n",
              "      <th>Duration</th>\n",
              "      <th>PassedTime</th>\n",
              "      <th>Step</th>\n",
              "      <th>TimeConclusion</th>\n",
              "    </tr>\n",
              "  </thead>\n",
              "  <tbody>\n",
              "    <tr>\n",
              "      <th>0</th>\n",
              "      <td>1</td>\n",
              "      <td>0</td>\n",
              "      <td>0</td>\n",
              "      <td>0</td>\n",
              "      <td>0</td>\n",
              "      <td>0</td>\n",
              "      <td>0</td>\n",
              "      <td>0</td>\n",
              "      <td>0</td>\n",
              "      <td>0</td>\n",
              "      <td>0</td>\n",
              "      <td>0</td>\n",
              "      <td>0</td>\n",
              "      <td>0</td>\n",
              "      <td>0</td>\n",
              "      <td>2012-10-09</td>\n",
              "      <td>0.0000</td>\n",
              "      <td>0.0000</td>\n",
              "      <td>1</td>\n",
              "      <td>31.0087</td>\n",
              "    </tr>\n",
              "    <tr>\n",
              "      <th>1</th>\n",
              "      <td>1</td>\n",
              "      <td>2</td>\n",
              "      <td>0</td>\n",
              "      <td>0</td>\n",
              "      <td>0</td>\n",
              "      <td>0</td>\n",
              "      <td>0</td>\n",
              "      <td>0</td>\n",
              "      <td>0</td>\n",
              "      <td>0</td>\n",
              "      <td>0</td>\n",
              "      <td>0</td>\n",
              "      <td>0</td>\n",
              "      <td>0</td>\n",
              "      <td>0</td>\n",
              "      <td>2012-10-09</td>\n",
              "      <td>16.0084</td>\n",
              "      <td>15.0002</td>\n",
              "      <td>2</td>\n",
              "      <td>15.0003</td>\n",
              "    </tr>\n",
              "    <tr>\n",
              "      <th>2</th>\n",
              "      <td>1</td>\n",
              "      <td>2</td>\n",
              "      <td>3</td>\n",
              "      <td>0</td>\n",
              "      <td>0</td>\n",
              "      <td>0</td>\n",
              "      <td>0</td>\n",
              "      <td>0</td>\n",
              "      <td>0</td>\n",
              "      <td>0</td>\n",
              "      <td>0</td>\n",
              "      <td>0</td>\n",
              "      <td>0</td>\n",
              "      <td>0</td>\n",
              "      <td>0</td>\n",
              "      <td>2012-10-12</td>\n",
              "      <td>0.0001</td>\n",
              "      <td>15.0003</td>\n",
              "      <td>3</td>\n",
              "      <td>15.0002</td>\n",
              "    </tr>\n",
              "    <tr>\n",
              "      <th>3</th>\n",
              "      <td>1</td>\n",
              "      <td>2</td>\n",
              "      <td>3</td>\n",
              "      <td>5</td>\n",
              "      <td>0</td>\n",
              "      <td>0</td>\n",
              "      <td>0</td>\n",
              "      <td>0</td>\n",
              "      <td>0</td>\n",
              "      <td>0</td>\n",
              "      <td>0</td>\n",
              "      <td>0</td>\n",
              "      <td>0</td>\n",
              "      <td>0</td>\n",
              "      <td>0</td>\n",
              "      <td>2012-10-25</td>\n",
              "      <td>15.0002</td>\n",
              "      <td>31.0087</td>\n",
              "      <td>4</td>\n",
              "      <td>0.0000</td>\n",
              "    </tr>\n",
              "    <tr>\n",
              "      <th>4</th>\n",
              "      <td>1</td>\n",
              "      <td>0</td>\n",
              "      <td>0</td>\n",
              "      <td>0</td>\n",
              "      <td>0</td>\n",
              "      <td>0</td>\n",
              "      <td>0</td>\n",
              "      <td>0</td>\n",
              "      <td>0</td>\n",
              "      <td>0</td>\n",
              "      <td>0</td>\n",
              "      <td>0</td>\n",
              "      <td>0</td>\n",
              "      <td>0</td>\n",
              "      <td>0</td>\n",
              "      <td>2012-11-09</td>\n",
              "      <td>0.0000</td>\n",
              "      <td>0.0000</td>\n",
              "      <td>1</td>\n",
              "      <td>30.9822</td>\n",
              "    </tr>\n",
              "  </tbody>\n",
              "</table>\n",
              "</div>\n",
              "      <button class=\"colab-df-convert\" onclick=\"convertToInteractive('df-85a63c17-dcc5-40c7-bdfe-9770a72b1990')\"\n",
              "              title=\"Convert this dataframe to an interactive table.\"\n",
              "              style=\"display:none;\">\n",
              "        \n",
              "  <svg xmlns=\"http://www.w3.org/2000/svg\" height=\"24px\"viewBox=\"0 0 24 24\"\n",
              "       width=\"24px\">\n",
              "    <path d=\"M0 0h24v24H0V0z\" fill=\"none\"/>\n",
              "    <path d=\"M18.56 5.44l.94 2.06.94-2.06 2.06-.94-2.06-.94-.94-2.06-.94 2.06-2.06.94zm-11 1L8.5 8.5l.94-2.06 2.06-.94-2.06-.94L8.5 2.5l-.94 2.06-2.06.94zm10 10l.94 2.06.94-2.06 2.06-.94-2.06-.94-.94-2.06-.94 2.06-2.06.94z\"/><path d=\"M17.41 7.96l-1.37-1.37c-.4-.4-.92-.59-1.43-.59-.52 0-1.04.2-1.43.59L10.3 9.45l-7.72 7.72c-.78.78-.78 2.05 0 2.83L4 21.41c.39.39.9.59 1.41.59.51 0 1.02-.2 1.41-.59l7.78-7.78 2.81-2.81c.8-.78.8-2.07 0-2.86zM5.41 20L4 18.59l7.72-7.72 1.47 1.35L5.41 20z\"/>\n",
              "  </svg>\n",
              "      </button>\n",
              "      \n",
              "  <style>\n",
              "    .colab-df-container {\n",
              "      display:flex;\n",
              "      flex-wrap:wrap;\n",
              "      gap: 12px;\n",
              "    }\n",
              "\n",
              "    .colab-df-convert {\n",
              "      background-color: #E8F0FE;\n",
              "      border: none;\n",
              "      border-radius: 50%;\n",
              "      cursor: pointer;\n",
              "      display: none;\n",
              "      fill: #1967D2;\n",
              "      height: 32px;\n",
              "      padding: 0 0 0 0;\n",
              "      width: 32px;\n",
              "    }\n",
              "\n",
              "    .colab-df-convert:hover {\n",
              "      background-color: #E2EBFA;\n",
              "      box-shadow: 0px 1px 2px rgba(60, 64, 67, 0.3), 0px 1px 3px 1px rgba(60, 64, 67, 0.15);\n",
              "      fill: #174EA6;\n",
              "    }\n",
              "\n",
              "    [theme=dark] .colab-df-convert {\n",
              "      background-color: #3B4455;\n",
              "      fill: #D2E3FC;\n",
              "    }\n",
              "\n",
              "    [theme=dark] .colab-df-convert:hover {\n",
              "      background-color: #434B5C;\n",
              "      box-shadow: 0px 1px 3px 1px rgba(0, 0, 0, 0.15);\n",
              "      filter: drop-shadow(0px 1px 2px rgba(0, 0, 0, 0.3));\n",
              "      fill: #FFFFFF;\n",
              "    }\n",
              "  </style>\n",
              "\n",
              "      <script>\n",
              "        const buttonEl =\n",
              "          document.querySelector('#df-85a63c17-dcc5-40c7-bdfe-9770a72b1990 button.colab-df-convert');\n",
              "        buttonEl.style.display =\n",
              "          google.colab.kernel.accessAllowed ? 'block' : 'none';\n",
              "\n",
              "        async function convertToInteractive(key) {\n",
              "          const element = document.querySelector('#df-85a63c17-dcc5-40c7-bdfe-9770a72b1990');\n",
              "          const dataTable =\n",
              "            await google.colab.kernel.invokeFunction('convertToInteractive',\n",
              "                                                     [key], {});\n",
              "          if (!dataTable) return;\n",
              "\n",
              "          const docLinkHtml = 'Like what you see? Visit the ' +\n",
              "            '<a target=\"_blank\" href=https://colab.research.google.com/notebooks/data_table.ipynb>data table notebook</a>'\n",
              "            + ' to learn more about interactive tables.';\n",
              "          element.innerHTML = '';\n",
              "          dataTable['output_type'] = 'display_data';\n",
              "          await google.colab.output.renderOutput(dataTable, element);\n",
              "          const docLink = document.createElement('div');\n",
              "          docLink.innerHTML = docLinkHtml;\n",
              "          element.appendChild(docLink);\n",
              "        }\n",
              "      </script>\n",
              "    </div>\n",
              "  </div>\n",
              "  "
            ]
          },
          "metadata": {},
          "execution_count": 38
        }
      ]
    },
    {
      "cell_type": "code",
      "source": [
        "\"\"\"\n",
        "!pip install -Uqq ipdb\n",
        "import ipdb\n",
        "%pdb on\n",
        "\"\"\""
      ],
      "metadata": {
        "colab": {
          "base_uri": "https://localhost:8080/",
          "height": 37
        },
        "id": "3rPU2ejAFep6",
        "outputId": "6a60f778-3361-4203-d8ab-886d5af5b12c"
      },
      "id": "3rPU2ejAFep6",
      "execution_count": 39,
      "outputs": [
        {
          "output_type": "execute_result",
          "data": {
            "text/plain": [
              "'\\n!pip install -Uqq ipdb\\nimport ipdb\\n%pdb on\\n'"
            ],
            "application/vnd.google.colaboratory.intrinsic+json": {
              "type": "string"
            }
          },
          "metadata": {},
          "execution_count": 39
        }
      ]
    },
    {
      "cell_type": "code",
      "source": [
        "FEATURE_COLS = df.columns.tolist()\n",
        "FEATURE_COLS.remove('datetime')\n",
        "\n",
        "TARGET_COL = [\"TimeConclusion\"]"
      ],
      "metadata": {
        "id": "wE23st5CLvxD"
      },
      "id": "wE23st5CLvxD",
      "execution_count": 40,
      "outputs": []
    },
    {
      "cell_type": "code",
      "source": [
        "DIMENSION_FEAT = len(FEATURE_COLS)"
      ],
      "metadata": {
        "id": "w_-0f_smXaLW"
      },
      "id": "w_-0f_smXaLW",
      "execution_count": 41,
      "outputs": []
    },
    {
      "cell_type": "code",
      "source": [
        "DIMENSION_FEAT"
      ],
      "metadata": {
        "colab": {
          "base_uri": "https://localhost:8080/"
        },
        "id": "hQnf0D8iXfWh",
        "outputId": "27200ce9-4f7d-469f-ee37-d73b419a809f"
      },
      "id": "hQnf0D8iXfWh",
      "execution_count": 42,
      "outputs": [
        {
          "output_type": "execute_result",
          "data": {
            "text/plain": [
              "19"
            ]
          },
          "metadata": {},
          "execution_count": 42
        }
      ]
    },
    {
      "cell_type": "code",
      "source": [
        "print(FEATURE_COLS, sep=' ')"
      ],
      "metadata": {
        "colab": {
          "base_uri": "https://localhost:8080/"
        },
        "id": "1zX4Ep5MVyNv",
        "outputId": "8a1de491-06ee-4ba9-8770-f1685da1032a"
      },
      "id": "1zX4Ep5MVyNv",
      "execution_count": 43,
      "outputs": [
        {
          "output_type": "stream",
          "name": "stdout",
          "text": [
            "['0', '1', '2', '3', '4', '5', '6', '7', '8', '9', '10', '11', '12', '13', '14', 'Duration', 'PassedTime', 'Step', 'TimeConclusion']\n"
          ]
        }
      ]
    },
    {
      "cell_type": "code",
      "source": [
        "print(TARGET_COL)"
      ],
      "metadata": {
        "colab": {
          "base_uri": "https://localhost:8080/"
        },
        "id": "VNYmoR5fWFuA",
        "outputId": "7d8441ff-c334-4fd0-a04b-a88410f92539"
      },
      "id": "VNYmoR5fWFuA",
      "execution_count": 44,
      "outputs": [
        {
          "output_type": "stream",
          "name": "stdout",
          "text": [
            "['TimeConclusion']\n"
          ]
        }
      ]
    },
    {
      "cell_type": "markdown",
      "source": [
        "Config"
      ],
      "metadata": {
        "id": "hPt5W__jQ8mJ"
      },
      "id": "hPt5W__jQ8mJ"
    },
    {
      "cell_type": "code",
      "source": [
        "def make_config_file(flow_file_path, gage_id, station_id, weight_path=None, pretrained=[]):\n",
        "    run = wandb.init(project=\"github_aistream-peelout_flow-forecast\")\n",
        "    wandb_config = run.config\n",
        "    the_wandb_c = run.config\n",
        "    print(wandb_config)\n",
        "    the_config4 = {\"model_name\": \"DARNN\",\n",
        "        \"model_type\": \"PyTorch\",\n",
        "        \"model_params\": {\n",
        "        \"n_time_series\": (2+DIMENSION_FEAT),\n",
        "        \"forecast_history\": 14,\n",
        "        \"hidden_size_encoder\":32,\n",
        "        \"decoder_hidden_size\": 32,\n",
        "        \"out_feats\": 1,\n",
        "        \"dropout\": 0.1,\n",
        "        \"gru_lstm\": False},\n",
        "       \"dataset_params\":{\"class\": \"default\",\n",
        "       \"num_workers\":2,\n",
        "       \"pin_memory\": True,\n",
        "       \"training_path\": flow_file_path,\n",
        "       \"validation_path\": flow_file_path,\n",
        "       \"test_path\": flow_file_path,\n",
        "       \"batch_size\":200,\n",
        "       \"forecast_history\": (14 - 1),\n",
        "       \"forecast_length\": 1,\n",
        "       \"scaler\": \"StandardScaler\",\n",
        "       \"train_start\": TRAIN_START,\n",
        "       \"train_end\": TRAIN_END,\n",
        "       \"valid_start\": VAL_START,\n",
        "       \"valid_end\": VAL_END,\n",
        "       \"sort_column\": \"datetime\",# \"hour_updated\",\n",
        "       \"test_start\": TEST_START,\n",
        "       \"test_end\": TEST_END,\n",
        "       \"target_col\": TARGET_COL,\n",
        "       \"relevant_cols\": FEATURE_COLS, \n",
        "       \"interpolate\":{\n",
        "           \"method\":\"back_forward_generic\",\n",
        "           \"params\":{\n",
        "               \"relevant_columns\":FEATURE_COLS}\n",
        "           },\n",
        "      \"feature_param\":\n",
        "          {\n",
        "            \"datetime_params\":{\n",
        "            \"day\":\"numerical\",\n",
        "            \"month\": \"numerical\"\n",
        "            }\n",
        "          }\n",
        "       },\n",
        "    \"training_params\":\n",
        "    {\n",
        "       \"criterion\":\"L1\",\n",
        "       \"optimizer\": \"SGD\",\n",
        "       #\"criterion_params\":{\"baseline_method\":\"mean\"},\n",
        "    \"optim_params\":{\n",
        "       \"lr\": 0.001\n",
        "    },\n",
        "       \"epochs\": 12,\n",
        "       \"batch_size\": 200\n",
        "    },\n",
        "    \"early_stopping\":{\n",
        "        \"patience\":3\n",
        "    },\n",
        "    \"GCS\": False,\n",
        "    \"sweep\":True,\n",
        "    \"wandb\":False,\n",
        "    \"forward_params\":{},\n",
        "   \"metrics\":[\"MSE\", \"L1\"],\n",
        "   \"inference_params\":\n",
        "   {     \n",
        "          \"datetime_start\":DATETIME_START,\n",
        "          \"hours_to_forecast\": 72, \n",
        "          \"num_prediction_samples\": 20,\n",
        "          \"test_csv_path\":flow_file_path,\n",
        "          \"decoder_params\":{\n",
        "            \"decoder_function\": \"simple_decode\", \n",
        "            \"unsqueeze_dim\": 1},\n",
        "          \"dataset_params\":{\n",
        "             \"file_path\": flow_file_path,\n",
        "             \"sort_column\": \"datetime\",\n",
        "             \"scaling\": \"StandardScaler\",\n",
        "             \"forecast_history\": (14 - 1),\n",
        "             \"forecast_length\":1,\n",
        "             \"relevant_cols\": FEATURE_COLS,\n",
        "             \"target_col\": TARGET_COL,\n",
        "             \"interpolate_param\":{\n",
        "                 \"method\":\"back_forward_generic\",\n",
        "                 \"params\":{\"relevant_columns\":FEATURE_COLS}\n",
        "                 }, \n",
        "            \"feature_params\":\n",
        "        {\n",
        "         \"datetime_params\":{\n",
        "            \"day\":\"numerical\",\n",
        "            \"month\": \"numerical\"\n",
        "         \n",
        "     }\n",
        "             }\n",
        "          }\n",
        "          } \n",
        "    }\n",
        "\n",
        "      \n",
        "    if weight_path:\n",
        "        the_config4[\"weight_path\"] = weight_path\n",
        "    wandb.config.update(the_config4)\n",
        "    print(\"config made\")\n",
        "    return the_config4\n",
        "  \n",
        "wandb_sweep_config_full = {\n",
        "  \"name\": \"Default sweep\",\n",
        "  \"method\": \"grid\",\n",
        "  \"parameters\": {\n",
        "        \"forecast_length\":{\n",
        "            \"values\":[1]}\n",
        "            ,\n",
        "        \"batch_size\": {\n",
        "            \"values\": [200]#, 400, 600]\n",
        "        },\n",
        "        \"lr\":{\n",
        "            \"values\":[0.001]#, 0.0001, .01]\n",
        "        },\n",
        "        \"forecast_history\":{\n",
        "            \"values\":[14]#, 20, 24, 48]\n",
        "        },\n",
        "        \"out_seq_length\":{\n",
        "            \"values\":[1]\n",
        "        },\n",
        "        \"hidden_encoder\":\n",
        "        {\n",
        "            \"values\":[32]#, 64, 128, 256]\n",
        "        },\n",
        "        \"hidden_decoder\":\n",
        "        {\n",
        "            # 32, 64, 128 \n",
        "            \"values\":[32]#, 64, 128, 256]\n",
        "        }, \n",
        "        \"dropout\":\n",
        "        {\n",
        "            \"values\": [0.1],#, 0.3, 0.5, 0.8]\n",
        "        }\n",
        "  \n",
        "    }\n",
        "}"
      ],
      "metadata": {
        "id": "u6Ckdoi0Q7yT"
      },
      "id": "u6Ckdoi0Q7yT",
      "execution_count": 67,
      "outputs": []
    },
    {
      "cell_type": "code",
      "execution_count": 68,
      "id": "648be723",
      "metadata": {
        "execution": {
          "iopub.status.busy": "2021-10-18T07:23:19.999671Z",
          "iopub.status.idle": "2021-10-18T07:23:20.000095Z",
          "shell.execute_reply": "2021-10-18T07:23:19.999918Z",
          "shell.execute_reply.started": "2021-10-18T07:23:19.999895Z"
        },
        "papermill": {
          "duration": null,
          "end_time": null,
          "exception": null,
          "start_time": null,
          "status": "pending"
        },
        "tags": [],
        "colab": {
          "base_uri": "https://localhost:8080/",
          "height": 1000,
          "referenced_widgets": [
            "74af4574dbe54dfba0caad672a94cfce",
            "307f152da6f14993bacaa033b8f433e8",
            "e305e3ec0b484878bd3a25b3e8a15a69",
            "47855bcc51fb4709a3c3caf18804e68e",
            "3942e7e47fa54d968df00165177b2ec8",
            "625558743bd544b8bfb6bbd0bb362159",
            "b3e84624f9904122af3012c012836775",
            "22170817b92548d683070aa7df3d77a4"
          ]
        },
        "id": "648be723",
        "outputId": "64db3789-2ac4-4116-90ef-6065fd711e99"
      },
      "outputs": [
        {
          "output_type": "stream",
          "name": "stdout",
          "text": [
            "Create sweep with ID: 1s171u05\n",
            "Sweep URL: https://wandb.ai/ronildosilva/github_aistream-peelout_flow-forecast/sweeps/1s171u05\n"
          ]
        },
        {
          "output_type": "display_data",
          "data": {
            "text/plain": [
              "<IPython.core.display.HTML object>"
            ],
            "text/html": [
              "Changes to your `wandb` environment variables will be ignored because your `wandb` session has already started. For more information on how to modify your settings with `wandb.init()` arguments, please refer to <a href=\"https://wandb.me/wandb-init\" target=\"_blank\">the W&B docs</a>."
            ]
          },
          "metadata": {}
        },
        {
          "output_type": "display_data",
          "data": {
            "text/plain": [
              "<IPython.core.display.HTML object>"
            ],
            "text/html": [
              "Finishing last run (ID:1f25wuhy) before initializing another..."
            ]
          },
          "metadata": {}
        },
        {
          "output_type": "display_data",
          "data": {
            "text/plain": [
              "<IPython.core.display.HTML object>"
            ],
            "text/html": [
              "Waiting for W&B process to finish... <strong style=\"color:green\">(success).</strong>"
            ]
          },
          "metadata": {}
        },
        {
          "output_type": "display_data",
          "data": {
            "text/plain": [
              "VBox(children=(Label(value='0.555 MB of 0.555 MB uploaded (0.000 MB deduped)\\r'), FloatProgress(value=1.0, max…"
            ],
            "application/vnd.jupyter.widget-view+json": {
              "version_major": 2,
              "version_minor": 0,
              "model_id": "74af4574dbe54dfba0caad672a94cfce"
            }
          },
          "metadata": {}
        },
        {
          "output_type": "display_data",
          "data": {
            "text/plain": [
              "<IPython.core.display.HTML object>"
            ],
            "text/html": [
              "<style>\n",
              "    table.wandb td:nth-child(1) { padding: 0 10px; text-align: left ; width: auto;} td:nth-child(2) {text-align: left ; width: 100%}\n",
              "    .wandb-row { display: flex; flex-direction: row; flex-wrap: wrap; justify-content: flex-start; width: 100% }\n",
              "    .wandb-col { display: flex; flex-direction: column; flex-basis: 100%; flex: 1; padding: 10px; }\n",
              "    </style>\n",
              "<div class=\"wandb-row\"><div class=\"wandb-col\"><h3>Run history:</h3><br/><table class=\"wandb\"><tr><td>average_prediction_sharpe0</td><td>▁</td></tr><tr><td>epoch</td><td>▁▁▂▂▄▄▅▅▇▇███</td></tr><tr><td>loss</td><td>█▄▂▂▁▁</td></tr></table><br/></div><div class=\"wandb-col\"><h3>Run summary:</h3><br/><table class=\"wandb\"><tr><td>average_prediction_sharpe0</td><td>0.25691</td></tr><tr><td>epoch</td><td>5</td></tr><tr><td>loss</td><td>0.22225</td></tr></table><br/></div></div>"
            ]
          },
          "metadata": {}
        },
        {
          "output_type": "display_data",
          "data": {
            "text/plain": [
              "<IPython.core.display.HTML object>"
            ],
            "text/html": [
              "Synced <strong style=\"color:#cdcd00\">worthy-glade-238</strong>: <a href=\"https://wandb.ai/ronildosilva/github_aistream-peelout_flow-forecast/runs/1f25wuhy\" target=\"_blank\">https://wandb.ai/ronildosilva/github_aistream-peelout_flow-forecast/runs/1f25wuhy</a><br/>Synced 5 W&B file(s), 67 media file(s), 0 artifact file(s) and 0 other file(s)"
            ]
          },
          "metadata": {}
        },
        {
          "output_type": "display_data",
          "data": {
            "text/plain": [
              "<IPython.core.display.HTML object>"
            ],
            "text/html": [
              "Find logs at: <code>./wandb/run-20220916_190815-1f25wuhy/logs</code>"
            ]
          },
          "metadata": {}
        },
        {
          "output_type": "display_data",
          "data": {
            "text/plain": [
              "<IPython.core.display.HTML object>"
            ],
            "text/html": [
              "Successfully finished last run (ID:1f25wuhy). Initializing new run:<br/>"
            ]
          },
          "metadata": {}
        },
        {
          "output_type": "display_data",
          "data": {
            "text/plain": [
              "<IPython.core.display.HTML object>"
            ],
            "text/html": [
              "wandb version 0.13.3 is available!  To upgrade, please run:\n",
              " $ pip install wandb --upgrade"
            ]
          },
          "metadata": {}
        },
        {
          "output_type": "display_data",
          "data": {
            "text/plain": [
              "<IPython.core.display.HTML object>"
            ],
            "text/html": [
              "Tracking run with wandb version 0.12.17"
            ]
          },
          "metadata": {}
        },
        {
          "output_type": "display_data",
          "data": {
            "text/plain": [
              "<IPython.core.display.HTML object>"
            ],
            "text/html": [
              "Run data is saved locally in <code>/content/wandb/run-20220916_191427-2ir9xos9</code>"
            ]
          },
          "metadata": {}
        },
        {
          "output_type": "display_data",
          "data": {
            "text/plain": [
              "<IPython.core.display.HTML object>"
            ],
            "text/html": [
              "Syncing run <strong><a href=\"https://wandb.ai/ronildosilva/github_aistream-peelout_flow-forecast/runs/2ir9xos9\" target=\"_blank\">azure-puddle-240</a></strong> to <a href=\"https://wandb.ai/ronildosilva/github_aistream-peelout_flow-forecast\" target=\"_blank\">Weights & Biases</a> (<a href=\"https://wandb.me/run\" target=\"_blank\">docs</a>)<br/>"
            ]
          },
          "metadata": {}
        },
        {
          "output_type": "stream",
          "name": "stdout",
          "text": [
            "{}\n",
            "config made\n",
            "interpolate should be below\n",
            "Running code to add temporal features\n",
            "Created datetime feature columns are: \n",
            "['day', 'month']\n",
            "scaling now\n",
            "interpolate should be below\n",
            "Running code to add temporal features\n",
            "Created datetime feature columns are: \n",
            "['day', 'month']\n",
            "scaling now\n",
            "interpolate should be below\n",
            "Running code to add temporal features\n",
            "Created datetime feature columns are: \n",
            "['day', 'month']\n",
            "scaling now\n",
            "Using Wandb config:\n",
            "{'model_name': 'DARNN', 'model_type': 'PyTorch', 'model_params': {'n_time_series': 21, 'forecast_history': 14, 'hidden_size_encoder': 32, 'decoder_hidden_size': 32, 'out_feats': 1, 'dropout': 0.1, 'gru_lstm': False}, 'dataset_params': {'class': 'default', 'num_workers': 2, 'pin_memory': True, 'training_path': 'df_full.csv', 'validation_path': 'df_full.csv', 'test_path': 'df_full.csv', 'batch_size': 200, 'forecast_history': 13, 'forecast_length': 1, 'scaler': 'StandardScaler', 'train_start': 0, 'train_end': 12363, 'valid_start': 12364, 'valid_end': 16385, 'sort_column': 'datetime', 'test_start': 16386, 'test_end': 20405, 'target_col': ['TimeConclusion'], 'relevant_cols': ['0', '1', '2', '3', '4', '5', '6', '7', '8', '9', '10', '11', '12', '13', '14', 'Duration', 'PassedTime', 'Step', 'TimeConclusion'], 'interpolate': {'method': 'back_forward_generic', 'params': {'relevant_columns': ['0', '1', '2', '3', '4', '5', '6', '7', '8', '9', '10', '11', '12', '13', '14', 'Duration', 'PassedTime', 'Step', 'TimeConclusion']}}, 'feature_param': {'datetime_params': {'day': 'numerical', 'month': 'numerical'}}}, 'training_params': {'criterion': 'L1', 'optimizer': 'SGD', 'optim_params': {'lr': 0.001}, 'epochs': 12, 'batch_size': 200}, 'early_stopping': {'patience': 3}, 'GCS': False, 'sweep': True, 'wandb': False, 'forward_params': {}, 'metrics': ['MSE', 'L1'], 'inference_params': {'datetime_start': '2010-01-13', 'hours_to_forecast': 72, 'num_prediction_samples': 20, 'test_csv_path': 'df_full.csv', 'decoder_params': {'decoder_function': 'simple_decode', 'unsqueeze_dim': 1}, 'dataset_params': {'file_path': 'df_full.csv', 'sort_column': 'datetime', 'scaling': 'StandardScaler', 'forecast_history': 13, 'forecast_length': 1, 'relevant_cols': ['0', '1', '2', '3', '4', '5', '6', '7', '8', '9', '10', '11', '12', '13', '14', 'Duration', 'PassedTime', 'Step', 'TimeConclusion'], 'target_col': ['TimeConclusion'], 'interpolate_param': {'method': 'back_forward_generic', 'params': {'relevant_columns': ['0', '1', '2', '3', '4', '5', '6', '7', '8', '9', '10', '11', '12', '13', '14', 'Duration', 'PassedTime', 'Step', 'TimeConclusion']}}, 'feature_params': {'datetime_params': {'day': 'numerical', 'month': 'numerical'}}}}}\n",
            "Torch is using cpu\n",
            "using 2\n",
            "Pin memory set to true\n",
            "running torch_single_train\n",
            "The running loss is: \n",
            "14.055765133351088\n",
            "The number of items in train is: 62\n",
            "The loss for epoch 0\n",
            "0.22670588924759819\n",
            "Computing validation loss\n",
            "running torch_single_train\n",
            "The running loss is: \n",
            "12.647427707910538\n",
            "The number of items in train is: 62\n",
            "The loss for epoch 1\n",
            "0.20399076948242803\n",
            "Computing validation loss\n",
            "running torch_single_train\n",
            "The running loss is: \n",
            "12.64688016474247\n",
            "The number of items in train is: 62\n",
            "The loss for epoch 2\n",
            "0.20398193814100757\n",
            "Computing validation loss\n",
            "running torch_single_train\n",
            "The running loss is: \n",
            "12.643034365028143\n",
            "The number of items in train is: 62\n",
            "The loss for epoch 3\n",
            "0.20391990911335714\n",
            "Computing validation loss\n",
            "1\n",
            "running torch_single_train\n",
            "The running loss is: \n",
            "12.644894894212484\n",
            "The number of items in train is: 62\n",
            "The loss for epoch 4\n",
            "0.20394991764858847\n",
            "Computing validation loss\n",
            "2\n",
            "running torch_single_train\n",
            "The running loss is: \n",
            "12.637697525322437\n",
            "The number of items in train is: 62\n",
            "The loss for epoch 5\n",
            "0.2038338310535877\n",
            "Computing validation loss\n",
            "3\n",
            "Stopping model now\n",
            "Computing validation loss\n",
            "test loss: 4146.003573072364\n",
            "This model is currently forecasting for: 1 targets\n",
            "interpolate should be below\n",
            "Running code to add temporal features\n",
            "Created datetime feature columns are: \n",
            "['day', 'month']\n",
            "scaling now\n",
            "CSV Path below\n",
            "df_full.csv\n",
            "Add debugging crap below\n",
            "Add debugging crap below\n",
            "Add debugging crap below\n",
            "Add debugging crap below\n",
            "Add debugging crap below\n",
            "Add debugging crap below\n",
            "Add debugging crap below\n",
            "Add debugging crap below\n",
            "Add debugging crap below\n",
            "Add debugging crap below\n",
            "Add debugging crap below\n",
            "Add debugging crap below\n",
            "Add debugging crap below\n",
            "Add debugging crap below\n",
            "Add debugging crap below\n",
            "Add debugging crap below\n",
            "Add debugging crap below\n",
            "Add debugging crap below\n",
            "Add debugging crap below\n",
            "Add debugging crap below\n",
            "Add debugging crap below\n",
            "<class 'numpy.ndarray'>\n",
            "Un-transforming data\n",
            "Current historical dataframe \n",
            "      0  1  2  3  4  5  6  7  8  9  ...   datetime  Duration  PassedTime  \\\n",
            "1851  1  2  0  0  0  0  0  0  0  0  ... 2012-01-18    0.0245     34.9595   \n",
            "1852  1  2  3  0  0  0  0  0  0  0  ... 2012-01-18    0.0217     34.9812   \n",
            "1853  1  2  3  5  0  0  0  0  0  0  ... 2012-03-01   34.9595     35.0057   \n",
            "1854  1  0  0  0  0  0  0  0  0  0  ... 2010-01-19    0.1111      0.0000   \n",
            "1855  1  2  0  0  0  0  0  0  0  0  ... 2010-02-11    0.1738     42.8893   \n",
            "...  .. .. .. .. .. .. .. .. .. ..  ...        ...       ...         ...   \n",
            "1931  1  0  0  0  0  0  0  0  0  0  ... 2010-08-04    0.0000      0.0000   \n",
            "1932  1  2  0  0  0  0  0  0  0  0  ... 2010-09-15    2.0950     28.9091   \n",
            "1933  1  2  3  0  0  0  0  0  0  0  ... 2010-09-15    0.0003     28.9094   \n",
            "1934  1  2  3  5  0  0  0  0  0  0  ... 2010-09-15   28.9091     31.0044   \n",
            "1935  1  0  0  0  0  0  0  0  0  0  ... 2010-11-07    0.0000      0.0000   \n",
            "\n",
            "      Step  TimeConclusion original_index  day  month      preds  \\\n",
            "1851     2         34.9812           1851   18      1   0.000000   \n",
            "1852     3         34.9595           1852   18      1   0.000000   \n",
            "1853     4         -0.0000           1853    1      3   0.000000   \n",
            "1854     1         43.8941           1854   19      1   0.000000   \n",
            "1855     2         43.7203           1855   11      2   0.000000   \n",
            "...    ...             ...            ...  ...    ...        ...   \n",
            "1931     1         31.0044           1931    4      8  23.553303   \n",
            "1932     2         28.9094           1932   15      9  23.560549   \n",
            "1933     3         28.9091           1933   15      9  23.548641   \n",
            "1934     4          0.0000           1934   15      9  23.541515   \n",
            "1935     1         35.9825           1935    7     11  23.552731   \n",
            "\n",
            "      pred_TimeConclusion  \n",
            "1851             0.000000  \n",
            "1852             0.000000  \n",
            "1853             0.000000  \n",
            "1854             0.000000  \n",
            "1855             0.000000  \n",
            "...                   ...  \n",
            "1931            23.553303  \n",
            "1932            23.560549  \n",
            "1933            23.548641  \n",
            "1934            23.541515  \n",
            "1935            23.552731  \n",
            "\n",
            "[85 rows x 25 columns]\n"
          ]
        },
        {
          "output_type": "stream",
          "name": "stderr",
          "text": [
            "/usr/local/lib/python3.7/dist-packages/torch/nn/modules/module.py:1053: UserWarning:\n",
            "\n",
            "Using a non-full backward hook when the forward contains multiple autograd Nodes is deprecated and will be removed in future versions. This hook will be missing some grad_input. Please use register_full_backward_hook to get the documented behavior.\n",
            "\n",
            "/usr/local/lib/python3.7/dist-packages/torch/nn/modules/module.py:1043: UserWarning:\n",
            "\n",
            "Using a non-full backward hook when outputs are generated by different autograd Nodes is deprecated and will be removed in future versions. This hook will be missing some grad_output. Please use register_full_backward_hook to get the documented behavior.\n",
            "\n"
          ]
        },
        {
          "output_type": "stream",
          "name": "stdout",
          "text": [
            "plotting with CI now\n",
            "Now plotting final plots\n"
          ]
        }
      ],
      "source": [
        "import wandb\n",
        "from flood_forecast.trainer import train_function\n",
        "\n",
        "\n",
        "sweep_id = wandb.sweep(wandb_sweep_config_full, project=\"github_aistream-peelout_flow-forecast\")\n",
        "#sweep_id = \"03l75ilz\"\n",
        "\n",
        "#file_path = \"01010500FVE_flow.csv\"\n",
        "file_path = \"df_full.csv\"\n",
        "\n",
        "#wandb.agent(sweep_id, lambda: train_function(\"PyTorch\", make_config_file(file_path, \"01010500\", \"FVE\", None)))\n",
        "\n",
        "model = train_function(\"PyTorch\", make_config_file(file_path, \"01010500\", \"FVE\", None))"
      ]
    },
    {
      "cell_type": "code",
      "source": [
        "model.test_data.df"
      ],
      "metadata": {
        "id": "efhkpGKdG9RP",
        "colab": {
          "base_uri": "https://localhost:8080/",
          "height": 487
        },
        "outputId": "efa6f2d1-2874-48c6-a40a-934491c4d542"
      },
      "id": "efhkpGKdG9RP",
      "execution_count": 69,
      "outputs": [
        {
          "output_type": "execute_result",
          "data": {
            "text/plain": [
              "              0         1         2         3         4        5         6  \\\n",
              "6156  -0.197868  0.411135  0.593365  2.008866 -0.357816 -0.20214 -0.114685   \n",
              "16218 -0.197868  0.411135  1.139684  0.946181  3.388155 -0.20214 -0.114685   \n",
              "6178  -0.197868  0.411135  0.593365  2.008866 -0.357816 -0.20214 -0.114685   \n",
              "15586  0.914066  2.487743  0.593365 -0.647846 -0.357816 -0.20214 -0.114685   \n",
              "19618 -0.197868  0.411135 -1.045594 -0.647846 -0.357816 -0.20214 -0.114685   \n",
              "...         ...       ...       ...       ...       ...      ...       ...   \n",
              "5364   5.361801 -1.665472 -1.045594 -0.647846 -0.357816 -0.20214 -0.114685   \n",
              "19218 -0.197868  0.411135  0.593365 -0.647846 -0.357816 -0.20214 -0.114685   \n",
              "13239 -0.197868  0.411135 -1.045594 -0.647846 -0.357816 -0.20214 -0.114685   \n",
              "1489   5.361801 -1.665472 -1.045594 -0.647846 -0.357816 -0.20214 -0.114685   \n",
              "8706  -0.197868  0.411135  0.593365  2.008866 -0.357816 -0.20214 -0.114685   \n",
              "\n",
              "             7         8         9  ...        11        12   13   14  \\\n",
              "6156  -0.09391 -0.061848 -0.047687  ... -0.026473 -0.015778  0.0  0.0   \n",
              "16218 -0.09391 -0.061848 -0.047687  ... -0.026473 -0.015778  0.0  0.0   \n",
              "6178  -0.09391 -0.061848 -0.047687  ... -0.026473 -0.015778  0.0  0.0   \n",
              "15586 -0.09391 -0.061848 -0.047687  ... -0.026473 -0.015778  0.0  0.0   \n",
              "19618 -0.09391 -0.061848 -0.047687  ... -0.026473 -0.015778  0.0  0.0   \n",
              "...        ...       ...       ...  ...       ...       ...  ...  ...   \n",
              "5364  -0.09391 -0.061848 -0.047687  ... -0.026473 -0.015778  0.0  0.0   \n",
              "19218 -0.09391 -0.061848 -0.047687  ... -0.026473 -0.015778  0.0  0.0   \n",
              "13239 -0.09391 -0.061848 -0.047687  ... -0.026473 -0.015778  0.0  0.0   \n",
              "1489  -0.09391 -0.061848 -0.047687  ... -0.026473 -0.015778  0.0  0.0   \n",
              "8706  -0.09391 -0.061848 -0.047687  ... -0.026473 -0.015778  0.0  0.0   \n",
              "\n",
              "       Duration  PassedTime      Step  TimeConclusion  day  month  \n",
              "6156   1.596024    0.531093  0.728307       -1.518155    5      9  \n",
              "16218  0.410794    0.359955  1.377738       -1.518155    5      9  \n",
              "6178   1.742839    0.531210  0.728307       -1.518155    5      9  \n",
              "15586  1.125132    0.701112  0.078876       -0.682865    5      9  \n",
              "19618  0.607161   -0.691494 -0.570555       -0.627119    5      9  \n",
              "...         ...         ...       ...             ...  ...    ...  \n",
              "5364  -0.658879   -1.526494 -1.219986        1.821177    3      1  \n",
              "19218 -0.428211   -0.511439  0.078876       -0.682865    3      1  \n",
              "13239 -0.658864    0.152918 -0.570555        0.208188    3      1  \n",
              "1489  -0.658879   -1.526494 -1.219986        0.765040    3      1  \n",
              "8706   0.993522    0.310646  0.728307       -1.518155    3      1  \n",
              "\n",
              "[4018 rows x 21 columns]"
            ],
            "text/html": [
              "\n",
              "  <div id=\"df-f29ee9c4-1dde-48af-b6ef-44cb8a937fe9\">\n",
              "    <div class=\"colab-df-container\">\n",
              "      <div>\n",
              "<style scoped>\n",
              "    .dataframe tbody tr th:only-of-type {\n",
              "        vertical-align: middle;\n",
              "    }\n",
              "\n",
              "    .dataframe tbody tr th {\n",
              "        vertical-align: top;\n",
              "    }\n",
              "\n",
              "    .dataframe thead th {\n",
              "        text-align: right;\n",
              "    }\n",
              "</style>\n",
              "<table border=\"1\" class=\"dataframe\">\n",
              "  <thead>\n",
              "    <tr style=\"text-align: right;\">\n",
              "      <th></th>\n",
              "      <th>0</th>\n",
              "      <th>1</th>\n",
              "      <th>2</th>\n",
              "      <th>3</th>\n",
              "      <th>4</th>\n",
              "      <th>5</th>\n",
              "      <th>6</th>\n",
              "      <th>7</th>\n",
              "      <th>8</th>\n",
              "      <th>9</th>\n",
              "      <th>...</th>\n",
              "      <th>11</th>\n",
              "      <th>12</th>\n",
              "      <th>13</th>\n",
              "      <th>14</th>\n",
              "      <th>Duration</th>\n",
              "      <th>PassedTime</th>\n",
              "      <th>Step</th>\n",
              "      <th>TimeConclusion</th>\n",
              "      <th>day</th>\n",
              "      <th>month</th>\n",
              "    </tr>\n",
              "  </thead>\n",
              "  <tbody>\n",
              "    <tr>\n",
              "      <th>6156</th>\n",
              "      <td>-0.197868</td>\n",
              "      <td>0.411135</td>\n",
              "      <td>0.593365</td>\n",
              "      <td>2.008866</td>\n",
              "      <td>-0.357816</td>\n",
              "      <td>-0.20214</td>\n",
              "      <td>-0.114685</td>\n",
              "      <td>-0.09391</td>\n",
              "      <td>-0.061848</td>\n",
              "      <td>-0.047687</td>\n",
              "      <td>...</td>\n",
              "      <td>-0.026473</td>\n",
              "      <td>-0.015778</td>\n",
              "      <td>0.0</td>\n",
              "      <td>0.0</td>\n",
              "      <td>1.596024</td>\n",
              "      <td>0.531093</td>\n",
              "      <td>0.728307</td>\n",
              "      <td>-1.518155</td>\n",
              "      <td>5</td>\n",
              "      <td>9</td>\n",
              "    </tr>\n",
              "    <tr>\n",
              "      <th>16218</th>\n",
              "      <td>-0.197868</td>\n",
              "      <td>0.411135</td>\n",
              "      <td>1.139684</td>\n",
              "      <td>0.946181</td>\n",
              "      <td>3.388155</td>\n",
              "      <td>-0.20214</td>\n",
              "      <td>-0.114685</td>\n",
              "      <td>-0.09391</td>\n",
              "      <td>-0.061848</td>\n",
              "      <td>-0.047687</td>\n",
              "      <td>...</td>\n",
              "      <td>-0.026473</td>\n",
              "      <td>-0.015778</td>\n",
              "      <td>0.0</td>\n",
              "      <td>0.0</td>\n",
              "      <td>0.410794</td>\n",
              "      <td>0.359955</td>\n",
              "      <td>1.377738</td>\n",
              "      <td>-1.518155</td>\n",
              "      <td>5</td>\n",
              "      <td>9</td>\n",
              "    </tr>\n",
              "    <tr>\n",
              "      <th>6178</th>\n",
              "      <td>-0.197868</td>\n",
              "      <td>0.411135</td>\n",
              "      <td>0.593365</td>\n",
              "      <td>2.008866</td>\n",
              "      <td>-0.357816</td>\n",
              "      <td>-0.20214</td>\n",
              "      <td>-0.114685</td>\n",
              "      <td>-0.09391</td>\n",
              "      <td>-0.061848</td>\n",
              "      <td>-0.047687</td>\n",
              "      <td>...</td>\n",
              "      <td>-0.026473</td>\n",
              "      <td>-0.015778</td>\n",
              "      <td>0.0</td>\n",
              "      <td>0.0</td>\n",
              "      <td>1.742839</td>\n",
              "      <td>0.531210</td>\n",
              "      <td>0.728307</td>\n",
              "      <td>-1.518155</td>\n",
              "      <td>5</td>\n",
              "      <td>9</td>\n",
              "    </tr>\n",
              "    <tr>\n",
              "      <th>15586</th>\n",
              "      <td>0.914066</td>\n",
              "      <td>2.487743</td>\n",
              "      <td>0.593365</td>\n",
              "      <td>-0.647846</td>\n",
              "      <td>-0.357816</td>\n",
              "      <td>-0.20214</td>\n",
              "      <td>-0.114685</td>\n",
              "      <td>-0.09391</td>\n",
              "      <td>-0.061848</td>\n",
              "      <td>-0.047687</td>\n",
              "      <td>...</td>\n",
              "      <td>-0.026473</td>\n",
              "      <td>-0.015778</td>\n",
              "      <td>0.0</td>\n",
              "      <td>0.0</td>\n",
              "      <td>1.125132</td>\n",
              "      <td>0.701112</td>\n",
              "      <td>0.078876</td>\n",
              "      <td>-0.682865</td>\n",
              "      <td>5</td>\n",
              "      <td>9</td>\n",
              "    </tr>\n",
              "    <tr>\n",
              "      <th>19618</th>\n",
              "      <td>-0.197868</td>\n",
              "      <td>0.411135</td>\n",
              "      <td>-1.045594</td>\n",
              "      <td>-0.647846</td>\n",
              "      <td>-0.357816</td>\n",
              "      <td>-0.20214</td>\n",
              "      <td>-0.114685</td>\n",
              "      <td>-0.09391</td>\n",
              "      <td>-0.061848</td>\n",
              "      <td>-0.047687</td>\n",
              "      <td>...</td>\n",
              "      <td>-0.026473</td>\n",
              "      <td>-0.015778</td>\n",
              "      <td>0.0</td>\n",
              "      <td>0.0</td>\n",
              "      <td>0.607161</td>\n",
              "      <td>-0.691494</td>\n",
              "      <td>-0.570555</td>\n",
              "      <td>-0.627119</td>\n",
              "      <td>5</td>\n",
              "      <td>9</td>\n",
              "    </tr>\n",
              "    <tr>\n",
              "      <th>...</th>\n",
              "      <td>...</td>\n",
              "      <td>...</td>\n",
              "      <td>...</td>\n",
              "      <td>...</td>\n",
              "      <td>...</td>\n",
              "      <td>...</td>\n",
              "      <td>...</td>\n",
              "      <td>...</td>\n",
              "      <td>...</td>\n",
              "      <td>...</td>\n",
              "      <td>...</td>\n",
              "      <td>...</td>\n",
              "      <td>...</td>\n",
              "      <td>...</td>\n",
              "      <td>...</td>\n",
              "      <td>...</td>\n",
              "      <td>...</td>\n",
              "      <td>...</td>\n",
              "      <td>...</td>\n",
              "      <td>...</td>\n",
              "      <td>...</td>\n",
              "    </tr>\n",
              "    <tr>\n",
              "      <th>5364</th>\n",
              "      <td>5.361801</td>\n",
              "      <td>-1.665472</td>\n",
              "      <td>-1.045594</td>\n",
              "      <td>-0.647846</td>\n",
              "      <td>-0.357816</td>\n",
              "      <td>-0.20214</td>\n",
              "      <td>-0.114685</td>\n",
              "      <td>-0.09391</td>\n",
              "      <td>-0.061848</td>\n",
              "      <td>-0.047687</td>\n",
              "      <td>...</td>\n",
              "      <td>-0.026473</td>\n",
              "      <td>-0.015778</td>\n",
              "      <td>0.0</td>\n",
              "      <td>0.0</td>\n",
              "      <td>-0.658879</td>\n",
              "      <td>-1.526494</td>\n",
              "      <td>-1.219986</td>\n",
              "      <td>1.821177</td>\n",
              "      <td>3</td>\n",
              "      <td>1</td>\n",
              "    </tr>\n",
              "    <tr>\n",
              "      <th>19218</th>\n",
              "      <td>-0.197868</td>\n",
              "      <td>0.411135</td>\n",
              "      <td>0.593365</td>\n",
              "      <td>-0.647846</td>\n",
              "      <td>-0.357816</td>\n",
              "      <td>-0.20214</td>\n",
              "      <td>-0.114685</td>\n",
              "      <td>-0.09391</td>\n",
              "      <td>-0.061848</td>\n",
              "      <td>-0.047687</td>\n",
              "      <td>...</td>\n",
              "      <td>-0.026473</td>\n",
              "      <td>-0.015778</td>\n",
              "      <td>0.0</td>\n",
              "      <td>0.0</td>\n",
              "      <td>-0.428211</td>\n",
              "      <td>-0.511439</td>\n",
              "      <td>0.078876</td>\n",
              "      <td>-0.682865</td>\n",
              "      <td>3</td>\n",
              "      <td>1</td>\n",
              "    </tr>\n",
              "    <tr>\n",
              "      <th>13239</th>\n",
              "      <td>-0.197868</td>\n",
              "      <td>0.411135</td>\n",
              "      <td>-1.045594</td>\n",
              "      <td>-0.647846</td>\n",
              "      <td>-0.357816</td>\n",
              "      <td>-0.20214</td>\n",
              "      <td>-0.114685</td>\n",
              "      <td>-0.09391</td>\n",
              "      <td>-0.061848</td>\n",
              "      <td>-0.047687</td>\n",
              "      <td>...</td>\n",
              "      <td>-0.026473</td>\n",
              "      <td>-0.015778</td>\n",
              "      <td>0.0</td>\n",
              "      <td>0.0</td>\n",
              "      <td>-0.658864</td>\n",
              "      <td>0.152918</td>\n",
              "      <td>-0.570555</td>\n",
              "      <td>0.208188</td>\n",
              "      <td>3</td>\n",
              "      <td>1</td>\n",
              "    </tr>\n",
              "    <tr>\n",
              "      <th>1489</th>\n",
              "      <td>5.361801</td>\n",
              "      <td>-1.665472</td>\n",
              "      <td>-1.045594</td>\n",
              "      <td>-0.647846</td>\n",
              "      <td>-0.357816</td>\n",
              "      <td>-0.20214</td>\n",
              "      <td>-0.114685</td>\n",
              "      <td>-0.09391</td>\n",
              "      <td>-0.061848</td>\n",
              "      <td>-0.047687</td>\n",
              "      <td>...</td>\n",
              "      <td>-0.026473</td>\n",
              "      <td>-0.015778</td>\n",
              "      <td>0.0</td>\n",
              "      <td>0.0</td>\n",
              "      <td>-0.658879</td>\n",
              "      <td>-1.526494</td>\n",
              "      <td>-1.219986</td>\n",
              "      <td>0.765040</td>\n",
              "      <td>3</td>\n",
              "      <td>1</td>\n",
              "    </tr>\n",
              "    <tr>\n",
              "      <th>8706</th>\n",
              "      <td>-0.197868</td>\n",
              "      <td>0.411135</td>\n",
              "      <td>0.593365</td>\n",
              "      <td>2.008866</td>\n",
              "      <td>-0.357816</td>\n",
              "      <td>-0.20214</td>\n",
              "      <td>-0.114685</td>\n",
              "      <td>-0.09391</td>\n",
              "      <td>-0.061848</td>\n",
              "      <td>-0.047687</td>\n",
              "      <td>...</td>\n",
              "      <td>-0.026473</td>\n",
              "      <td>-0.015778</td>\n",
              "      <td>0.0</td>\n",
              "      <td>0.0</td>\n",
              "      <td>0.993522</td>\n",
              "      <td>0.310646</td>\n",
              "      <td>0.728307</td>\n",
              "      <td>-1.518155</td>\n",
              "      <td>3</td>\n",
              "      <td>1</td>\n",
              "    </tr>\n",
              "  </tbody>\n",
              "</table>\n",
              "<p>4018 rows × 21 columns</p>\n",
              "</div>\n",
              "      <button class=\"colab-df-convert\" onclick=\"convertToInteractive('df-f29ee9c4-1dde-48af-b6ef-44cb8a937fe9')\"\n",
              "              title=\"Convert this dataframe to an interactive table.\"\n",
              "              style=\"display:none;\">\n",
              "        \n",
              "  <svg xmlns=\"http://www.w3.org/2000/svg\" height=\"24px\"viewBox=\"0 0 24 24\"\n",
              "       width=\"24px\">\n",
              "    <path d=\"M0 0h24v24H0V0z\" fill=\"none\"/>\n",
              "    <path d=\"M18.56 5.44l.94 2.06.94-2.06 2.06-.94-2.06-.94-.94-2.06-.94 2.06-2.06.94zm-11 1L8.5 8.5l.94-2.06 2.06-.94-2.06-.94L8.5 2.5l-.94 2.06-2.06.94zm10 10l.94 2.06.94-2.06 2.06-.94-2.06-.94-.94-2.06-.94 2.06-2.06.94z\"/><path d=\"M17.41 7.96l-1.37-1.37c-.4-.4-.92-.59-1.43-.59-.52 0-1.04.2-1.43.59L10.3 9.45l-7.72 7.72c-.78.78-.78 2.05 0 2.83L4 21.41c.39.39.9.59 1.41.59.51 0 1.02-.2 1.41-.59l7.78-7.78 2.81-2.81c.8-.78.8-2.07 0-2.86zM5.41 20L4 18.59l7.72-7.72 1.47 1.35L5.41 20z\"/>\n",
              "  </svg>\n",
              "      </button>\n",
              "      \n",
              "  <style>\n",
              "    .colab-df-container {\n",
              "      display:flex;\n",
              "      flex-wrap:wrap;\n",
              "      gap: 12px;\n",
              "    }\n",
              "\n",
              "    .colab-df-convert {\n",
              "      background-color: #E8F0FE;\n",
              "      border: none;\n",
              "      border-radius: 50%;\n",
              "      cursor: pointer;\n",
              "      display: none;\n",
              "      fill: #1967D2;\n",
              "      height: 32px;\n",
              "      padding: 0 0 0 0;\n",
              "      width: 32px;\n",
              "    }\n",
              "\n",
              "    .colab-df-convert:hover {\n",
              "      background-color: #E2EBFA;\n",
              "      box-shadow: 0px 1px 2px rgba(60, 64, 67, 0.3), 0px 1px 3px 1px rgba(60, 64, 67, 0.15);\n",
              "      fill: #174EA6;\n",
              "    }\n",
              "\n",
              "    [theme=dark] .colab-df-convert {\n",
              "      background-color: #3B4455;\n",
              "      fill: #D2E3FC;\n",
              "    }\n",
              "\n",
              "    [theme=dark] .colab-df-convert:hover {\n",
              "      background-color: #434B5C;\n",
              "      box-shadow: 0px 1px 3px 1px rgba(0, 0, 0, 0.15);\n",
              "      filter: drop-shadow(0px 1px 2px rgba(0, 0, 0, 0.3));\n",
              "      fill: #FFFFFF;\n",
              "    }\n",
              "  </style>\n",
              "\n",
              "      <script>\n",
              "        const buttonEl =\n",
              "          document.querySelector('#df-f29ee9c4-1dde-48af-b6ef-44cb8a937fe9 button.colab-df-convert');\n",
              "        buttonEl.style.display =\n",
              "          google.colab.kernel.accessAllowed ? 'block' : 'none';\n",
              "\n",
              "        async function convertToInteractive(key) {\n",
              "          const element = document.querySelector('#df-f29ee9c4-1dde-48af-b6ef-44cb8a937fe9');\n",
              "          const dataTable =\n",
              "            await google.colab.kernel.invokeFunction('convertToInteractive',\n",
              "                                                     [key], {});\n",
              "          if (!dataTable) return;\n",
              "\n",
              "          const docLinkHtml = 'Like what you see? Visit the ' +\n",
              "            '<a target=\"_blank\" href=https://colab.research.google.com/notebooks/data_table.ipynb>data table notebook</a>'\n",
              "            + ' to learn more about interactive tables.';\n",
              "          element.innerHTML = '';\n",
              "          dataTable['output_type'] = 'display_data';\n",
              "          await google.colab.output.renderOutput(dataTable, element);\n",
              "          const docLink = document.createElement('div');\n",
              "          docLink.innerHTML = docLinkHtml;\n",
              "          element.appendChild(docLink);\n",
              "        }\n",
              "      </script>\n",
              "    </div>\n",
              "  </div>\n",
              "  "
            ]
          },
          "metadata": {},
          "execution_count": 69
        }
      ]
    },
    {
      "cell_type": "code",
      "source": [],
      "metadata": {
        "id": "FPnvqxgZuUWj"
      },
      "id": "FPnvqxgZuUWj",
      "execution_count": null,
      "outputs": []
    }
  ],
  "metadata": {
    "kernelspec": {
      "display_name": "Python 3 (ipykernel)",
      "language": "python",
      "name": "python3"
    },
    "language_info": {
      "codemirror_mode": {
        "name": "ipython",
        "version": 3
      },
      "file_extension": ".py",
      "mimetype": "text/x-python",
      "name": "python",
      "nbconvert_exporter": "python",
      "pygments_lexer": "ipython3",
      "version": "3.8.10"
    },
    "papermill": {
      "default_parameters": {},
      "duration": 29.538863,
      "end_time": "2021-10-18T07:45:15.523057",
      "environment_variables": {},
      "exception": true,
      "input_path": "__notebook__.ipynb",
      "output_path": "__notebook__.ipynb",
      "parameters": {},
      "start_time": "2021-10-18T07:44:45.984194",
      "version": "2.3.3"
    },
    "colab": {
      "provenance": [],
      "collapsed_sections": [],
      "include_colab_link": true
    },
    "widgets": {
      "application/vnd.jupyter.widget-state+json": {
        "74af4574dbe54dfba0caad672a94cfce": {
          "model_module": "@jupyter-widgets/controls",
          "model_name": "VBoxModel",
          "model_module_version": "1.5.0",
          "state": {
            "_dom_classes": [],
            "_model_module": "@jupyter-widgets/controls",
            "_model_module_version": "1.5.0",
            "_model_name": "VBoxModel",
            "_view_count": null,
            "_view_module": "@jupyter-widgets/controls",
            "_view_module_version": "1.5.0",
            "_view_name": "VBoxView",
            "box_style": "",
            "children": [
              "IPY_MODEL_307f152da6f14993bacaa033b8f433e8",
              "IPY_MODEL_e305e3ec0b484878bd3a25b3e8a15a69"
            ],
            "layout": "IPY_MODEL_47855bcc51fb4709a3c3caf18804e68e"
          }
        },
        "307f152da6f14993bacaa033b8f433e8": {
          "model_module": "@jupyter-widgets/controls",
          "model_name": "LabelModel",
          "model_module_version": "1.5.0",
          "state": {
            "_dom_classes": [],
            "_model_module": "@jupyter-widgets/controls",
            "_model_module_version": "1.5.0",
            "_model_name": "LabelModel",
            "_view_count": null,
            "_view_module": "@jupyter-widgets/controls",
            "_view_module_version": "1.5.0",
            "_view_name": "LabelView",
            "description": "",
            "description_tooltip": null,
            "layout": "IPY_MODEL_3942e7e47fa54d968df00165177b2ec8",
            "placeholder": "​",
            "style": "IPY_MODEL_625558743bd544b8bfb6bbd0bb362159",
            "value": "0.597 MB of 0.597 MB uploaded (0.000 MB deduped)\r"
          }
        },
        "e305e3ec0b484878bd3a25b3e8a15a69": {
          "model_module": "@jupyter-widgets/controls",
          "model_name": "FloatProgressModel",
          "model_module_version": "1.5.0",
          "state": {
            "_dom_classes": [],
            "_model_module": "@jupyter-widgets/controls",
            "_model_module_version": "1.5.0",
            "_model_name": "FloatProgressModel",
            "_view_count": null,
            "_view_module": "@jupyter-widgets/controls",
            "_view_module_version": "1.5.0",
            "_view_name": "ProgressView",
            "bar_style": "",
            "description": "",
            "description_tooltip": null,
            "layout": "IPY_MODEL_b3e84624f9904122af3012c012836775",
            "max": 1,
            "min": 0,
            "orientation": "horizontal",
            "style": "IPY_MODEL_22170817b92548d683070aa7df3d77a4",
            "value": 1
          }
        },
        "47855bcc51fb4709a3c3caf18804e68e": {
          "model_module": "@jupyter-widgets/base",
          "model_name": "LayoutModel",
          "model_module_version": "1.2.0",
          "state": {
            "_model_module": "@jupyter-widgets/base",
            "_model_module_version": "1.2.0",
            "_model_name": "LayoutModel",
            "_view_count": null,
            "_view_module": "@jupyter-widgets/base",
            "_view_module_version": "1.2.0",
            "_view_name": "LayoutView",
            "align_content": null,
            "align_items": null,
            "align_self": null,
            "border": null,
            "bottom": null,
            "display": null,
            "flex": null,
            "flex_flow": null,
            "grid_area": null,
            "grid_auto_columns": null,
            "grid_auto_flow": null,
            "grid_auto_rows": null,
            "grid_column": null,
            "grid_gap": null,
            "grid_row": null,
            "grid_template_areas": null,
            "grid_template_columns": null,
            "grid_template_rows": null,
            "height": null,
            "justify_content": null,
            "justify_items": null,
            "left": null,
            "margin": null,
            "max_height": null,
            "max_width": null,
            "min_height": null,
            "min_width": null,
            "object_fit": null,
            "object_position": null,
            "order": null,
            "overflow": null,
            "overflow_x": null,
            "overflow_y": null,
            "padding": null,
            "right": null,
            "top": null,
            "visibility": null,
            "width": null
          }
        },
        "3942e7e47fa54d968df00165177b2ec8": {
          "model_module": "@jupyter-widgets/base",
          "model_name": "LayoutModel",
          "model_module_version": "1.2.0",
          "state": {
            "_model_module": "@jupyter-widgets/base",
            "_model_module_version": "1.2.0",
            "_model_name": "LayoutModel",
            "_view_count": null,
            "_view_module": "@jupyter-widgets/base",
            "_view_module_version": "1.2.0",
            "_view_name": "LayoutView",
            "align_content": null,
            "align_items": null,
            "align_self": null,
            "border": null,
            "bottom": null,
            "display": null,
            "flex": null,
            "flex_flow": null,
            "grid_area": null,
            "grid_auto_columns": null,
            "grid_auto_flow": null,
            "grid_auto_rows": null,
            "grid_column": null,
            "grid_gap": null,
            "grid_row": null,
            "grid_template_areas": null,
            "grid_template_columns": null,
            "grid_template_rows": null,
            "height": null,
            "justify_content": null,
            "justify_items": null,
            "left": null,
            "margin": null,
            "max_height": null,
            "max_width": null,
            "min_height": null,
            "min_width": null,
            "object_fit": null,
            "object_position": null,
            "order": null,
            "overflow": null,
            "overflow_x": null,
            "overflow_y": null,
            "padding": null,
            "right": null,
            "top": null,
            "visibility": null,
            "width": null
          }
        },
        "625558743bd544b8bfb6bbd0bb362159": {
          "model_module": "@jupyter-widgets/controls",
          "model_name": "DescriptionStyleModel",
          "model_module_version": "1.5.0",
          "state": {
            "_model_module": "@jupyter-widgets/controls",
            "_model_module_version": "1.5.0",
            "_model_name": "DescriptionStyleModel",
            "_view_count": null,
            "_view_module": "@jupyter-widgets/base",
            "_view_module_version": "1.2.0",
            "_view_name": "StyleView",
            "description_width": ""
          }
        },
        "b3e84624f9904122af3012c012836775": {
          "model_module": "@jupyter-widgets/base",
          "model_name": "LayoutModel",
          "model_module_version": "1.2.0",
          "state": {
            "_model_module": "@jupyter-widgets/base",
            "_model_module_version": "1.2.0",
            "_model_name": "LayoutModel",
            "_view_count": null,
            "_view_module": "@jupyter-widgets/base",
            "_view_module_version": "1.2.0",
            "_view_name": "LayoutView",
            "align_content": null,
            "align_items": null,
            "align_self": null,
            "border": null,
            "bottom": null,
            "display": null,
            "flex": null,
            "flex_flow": null,
            "grid_area": null,
            "grid_auto_columns": null,
            "grid_auto_flow": null,
            "grid_auto_rows": null,
            "grid_column": null,
            "grid_gap": null,
            "grid_row": null,
            "grid_template_areas": null,
            "grid_template_columns": null,
            "grid_template_rows": null,
            "height": null,
            "justify_content": null,
            "justify_items": null,
            "left": null,
            "margin": null,
            "max_height": null,
            "max_width": null,
            "min_height": null,
            "min_width": null,
            "object_fit": null,
            "object_position": null,
            "order": null,
            "overflow": null,
            "overflow_x": null,
            "overflow_y": null,
            "padding": null,
            "right": null,
            "top": null,
            "visibility": null,
            "width": null
          }
        },
        "22170817b92548d683070aa7df3d77a4": {
          "model_module": "@jupyter-widgets/controls",
          "model_name": "ProgressStyleModel",
          "model_module_version": "1.5.0",
          "state": {
            "_model_module": "@jupyter-widgets/controls",
            "_model_module_version": "1.5.0",
            "_model_name": "ProgressStyleModel",
            "_view_count": null,
            "_view_module": "@jupyter-widgets/base",
            "_view_module_version": "1.2.0",
            "_view_name": "StyleView",
            "bar_color": null,
            "description_width": ""
          }
        }
      }
    }
  },
  "nbformat": 4,
  "nbformat_minor": 5
}