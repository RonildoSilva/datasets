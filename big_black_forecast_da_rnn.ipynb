{
  "cells": [
    {
      "cell_type": "markdown",
      "metadata": {
        "id": "view-in-github",
        "colab_type": "text"
      },
      "source": [
        "<a href=\"https://colab.research.google.com/github/RonildoSilva/datasets/blob/main/big_black_forecast_da_rnn.ipynb\" target=\"_parent\"><img src=\"https://colab.research.google.com/assets/colab-badge.svg\" alt=\"Open In Colab\"/></a>"
      ]
    },
    {
      "cell_type": "code",
      "execution_count": 1,
      "id": "b8558057",
      "metadata": {
        "_cell_guid": "b1076dfc-b9ad-4769-8c92-a6c4dae69d19",
        "_uuid": "8f2839f25d086af736a60e9eeb907d3b93b6e0e5",
        "execution": {
          "iopub.execute_input": "2021-10-18T07:44:53.831587Z",
          "iopub.status.busy": "2021-10-18T07:44:53.830943Z",
          "iopub.status.idle": "2021-10-18T07:45:14.831734Z",
          "shell.execute_reply": "2021-10-18T07:45:14.832227Z",
          "shell.execute_reply.started": "2021-10-18T07:28:07.959727Z"
        },
        "papermill": {
          "duration": 21.017822,
          "end_time": "2021-10-18T07:45:14.832538",
          "exception": false,
          "start_time": "2021-10-18T07:44:53.814716",
          "status": "completed"
        },
        "tags": [],
        "colab": {
          "base_uri": "https://localhost:8080/"
        },
        "id": "b8558057",
        "outputId": "3e6f9fb8-933d-40a8-a08e-265da9cda30a"
      },
      "outputs": [
        {
          "output_type": "stream",
          "name": "stdout",
          "text": [
            "Looking in indexes: https://pypi.org/simple, https://us-python.pkg.dev/colab-wheels/public/simple/\n",
            "Requirement already satisfied: flood-forecast in /usr/local/lib/python3.7/dist-packages (0.99998.dev0)\n",
            "Requirement already satisfied: future in /usr/local/lib/python3.7/dist-packages (from flood-forecast) (0.16.0)\n",
            "Requirement already satisfied: h5py in /usr/local/lib/python3.7/dist-packages (from flood-forecast) (3.1.0)\n",
            "Requirement already satisfied: scikit-learn>=1.0.1 in /usr/local/lib/python3.7/dist-packages (from flood-forecast) (1.0.2)\n",
            "Requirement already satisfied: mpld3>=0.5 in /usr/local/lib/python3.7/dist-packages (from flood-forecast) (0.5.8)\n",
            "Requirement already satisfied: google-cloud-storage in /usr/local/lib/python3.7/dist-packages (from flood-forecast) (1.18.1)\n",
            "Requirement already satisfied: google-cloud in /usr/local/lib/python3.7/dist-packages (from flood-forecast) (0.34.0)\n",
            "Requirement already satisfied: torchvision>=0.6.0 in /usr/local/lib/python3.7/dist-packages (from flood-forecast) (0.13.1+cu113)\n",
            "Requirement already satisfied: wandb==0.12.17 in /usr/local/lib/python3.7/dist-packages (from flood-forecast) (0.12.17)\n",
            "Requirement already satisfied: shap==0.40.0 in /usr/local/lib/python3.7/dist-packages (from flood-forecast) (0.40.0)\n",
            "Requirement already satisfied: numpy>=1.21 in /usr/local/lib/python3.7/dist-packages (from flood-forecast) (1.21.6)\n",
            "Requirement already satisfied: plotly~=5.7.0 in /usr/local/lib/python3.7/dist-packages (from flood-forecast) (5.7.0)\n",
            "Requirement already satisfied: torch in /usr/local/lib/python3.7/dist-packages (from flood-forecast) (1.12.1+cu113)\n",
            "Requirement already satisfied: requests in /usr/local/lib/python3.7/dist-packages (from flood-forecast) (2.23.0)\n",
            "Requirement already satisfied: numba>=0.50 in /usr/local/lib/python3.7/dist-packages (from flood-forecast) (0.56.0)\n",
            "Requirement already satisfied: pytz>=2022.1 in /usr/local/lib/python3.7/dist-packages (from flood-forecast) (2022.2.1)\n",
            "Requirement already satisfied: seaborn in /usr/local/lib/python3.7/dist-packages (from flood-forecast) (0.11.2)\n",
            "Requirement already satisfied: tb-nightly in /usr/local/lib/python3.7/dist-packages (from flood-forecast) (2.11.0a20220914)\n",
            "Requirement already satisfied: sphinx-rtd-theme in /usr/local/lib/python3.7/dist-packages (from flood-forecast) (1.0.0)\n",
            "Requirement already satisfied: pandas in /usr/local/lib/python3.7/dist-packages (from flood-forecast) (1.3.5)\n",
            "Requirement already satisfied: setuptools~=62.0.0 in /usr/local/lib/python3.7/dist-packages (from flood-forecast) (62.0.0)\n",
            "Requirement already satisfied: sphinx-autodoc-typehints in /usr/local/lib/python3.7/dist-packages (from flood-forecast) (1.19.2)\n",
            "Requirement already satisfied: sphinx in /usr/local/lib/python3.7/dist-packages (from flood-forecast) (5.1.1)\n",
            "Requirement already satisfied: slicer==0.0.7 in /usr/local/lib/python3.7/dist-packages (from shap==0.40.0->flood-forecast) (0.0.7)\n",
            "Requirement already satisfied: packaging>20.9 in /usr/local/lib/python3.7/dist-packages (from shap==0.40.0->flood-forecast) (21.3)\n",
            "Requirement already satisfied: scipy in /usr/local/lib/python3.7/dist-packages (from shap==0.40.0->flood-forecast) (1.7.3)\n",
            "Requirement already satisfied: cloudpickle in /usr/local/lib/python3.7/dist-packages (from shap==0.40.0->flood-forecast) (1.5.0)\n",
            "Requirement already satisfied: tqdm>4.25.0 in /usr/local/lib/python3.7/dist-packages (from shap==0.40.0->flood-forecast) (4.64.1)\n",
            "Requirement already satisfied: psutil>=5.0.0 in /usr/local/lib/python3.7/dist-packages (from wandb==0.12.17->flood-forecast) (5.4.8)\n",
            "Requirement already satisfied: setproctitle in /usr/local/lib/python3.7/dist-packages (from wandb==0.12.17->flood-forecast) (1.3.2)\n",
            "Requirement already satisfied: protobuf<4.0dev,>=3.12.0 in /usr/local/lib/python3.7/dist-packages (from wandb==0.12.17->flood-forecast) (3.17.3)\n",
            "Requirement already satisfied: sentry-sdk>=1.0.0 in /usr/local/lib/python3.7/dist-packages (from wandb==0.12.17->flood-forecast) (1.9.0)\n",
            "Requirement already satisfied: promise<3,>=2.0 in /usr/local/lib/python3.7/dist-packages (from wandb==0.12.17->flood-forecast) (2.3)\n",
            "Requirement already satisfied: shortuuid>=0.5.0 in /usr/local/lib/python3.7/dist-packages (from wandb==0.12.17->flood-forecast) (1.0.9)\n",
            "Requirement already satisfied: PyYAML in /usr/local/lib/python3.7/dist-packages (from wandb==0.12.17->flood-forecast) (6.0)\n",
            "Requirement already satisfied: GitPython>=1.0.0 in /usr/local/lib/python3.7/dist-packages (from wandb==0.12.17->flood-forecast) (3.1.27)\n",
            "Requirement already satisfied: six>=1.13.0 in /usr/local/lib/python3.7/dist-packages (from wandb==0.12.17->flood-forecast) (1.15.0)\n",
            "Requirement already satisfied: docker-pycreds>=0.4.0 in /usr/local/lib/python3.7/dist-packages (from wandb==0.12.17->flood-forecast) (0.4.0)\n",
            "Requirement already satisfied: Click!=8.0.0,>=7.0 in /usr/local/lib/python3.7/dist-packages (from wandb==0.12.17->flood-forecast) (7.1.2)\n",
            "Requirement already satisfied: python-dateutil>=2.6.1 in /usr/local/lib/python3.7/dist-packages (from wandb==0.12.17->flood-forecast) (2.8.2)\n",
            "Requirement already satisfied: pathtools in /usr/local/lib/python3.7/dist-packages (from wandb==0.12.17->flood-forecast) (0.1.2)\n",
            "Requirement already satisfied: typing-extensions>=3.7.4.3 in /usr/local/lib/python3.7/dist-packages (from GitPython>=1.0.0->wandb==0.12.17->flood-forecast) (4.1.1)\n",
            "Requirement already satisfied: gitdb<5,>=4.0.1 in /usr/local/lib/python3.7/dist-packages (from GitPython>=1.0.0->wandb==0.12.17->flood-forecast) (4.0.9)\n",
            "Requirement already satisfied: smmap<6,>=3.0.1 in /usr/local/lib/python3.7/dist-packages (from gitdb<5,>=4.0.1->GitPython>=1.0.0->wandb==0.12.17->flood-forecast) (5.0.0)\n",
            "Requirement already satisfied: jinja2 in /usr/local/lib/python3.7/dist-packages (from mpld3>=0.5->flood-forecast) (2.11.3)\n",
            "Requirement already satisfied: matplotlib in /usr/local/lib/python3.7/dist-packages (from mpld3>=0.5->flood-forecast) (3.2.2)\n",
            "Requirement already satisfied: importlib-metadata in /usr/local/lib/python3.7/dist-packages (from numba>=0.50->flood-forecast) (4.12.0)\n",
            "Requirement already satisfied: llvmlite<0.40,>=0.39.0dev0 in /usr/local/lib/python3.7/dist-packages (from numba>=0.50->flood-forecast) (0.39.1)\n",
            "Requirement already satisfied: pyparsing!=3.0.5,>=2.0.2 in /usr/local/lib/python3.7/dist-packages (from packaging>20.9->shap==0.40.0->flood-forecast) (3.0.9)\n",
            "Requirement already satisfied: tenacity>=6.2.0 in /usr/local/lib/python3.7/dist-packages (from plotly~=5.7.0->flood-forecast) (8.0.1)\n",
            "Requirement already satisfied: chardet<4,>=3.0.2 in /usr/local/lib/python3.7/dist-packages (from requests->flood-forecast) (3.0.4)\n",
            "Requirement already satisfied: certifi>=2017.4.17 in /usr/local/lib/python3.7/dist-packages (from requests->flood-forecast) (2022.6.15)\n",
            "Requirement already satisfied: idna<3,>=2.5 in /usr/local/lib/python3.7/dist-packages (from requests->flood-forecast) (2.10)\n",
            "Requirement already satisfied: urllib3!=1.25.0,!=1.25.1,<1.26,>=1.21.1 in /usr/local/lib/python3.7/dist-packages (from requests->flood-forecast) (1.24.3)\n",
            "Requirement already satisfied: joblib>=0.11 in /usr/local/lib/python3.7/dist-packages (from scikit-learn>=1.0.1->flood-forecast) (1.1.0)\n",
            "Requirement already satisfied: threadpoolctl>=2.0.0 in /usr/local/lib/python3.7/dist-packages (from scikit-learn>=1.0.1->flood-forecast) (3.1.0)\n",
            "Requirement already satisfied: pillow!=8.3.*,>=5.3.0 in /usr/local/lib/python3.7/dist-packages (from torchvision>=0.6.0->flood-forecast) (7.1.2)\n",
            "Requirement already satisfied: google-auth>=1.2.0 in /usr/local/lib/python3.7/dist-packages (from google-cloud-storage->flood-forecast) (1.35.0)\n",
            "Requirement already satisfied: google-cloud-core<2.0dev,>=1.0.0 in /usr/local/lib/python3.7/dist-packages (from google-cloud-storage->flood-forecast) (1.0.3)\n",
            "Requirement already satisfied: google-resumable-media<0.5.0dev,>=0.3.1 in /usr/local/lib/python3.7/dist-packages (from google-cloud-storage->flood-forecast) (0.4.1)\n",
            "Requirement already satisfied: rsa<5,>=3.1.4 in /usr/local/lib/python3.7/dist-packages (from google-auth>=1.2.0->google-cloud-storage->flood-forecast) (4.9)\n",
            "Requirement already satisfied: cachetools<5.0,>=2.0.0 in /usr/local/lib/python3.7/dist-packages (from google-auth>=1.2.0->google-cloud-storage->flood-forecast) (4.2.4)\n",
            "Requirement already satisfied: pyasn1-modules>=0.2.1 in /usr/local/lib/python3.7/dist-packages (from google-auth>=1.2.0->google-cloud-storage->flood-forecast) (0.2.8)\n",
            "Requirement already satisfied: google-api-core<2.0.0dev,>=1.14.0 in /usr/local/lib/python3.7/dist-packages (from google-cloud-core<2.0dev,>=1.0.0->google-cloud-storage->flood-forecast) (1.31.6)\n",
            "Requirement already satisfied: googleapis-common-protos<2.0dev,>=1.6.0 in /usr/local/lib/python3.7/dist-packages (from google-api-core<2.0.0dev,>=1.14.0->google-cloud-core<2.0dev,>=1.0.0->google-cloud-storage->flood-forecast) (1.56.4)\n",
            "Requirement already satisfied: pyasn1<0.5.0,>=0.4.6 in /usr/local/lib/python3.7/dist-packages (from pyasn1-modules>=0.2.1->google-auth>=1.2.0->google-cloud-storage->flood-forecast) (0.4.8)\n",
            "Requirement already satisfied: cached-property in /usr/local/lib/python3.7/dist-packages (from h5py->flood-forecast) (1.5.2)\n",
            "Requirement already satisfied: zipp>=0.5 in /usr/local/lib/python3.7/dist-packages (from importlib-metadata->numba>=0.50->flood-forecast) (3.8.1)\n",
            "Requirement already satisfied: MarkupSafe>=0.23 in /usr/local/lib/python3.7/dist-packages (from jinja2->mpld3>=0.5->flood-forecast) (2.0.1)\n",
            "Requirement already satisfied: kiwisolver>=1.0.1 in /usr/local/lib/python3.7/dist-packages (from matplotlib->mpld3>=0.5->flood-forecast) (1.4.4)\n",
            "Requirement already satisfied: cycler>=0.10 in /usr/local/lib/python3.7/dist-packages (from matplotlib->mpld3>=0.5->flood-forecast) (0.11.0)\n",
            "Requirement already satisfied: sphinxcontrib-applehelp in /usr/local/lib/python3.7/dist-packages (from sphinx->flood-forecast) (1.0.2)\n",
            "Requirement already satisfied: sphinxcontrib-qthelp in /usr/local/lib/python3.7/dist-packages (from sphinx->flood-forecast) (1.0.3)\n",
            "Requirement already satisfied: docutils<0.20,>=0.14 in /usr/local/lib/python3.7/dist-packages (from sphinx->flood-forecast) (0.17.1)\n",
            "Requirement already satisfied: alabaster<0.8,>=0.7 in /usr/local/lib/python3.7/dist-packages (from sphinx->flood-forecast) (0.7.12)\n",
            "Requirement already satisfied: sphinxcontrib-serializinghtml>=1.1.5 in /usr/local/lib/python3.7/dist-packages (from sphinx->flood-forecast) (1.1.5)\n",
            "Requirement already satisfied: imagesize in /usr/local/lib/python3.7/dist-packages (from sphinx->flood-forecast) (1.4.1)\n",
            "Requirement already satisfied: sphinxcontrib-devhelp in /usr/local/lib/python3.7/dist-packages (from sphinx->flood-forecast) (1.0.2)\n",
            "Requirement already satisfied: sphinxcontrib-jsmath in /usr/local/lib/python3.7/dist-packages (from sphinx->flood-forecast) (1.0.1)\n",
            "Requirement already satisfied: sphinxcontrib-htmlhelp>=2.0.0 in /usr/local/lib/python3.7/dist-packages (from sphinx->flood-forecast) (2.0.0)\n",
            "Requirement already satisfied: babel>=1.3 in /usr/local/lib/python3.7/dist-packages (from sphinx->flood-forecast) (2.10.3)\n",
            "Requirement already satisfied: Pygments>=2.0 in /usr/local/lib/python3.7/dist-packages (from sphinx->flood-forecast) (2.6.1)\n",
            "Requirement already satisfied: snowballstemmer>=1.1 in /usr/local/lib/python3.7/dist-packages (from sphinx->flood-forecast) (2.2.0)\n",
            "Requirement already satisfied: werkzeug>=1.0.1 in /usr/local/lib/python3.7/dist-packages (from tb-nightly->flood-forecast) (1.0.1)\n",
            "Requirement already satisfied: absl-py>=0.4 in /usr/local/lib/python3.7/dist-packages (from tb-nightly->flood-forecast) (1.2.0)\n",
            "Requirement already satisfied: grpcio>=1.24.3 in /usr/local/lib/python3.7/dist-packages (from tb-nightly->flood-forecast) (1.48.1)\n",
            "Requirement already satisfied: wheel>=0.26 in /usr/local/lib/python3.7/dist-packages (from tb-nightly->flood-forecast) (0.37.1)\n",
            "Requirement already satisfied: markdown>=2.6.8 in /usr/local/lib/python3.7/dist-packages (from tb-nightly->flood-forecast) (3.4.1)\n",
            "Requirement already satisfied: tensorboard-data-server<0.7.0,>=0.6.0 in /usr/local/lib/python3.7/dist-packages (from tb-nightly->flood-forecast) (0.6.1)\n",
            "Requirement already satisfied: google-auth-oauthlib<0.5,>=0.4.1 in /usr/local/lib/python3.7/dist-packages (from tb-nightly->flood-forecast) (0.4.6)\n",
            "Requirement already satisfied: tensorboard-plugin-wit>=1.6.0 in /usr/local/lib/python3.7/dist-packages (from tb-nightly->flood-forecast) (1.8.1)\n",
            "Requirement already satisfied: requests-oauthlib>=0.7.0 in /usr/local/lib/python3.7/dist-packages (from google-auth-oauthlib<0.5,>=0.4.1->tb-nightly->flood-forecast) (1.3.1)\n",
            "Requirement already satisfied: oauthlib>=3.0.0 in /usr/local/lib/python3.7/dist-packages (from requests-oauthlib>=0.7.0->google-auth-oauthlib<0.5,>=0.4.1->tb-nightly->flood-forecast) (3.2.0)\n"
          ]
        }
      ],
      "source": [
        "from datetime import datetime\n",
        "\n",
        "! pip install flood-forecast"
      ]
    },
    {
      "cell_type": "code",
      "source": [],
      "metadata": {
        "id": "8XgIRFDxzHkb"
      },
      "id": "8XgIRFDxzHkb",
      "execution_count": 1,
      "outputs": []
    },
    {
      "cell_type": "code",
      "source": [
        "! pip install wget"
      ],
      "metadata": {
        "colab": {
          "base_uri": "https://localhost:8080/"
        },
        "id": "zkvQQVm-iHt0",
        "outputId": "0bfcfd69-f053-483f-93e5-a9dab2486c02"
      },
      "id": "zkvQQVm-iHt0",
      "execution_count": 2,
      "outputs": [
        {
          "output_type": "stream",
          "name": "stdout",
          "text": [
            "Looking in indexes: https://pypi.org/simple, https://us-python.pkg.dev/colab-wheels/public/simple/\n",
            "Requirement already satisfied: wget in /usr/local/lib/python3.7/dist-packages (3.2)\n"
          ]
        }
      ]
    },
    {
      "cell_type": "code",
      "source": [
        "import wget\n",
        "import os.path\n",
        "\n",
        "if(not os.path.exists('01010500FVE_flow.csv.zip')):\n",
        "  wget.download('https://www.kaggleusercontent.com/kf/102610075/eyJhbGciOiJkaXIiLCJlbmMiOiJBMTI4Q0JDLUhTMjU2In0..TS68NOi_pMM4hMNth5c69g.GU1e3tDnb-d0Mn9QQ4Fp5npgGhAWy2q8XGplg843NF0Nl0pBAIv4vqrnkqRS6Y7f2B1nll38OxeocRnFUjqYcQ1P80HxWqCkizLnWPlDryE-SdsRI7vaK21Y1oFEFI-_trZ5Bf0x7e899FcV_i_5Fd9zQ7WYvxuTM6a-qm3OboSFKYBV4hkyEQTwmJG0sOhdzgTRbzBBAirqflChrjK1KhLsVb5BQiD3LStbB-v8kDuAmZAVwXUC5ekrWsTxDJiIbRawLNpUEgV-9S4Ciw30r4eQjSK6Cr_mbNo719gprwdyFG2_nPcRBYr6YmgihWtMI9n9bUHTHbnGBo-Sz47LFS_epohe1S6otOnDxEGzC0moUw9gl4s2MFuBeZrFa5hIHjWffp3B8euaulcqMH-nZ6dLvq8RyrfHcFKScDQ1UZvfqAHIh8Pl_4CSJJ4SkTOqID2inybkUIZO4J4aKLFY3g3KlVriiBBZ5-CQJFOn9D03EzmDfID5LtpTCH8Vg2s2tblUGP2cWa47Grn3FvrXdza5j0TOeFd4wXKIgn_BubMceX6TnIEOoKE70z58vqA-FCH1OJKXdP2jKqpk_iMy3_JeQ54pW8ROO3pLTJXt_3mai5yIZu31xrvYPv9TbHKyY1XtOj1Eqmd8TsS9vm42NdCSfw9hoDqvpwbmiich6EQqZzCt_dqC9UyyqonU9Y4T.bifvCHXXZbBtlyHw_0TEPw/flow-forecast/01010500FVE_flow.csv')"
      ],
      "metadata": {
        "id": "V0UO6wwpiRlX"
      },
      "id": "V0UO6wwpiRlX",
      "execution_count": 3,
      "outputs": []
    },
    {
      "cell_type": "code",
      "source": [
        "#! unzip 01010500FVE_flow.csv.zip"
      ],
      "metadata": {
        "id": "ioHBvdJBiRnn"
      },
      "id": "ioHBvdJBiRnn",
      "execution_count": 4,
      "outputs": []
    },
    {
      "cell_type": "code",
      "source": [
        "import pandas as pd\n",
        "\n",
        "df = pd.read_csv(\"01010500FVE_flow.csv\")\n",
        "\n",
        "df = df.dropna(subset=[\"hour_updated\", \"cfs\", \"p01m\"])\n",
        "df.to_csv(\"01010500FVE_flow.csv\")\n",
        "\n",
        "df[[\"hour_updated\", \"cfs\", \"tmpf\", \"p01m\", \"dwpf\"]].head()"
      ],
      "metadata": {
        "colab": {
          "base_uri": "https://localhost:8080/",
          "height": 261
        },
        "id": "os55AJG5iRpz",
        "outputId": "d8a05a7e-03b0-42bd-d63e-05c9c24b4cd7"
      },
      "id": "os55AJG5iRpz",
      "execution_count": 5,
      "outputs": [
        {
          "output_type": "stream",
          "name": "stderr",
          "text": [
            "/usr/local/lib/python3.7/dist-packages/IPython/core/interactiveshell.py:3326: DtypeWarning: Columns (18) have mixed types.Specify dtype option on import or set low_memory=False.\n",
            "  exec(code_obj, self.user_global_ns, self.user_ns)\n"
          ]
        },
        {
          "output_type": "execute_result",
          "data": {
            "text/plain": [
              "                hour_updated      cfs   tmpf  p01m   dwpf\n",
              "0  2000-04-04 04:00:00+00:00  21700.0  42.08   0.0  26.96\n",
              "1  2000-04-04 05:00:00+00:00  21800.0  41.00   0.0  26.96\n",
              "2  2000-04-04 06:00:00+00:00  22000.0  39.02   0.0  26.96\n",
              "3  2000-04-04 07:00:00+00:00  22000.0  39.02   0.0  28.94\n",
              "4  2000-04-04 08:00:00+00:00  22100.0  37.94   0.0  30.02"
            ],
            "text/html": [
              "\n",
              "  <div id=\"df-a6e35ed8-dd7a-48f1-a75b-ee6f87ee8628\">\n",
              "    <div class=\"colab-df-container\">\n",
              "      <div>\n",
              "<style scoped>\n",
              "    .dataframe tbody tr th:only-of-type {\n",
              "        vertical-align: middle;\n",
              "    }\n",
              "\n",
              "    .dataframe tbody tr th {\n",
              "        vertical-align: top;\n",
              "    }\n",
              "\n",
              "    .dataframe thead th {\n",
              "        text-align: right;\n",
              "    }\n",
              "</style>\n",
              "<table border=\"1\" class=\"dataframe\">\n",
              "  <thead>\n",
              "    <tr style=\"text-align: right;\">\n",
              "      <th></th>\n",
              "      <th>hour_updated</th>\n",
              "      <th>cfs</th>\n",
              "      <th>tmpf</th>\n",
              "      <th>p01m</th>\n",
              "      <th>dwpf</th>\n",
              "    </tr>\n",
              "  </thead>\n",
              "  <tbody>\n",
              "    <tr>\n",
              "      <th>0</th>\n",
              "      <td>2000-04-04 04:00:00+00:00</td>\n",
              "      <td>21700.0</td>\n",
              "      <td>42.08</td>\n",
              "      <td>0.0</td>\n",
              "      <td>26.96</td>\n",
              "    </tr>\n",
              "    <tr>\n",
              "      <th>1</th>\n",
              "      <td>2000-04-04 05:00:00+00:00</td>\n",
              "      <td>21800.0</td>\n",
              "      <td>41.00</td>\n",
              "      <td>0.0</td>\n",
              "      <td>26.96</td>\n",
              "    </tr>\n",
              "    <tr>\n",
              "      <th>2</th>\n",
              "      <td>2000-04-04 06:00:00+00:00</td>\n",
              "      <td>22000.0</td>\n",
              "      <td>39.02</td>\n",
              "      <td>0.0</td>\n",
              "      <td>26.96</td>\n",
              "    </tr>\n",
              "    <tr>\n",
              "      <th>3</th>\n",
              "      <td>2000-04-04 07:00:00+00:00</td>\n",
              "      <td>22000.0</td>\n",
              "      <td>39.02</td>\n",
              "      <td>0.0</td>\n",
              "      <td>28.94</td>\n",
              "    </tr>\n",
              "    <tr>\n",
              "      <th>4</th>\n",
              "      <td>2000-04-04 08:00:00+00:00</td>\n",
              "      <td>22100.0</td>\n",
              "      <td>37.94</td>\n",
              "      <td>0.0</td>\n",
              "      <td>30.02</td>\n",
              "    </tr>\n",
              "  </tbody>\n",
              "</table>\n",
              "</div>\n",
              "      <button class=\"colab-df-convert\" onclick=\"convertToInteractive('df-a6e35ed8-dd7a-48f1-a75b-ee6f87ee8628')\"\n",
              "              title=\"Convert this dataframe to an interactive table.\"\n",
              "              style=\"display:none;\">\n",
              "        \n",
              "  <svg xmlns=\"http://www.w3.org/2000/svg\" height=\"24px\"viewBox=\"0 0 24 24\"\n",
              "       width=\"24px\">\n",
              "    <path d=\"M0 0h24v24H0V0z\" fill=\"none\"/>\n",
              "    <path d=\"M18.56 5.44l.94 2.06.94-2.06 2.06-.94-2.06-.94-.94-2.06-.94 2.06-2.06.94zm-11 1L8.5 8.5l.94-2.06 2.06-.94-2.06-.94L8.5 2.5l-.94 2.06-2.06.94zm10 10l.94 2.06.94-2.06 2.06-.94-2.06-.94-.94-2.06-.94 2.06-2.06.94z\"/><path d=\"M17.41 7.96l-1.37-1.37c-.4-.4-.92-.59-1.43-.59-.52 0-1.04.2-1.43.59L10.3 9.45l-7.72 7.72c-.78.78-.78 2.05 0 2.83L4 21.41c.39.39.9.59 1.41.59.51 0 1.02-.2 1.41-.59l7.78-7.78 2.81-2.81c.8-.78.8-2.07 0-2.86zM5.41 20L4 18.59l7.72-7.72 1.47 1.35L5.41 20z\"/>\n",
              "  </svg>\n",
              "      </button>\n",
              "      \n",
              "  <style>\n",
              "    .colab-df-container {\n",
              "      display:flex;\n",
              "      flex-wrap:wrap;\n",
              "      gap: 12px;\n",
              "    }\n",
              "\n",
              "    .colab-df-convert {\n",
              "      background-color: #E8F0FE;\n",
              "      border: none;\n",
              "      border-radius: 50%;\n",
              "      cursor: pointer;\n",
              "      display: none;\n",
              "      fill: #1967D2;\n",
              "      height: 32px;\n",
              "      padding: 0 0 0 0;\n",
              "      width: 32px;\n",
              "    }\n",
              "\n",
              "    .colab-df-convert:hover {\n",
              "      background-color: #E2EBFA;\n",
              "      box-shadow: 0px 1px 2px rgba(60, 64, 67, 0.3), 0px 1px 3px 1px rgba(60, 64, 67, 0.15);\n",
              "      fill: #174EA6;\n",
              "    }\n",
              "\n",
              "    [theme=dark] .colab-df-convert {\n",
              "      background-color: #3B4455;\n",
              "      fill: #D2E3FC;\n",
              "    }\n",
              "\n",
              "    [theme=dark] .colab-df-convert:hover {\n",
              "      background-color: #434B5C;\n",
              "      box-shadow: 0px 1px 3px 1px rgba(0, 0, 0, 0.15);\n",
              "      filter: drop-shadow(0px 1px 2px rgba(0, 0, 0, 0.3));\n",
              "      fill: #FFFFFF;\n",
              "    }\n",
              "  </style>\n",
              "\n",
              "      <script>\n",
              "        const buttonEl =\n",
              "          document.querySelector('#df-a6e35ed8-dd7a-48f1-a75b-ee6f87ee8628 button.colab-df-convert');\n",
              "        buttonEl.style.display =\n",
              "          google.colab.kernel.accessAllowed ? 'block' : 'none';\n",
              "\n",
              "        async function convertToInteractive(key) {\n",
              "          const element = document.querySelector('#df-a6e35ed8-dd7a-48f1-a75b-ee6f87ee8628');\n",
              "          const dataTable =\n",
              "            await google.colab.kernel.invokeFunction('convertToInteractive',\n",
              "                                                     [key], {});\n",
              "          if (!dataTable) return;\n",
              "\n",
              "          const docLinkHtml = 'Like what you see? Visit the ' +\n",
              "            '<a target=\"_blank\" href=https://colab.research.google.com/notebooks/data_table.ipynb>data table notebook</a>'\n",
              "            + ' to learn more about interactive tables.';\n",
              "          element.innerHTML = '';\n",
              "          dataTable['output_type'] = 'display_data';\n",
              "          await google.colab.output.renderOutput(dataTable, element);\n",
              "          const docLink = document.createElement('div');\n",
              "          docLink.innerHTML = docLinkHtml;\n",
              "          element.appendChild(docLink);\n",
              "        }\n",
              "      </script>\n",
              "    </div>\n",
              "  </div>\n",
              "  "
            ]
          },
          "metadata": {},
          "execution_count": 5
        }
      ]
    },
    {
      "cell_type": "code",
      "source": [],
      "metadata": {
        "id": "TlknhZzciVeF"
      },
      "id": "TlknhZzciVeF",
      "execution_count": 5,
      "outputs": []
    },
    {
      "cell_type": "code",
      "execution_count": 23,
      "id": "9cccbad6",
      "metadata": {
        "execution": {
          "iopub.status.busy": "2021-10-18T07:23:19.995082Z",
          "iopub.status.idle": "2021-10-18T07:23:19.995414Z",
          "shell.execute_reply": "2021-10-18T07:23:19.995268Z",
          "shell.execute_reply.started": "2021-10-18T07:23:19.995248Z"
        },
        "papermill": {
          "duration": null,
          "end_time": null,
          "exception": null,
          "start_time": null,
          "status": "pending"
        },
        "tags": [],
        "id": "9cccbad6"
      },
      "outputs": [],
      "source": [
        "def make_config_file(flow_file_path, gage_id, station_id, weight_path=None, pretrained=[]):\n",
        "    run = wandb.init(project=\"github_aistream-peelout_flow-forecast\")\n",
        "    wandb_config = run.config\n",
        "    the_wandb_c = run.config\n",
        "    print(wandb_config)\n",
        "    the_config4 = {\"model_name\": \"DARNN\",\n",
        "        \"model_type\": \"PyTorch\",\n",
        "        \"model_params\": {\n",
        "        \"n_time_series\": 4,\n",
        "        \"forecast_history\":wandb_config[\"forecast_history\"],\n",
        "        \"hidden_size_encoder\":wandb_config[\"hidden_encoder\"],\n",
        "        \"decoder_hidden_size\": wandb_config[\"hidden_decoder\"],\n",
        "        \"out_feats\": 1,\n",
        "        \"dropout\": wandb_config[\"dropout\"],\n",
        "        \"gru_lstm\": False},\n",
        "       \"dataset_params\":{\"class\": \"default\",\n",
        "       \"num_workers\":12,\n",
        "       \"pin_memory\": True,\n",
        "       \"training_path\": flow_file_path,\n",
        "       \"validation_path\": flow_file_path,\n",
        "       \"test_path\": flow_file_path,\n",
        "       \"batch_size\":wandb_config[\"batch_size\"],\n",
        "       \"forecast_history\":wandb_config[\"forecast_history\"] - 1,\n",
        "       \"forecast_length\":wandb_config[\"forecast_length\"],\n",
        "       \"scaler\": \"StandardScaler\",\n",
        "       \"train_start\":0,#1000,\n",
        "       \"train_end\": 100,#50000,\n",
        "       \"valid_start\":101,#50001,\n",
        "       \"valid_end\": 151,#57000,\n",
        "       \"sort_column\": \"datetime\",# \"hour_updated\",\n",
        "       \"test_start\": 151,#57000,\n",
        "       \"test_end\":200,#58000,\n",
        "       \"target_col\": [\"TimeConclusion\"],\n",
        "       \"relevant_cols\": [\"TimeConclusion\", \"Duration\"], \n",
        "       \"interpolate\":{\n",
        "           \"method\":\"back_forward_generic\",\n",
        "           \"params\":{\n",
        "               \"relevant_columns\":[\"TimeConclusion\", \"Duration\"]}\n",
        "           },\n",
        "      \"feature_param\":\n",
        "          {\n",
        "            \"datetime_params\":{\n",
        "            \"hour\":\"numerical\",\n",
        "            \"month\": \"numerical\"\n",
        "            }\n",
        "          }\n",
        "       },\n",
        "    \"training_params\":\n",
        "    {\n",
        "       \"criterion\":\"MSE\",\n",
        "       \"optimizer\": \"SGD\",\n",
        "       #\"criterion_params\":{\"baseline_method\":\"mean\"},\n",
        "    \"optim_params\":{\n",
        "       \"lr\": the_wandb_c[\"lr\"]\n",
        "    },\n",
        "       \"epochs\": 12,\n",
        "       \"batch_size\":wandb_config[\"batch_size\"]\n",
        "    },\n",
        "    \"early_stopping\":{\n",
        "        \"patience\":3\n",
        "    },\n",
        "    \"GCS\": False,\n",
        "    \"sweep\":True,\n",
        "    \"wandb\":False,\n",
        "    \"forward_params\":{},\n",
        "   \"metrics\":[\"MSE\", \"MAPE\"],\n",
        "   \"inference_params\":\n",
        "   {     \n",
        "          \"datetime_start\":\"2010-01-13\",#\"2020-05-31\",\n",
        "          \"hours_to_forecast\":336, \n",
        "          \"num_prediction_samples\": 20,\n",
        "          \"test_csv_path\":flow_file_path,\n",
        "          \"decoder_params\":{\n",
        "            \"decoder_function\": \"simple_decode\", \n",
        "            \"unsqueeze_dim\": 1},\n",
        "          \"dataset_params\":{\n",
        "             \"file_path\": flow_file_path,\n",
        "             \"sort_column\": \"datetime\", #\"hour_updated\",\n",
        "             \"scaling\": \"StandardScaler\",\n",
        "             \"forecast_history\": wandb_config[\"forecast_history\"] - 1,\n",
        "             \"forecast_length\":wandb_config[\"forecast_length\"],\n",
        "             \"relevant_cols\": [\"TimeConclusion\", \"Duration\"],\n",
        "             \"target_col\": [\"TimeConclusion\"],\n",
        "             \"interpolate_param\":{\n",
        "                 \"method\":\"back_forward_generic\",\n",
        "                 \"params\":{\"relevant_columns\":[\"TimeConclusion\", \"Duration\"]}\n",
        "                 }, \n",
        "            \"feature_params\":\n",
        "        {\n",
        "         \"datetime_params\":{\n",
        "            \"hour\":\"numerical\",\n",
        "            \"month\": \"numerical\"\n",
        "         \n",
        "     }\n",
        "             }\n",
        "          }\n",
        "          } \n",
        "    }\n",
        "\n",
        "      \n",
        "    if weight_path:\n",
        "        the_config4[\"weight_path\"] = weight_path\n",
        "    wandb.config.update(the_config4)\n",
        "    print(\"config made\")\n",
        "    return the_config4\n",
        "  \n",
        "wandb_sweep_config_full = {\n",
        "  \"name\": \"Default sweep\",\n",
        "  \"method\": \"grid\",\n",
        "  \"parameters\": {\n",
        "        \"forecast_length\":{\n",
        "            \"values\":[1]}\n",
        "            ,\n",
        "        \"batch_size\": {\n",
        "            \"values\": [200]#, 400, 600]\n",
        "        },\n",
        "        \"lr\":{\n",
        "            \"values\":[0.001]#, 0.0001, .01]\n",
        "        },\n",
        "        \"forecast_history\":{\n",
        "            \"values\":[14]#, 20, 24, 48]\n",
        "        },\n",
        "        \"out_seq_length\":{\n",
        "            \"values\":[1]\n",
        "        },\n",
        "        \"hidden_encoder\":\n",
        "        {\n",
        "            \"values\":[32]#, 64, 128, 256]\n",
        "        },\n",
        "        \"hidden_decoder\":\n",
        "        {\n",
        "            # 32, 64, 128 \n",
        "            \"values\":[32]#, 64, 128, 256]\n",
        "        }, \n",
        "        \"dropout\":\n",
        "        {\n",
        "            \"values\": [0.1],#, 0.3, 0.5, 0.8]\n",
        "        }\n",
        "  \n",
        "    }\n",
        "}"
      ]
    },
    {
      "cell_type": "code",
      "source": [
        "import wget\n",
        "import os.path\n",
        "\n",
        "if(not os.path.exists('df_train_keras_tk.csv')):\n",
        "    wget.download('https://raw.githubusercontent.com/RonildoSilva/datasets/main/df_train_keras_tk.csv')\n",
        "\n",
        "if(not os.path.exists('df_val_keras_tk.csv')):\n",
        "    wget.download('https://raw.githubusercontent.com/RonildoSilva/datasets/main/df_val_keras_tk.csv')\n",
        "\n",
        "if(not os.path.exists('df_test_keras_tk.csv')):\n",
        "    wget.download('https://raw.githubusercontent.com/RonildoSilva/datasets/main/df_test_keras_tk.csv')"
      ],
      "metadata": {
        "id": "kOlQ2sBFFemA"
      },
      "id": "kOlQ2sBFFemA",
      "execution_count": 7,
      "outputs": []
    },
    {
      "cell_type": "code",
      "source": [
        "import pandas as pd \n",
        "df = pd.read_csv('df_train_keras_tk.csv')#.loc[151]['datetime']"
      ],
      "metadata": {
        "id": "bv1OEhFmFeoE"
      },
      "id": "bv1OEhFmFeoE",
      "execution_count": 8,
      "outputs": []
    },
    {
      "cell_type": "code",
      "source": [
        "pd.read_csv('df_train_keras_tk.csv').loc[151]['datetime']"
      ],
      "metadata": {
        "colab": {
          "base_uri": "https://localhost:8080/",
          "height": 35
        },
        "id": "9-LlEhN0N3G3",
        "outputId": "f4fb8592-1ab2-4f6c-8edf-288cf6b1192c"
      },
      "id": "9-LlEhN0N3G3",
      "execution_count": 9,
      "outputs": [
        {
          "output_type": "execute_result",
          "data": {
            "text/plain": [
              "'2013-06-25'"
            ],
            "application/vnd.google.colaboratory.intrinsic+json": {
              "type": "string"
            }
          },
          "metadata": {},
          "execution_count": 9
        }
      ]
    },
    {
      "cell_type": "code",
      "source": [
        "#df['datetime']"
      ],
      "metadata": {
        "id": "FRwOYLo5M-bf"
      },
      "id": "FRwOYLo5M-bf",
      "execution_count": 10,
      "outputs": []
    },
    {
      "cell_type": "code",
      "source": [
        "#df['datetime'] = pd.to_datetime(df['datetime']).dt.strftime('%Y-%m-%d')\n",
        "df['datetime'] = pd.to_datetime(df['datetime']).dt.strftime('%Y-%m-%d %H:%M:%S+00:00')\n",
        "#2000-04-04 04:00:00+00:00"
      ],
      "metadata": {
        "id": "1N6AYKwBM-dc"
      },
      "id": "1N6AYKwBM-dc",
      "execution_count": 19,
      "outputs": []
    },
    {
      "cell_type": "code",
      "source": [
        "df = df[[\"TimeConclusion\", \"Duration\", \"datetime\"]]\n",
        "df.to_csv('df_train_keras_tk.csv', index=False)"
      ],
      "metadata": {
        "id": "t7iJv5SmM-fm"
      },
      "id": "t7iJv5SmM-fm",
      "execution_count": 20,
      "outputs": []
    },
    {
      "cell_type": "code",
      "source": [
        "df.head()"
      ],
      "metadata": {
        "colab": {
          "base_uri": "https://localhost:8080/",
          "height": 206
        },
        "id": "9n2JosxiCwMk",
        "outputId": "0bd2567b-426c-41e9-c7d7-4122f528b722"
      },
      "id": "9n2JosxiCwMk",
      "execution_count": 21,
      "outputs": [
        {
          "output_type": "execute_result",
          "data": {
            "text/plain": [
              "   TimeConclusion  Duration                   datetime\n",
              "0         31.0087    0.0000  2012-10-09 00:00:00+00:00\n",
              "1         15.0003   16.0084  2012-10-09 00:00:00+00:00\n",
              "2         15.0002    0.0001  2012-10-12 00:00:00+00:00\n",
              "3          0.0000   15.0002  2012-10-25 00:00:00+00:00\n",
              "4         30.9822    0.0000  2012-11-09 00:00:00+00:00"
            ],
            "text/html": [
              "\n",
              "  <div id=\"df-6fd0377c-45e3-45e3-91bb-4715effa7d31\">\n",
              "    <div class=\"colab-df-container\">\n",
              "      <div>\n",
              "<style scoped>\n",
              "    .dataframe tbody tr th:only-of-type {\n",
              "        vertical-align: middle;\n",
              "    }\n",
              "\n",
              "    .dataframe tbody tr th {\n",
              "        vertical-align: top;\n",
              "    }\n",
              "\n",
              "    .dataframe thead th {\n",
              "        text-align: right;\n",
              "    }\n",
              "</style>\n",
              "<table border=\"1\" class=\"dataframe\">\n",
              "  <thead>\n",
              "    <tr style=\"text-align: right;\">\n",
              "      <th></th>\n",
              "      <th>TimeConclusion</th>\n",
              "      <th>Duration</th>\n",
              "      <th>datetime</th>\n",
              "    </tr>\n",
              "  </thead>\n",
              "  <tbody>\n",
              "    <tr>\n",
              "      <th>0</th>\n",
              "      <td>31.0087</td>\n",
              "      <td>0.0000</td>\n",
              "      <td>2012-10-09 00:00:00+00:00</td>\n",
              "    </tr>\n",
              "    <tr>\n",
              "      <th>1</th>\n",
              "      <td>15.0003</td>\n",
              "      <td>16.0084</td>\n",
              "      <td>2012-10-09 00:00:00+00:00</td>\n",
              "    </tr>\n",
              "    <tr>\n",
              "      <th>2</th>\n",
              "      <td>15.0002</td>\n",
              "      <td>0.0001</td>\n",
              "      <td>2012-10-12 00:00:00+00:00</td>\n",
              "    </tr>\n",
              "    <tr>\n",
              "      <th>3</th>\n",
              "      <td>0.0000</td>\n",
              "      <td>15.0002</td>\n",
              "      <td>2012-10-25 00:00:00+00:00</td>\n",
              "    </tr>\n",
              "    <tr>\n",
              "      <th>4</th>\n",
              "      <td>30.9822</td>\n",
              "      <td>0.0000</td>\n",
              "      <td>2012-11-09 00:00:00+00:00</td>\n",
              "    </tr>\n",
              "  </tbody>\n",
              "</table>\n",
              "</div>\n",
              "      <button class=\"colab-df-convert\" onclick=\"convertToInteractive('df-6fd0377c-45e3-45e3-91bb-4715effa7d31')\"\n",
              "              title=\"Convert this dataframe to an interactive table.\"\n",
              "              style=\"display:none;\">\n",
              "        \n",
              "  <svg xmlns=\"http://www.w3.org/2000/svg\" height=\"24px\"viewBox=\"0 0 24 24\"\n",
              "       width=\"24px\">\n",
              "    <path d=\"M0 0h24v24H0V0z\" fill=\"none\"/>\n",
              "    <path d=\"M18.56 5.44l.94 2.06.94-2.06 2.06-.94-2.06-.94-.94-2.06-.94 2.06-2.06.94zm-11 1L8.5 8.5l.94-2.06 2.06-.94-2.06-.94L8.5 2.5l-.94 2.06-2.06.94zm10 10l.94 2.06.94-2.06 2.06-.94-2.06-.94-.94-2.06-.94 2.06-2.06.94z\"/><path d=\"M17.41 7.96l-1.37-1.37c-.4-.4-.92-.59-1.43-.59-.52 0-1.04.2-1.43.59L10.3 9.45l-7.72 7.72c-.78.78-.78 2.05 0 2.83L4 21.41c.39.39.9.59 1.41.59.51 0 1.02-.2 1.41-.59l7.78-7.78 2.81-2.81c.8-.78.8-2.07 0-2.86zM5.41 20L4 18.59l7.72-7.72 1.47 1.35L5.41 20z\"/>\n",
              "  </svg>\n",
              "      </button>\n",
              "      \n",
              "  <style>\n",
              "    .colab-df-container {\n",
              "      display:flex;\n",
              "      flex-wrap:wrap;\n",
              "      gap: 12px;\n",
              "    }\n",
              "\n",
              "    .colab-df-convert {\n",
              "      background-color: #E8F0FE;\n",
              "      border: none;\n",
              "      border-radius: 50%;\n",
              "      cursor: pointer;\n",
              "      display: none;\n",
              "      fill: #1967D2;\n",
              "      height: 32px;\n",
              "      padding: 0 0 0 0;\n",
              "      width: 32px;\n",
              "    }\n",
              "\n",
              "    .colab-df-convert:hover {\n",
              "      background-color: #E2EBFA;\n",
              "      box-shadow: 0px 1px 2px rgba(60, 64, 67, 0.3), 0px 1px 3px 1px rgba(60, 64, 67, 0.15);\n",
              "      fill: #174EA6;\n",
              "    }\n",
              "\n",
              "    [theme=dark] .colab-df-convert {\n",
              "      background-color: #3B4455;\n",
              "      fill: #D2E3FC;\n",
              "    }\n",
              "\n",
              "    [theme=dark] .colab-df-convert:hover {\n",
              "      background-color: #434B5C;\n",
              "      box-shadow: 0px 1px 3px 1px rgba(0, 0, 0, 0.15);\n",
              "      filter: drop-shadow(0px 1px 2px rgba(0, 0, 0, 0.3));\n",
              "      fill: #FFFFFF;\n",
              "    }\n",
              "  </style>\n",
              "\n",
              "      <script>\n",
              "        const buttonEl =\n",
              "          document.querySelector('#df-6fd0377c-45e3-45e3-91bb-4715effa7d31 button.colab-df-convert');\n",
              "        buttonEl.style.display =\n",
              "          google.colab.kernel.accessAllowed ? 'block' : 'none';\n",
              "\n",
              "        async function convertToInteractive(key) {\n",
              "          const element = document.querySelector('#df-6fd0377c-45e3-45e3-91bb-4715effa7d31');\n",
              "          const dataTable =\n",
              "            await google.colab.kernel.invokeFunction('convertToInteractive',\n",
              "                                                     [key], {});\n",
              "          if (!dataTable) return;\n",
              "\n",
              "          const docLinkHtml = 'Like what you see? Visit the ' +\n",
              "            '<a target=\"_blank\" href=https://colab.research.google.com/notebooks/data_table.ipynb>data table notebook</a>'\n",
              "            + ' to learn more about interactive tables.';\n",
              "          element.innerHTML = '';\n",
              "          dataTable['output_type'] = 'display_data';\n",
              "          await google.colab.output.renderOutput(dataTable, element);\n",
              "          const docLink = document.createElement('div');\n",
              "          docLink.innerHTML = docLinkHtml;\n",
              "          element.appendChild(docLink);\n",
              "        }\n",
              "      </script>\n",
              "    </div>\n",
              "  </div>\n",
              "  "
            ]
          },
          "metadata": {},
          "execution_count": 21
        }
      ]
    },
    {
      "cell_type": "code",
      "source": [
        "\"\"\"\n",
        "!pip install -Uqq ipdb\n",
        "import ipdb\n",
        "%pdb on\n",
        "\"\"\""
      ],
      "metadata": {
        "colab": {
          "base_uri": "https://localhost:8080/",
          "height": 35
        },
        "id": "3rPU2ejAFep6",
        "outputId": "5dbcf6c8-95cf-4f51-a8ec-28254041c2c5"
      },
      "id": "3rPU2ejAFep6",
      "execution_count": 13,
      "outputs": [
        {
          "output_type": "execute_result",
          "data": {
            "text/plain": [
              "'\\n!pip install -Uqq ipdb\\nimport ipdb\\n%pdb on\\n'"
            ],
            "application/vnd.google.colaboratory.intrinsic+json": {
              "type": "string"
            }
          },
          "metadata": {},
          "execution_count": 13
        }
      ]
    },
    {
      "cell_type": "code",
      "source": [
        "df.columns"
      ],
      "metadata": {
        "colab": {
          "base_uri": "https://localhost:8080/"
        },
        "id": "wE23st5CLvxD",
        "outputId": "31f395d7-b7dd-4390-ede6-753ba9bb767c"
      },
      "id": "wE23st5CLvxD",
      "execution_count": 14,
      "outputs": [
        {
          "output_type": "execute_result",
          "data": {
            "text/plain": [
              "Index(['TimeConclusion', 'Duration', 'datetime'], dtype='object')"
            ]
          },
          "metadata": {},
          "execution_count": 14
        }
      ]
    },
    {
      "cell_type": "code",
      "execution_count": 24,
      "id": "648be723",
      "metadata": {
        "execution": {
          "iopub.status.busy": "2021-10-18T07:23:19.999671Z",
          "iopub.status.idle": "2021-10-18T07:23:20.000095Z",
          "shell.execute_reply": "2021-10-18T07:23:19.999918Z",
          "shell.execute_reply.started": "2021-10-18T07:23:19.999895Z"
        },
        "papermill": {
          "duration": null,
          "end_time": null,
          "exception": null,
          "start_time": null,
          "status": "pending"
        },
        "tags": [],
        "colab": {
          "base_uri": "https://localhost:8080/",
          "height": 1000,
          "referenced_widgets": [
            "c66c4f2047dd4765ab04dbf3dd9c4340",
            "80c34709dbcb47a69dde40bdd624ceff",
            "3527523673c049d088572e0c9b53e7cd",
            "1bddac742f584e4dbbc24242d5b4c9c5",
            "caa56eaf2ecf46f6a9c8091040458999",
            "289d5e76b69c4675980b1e2087e5db53",
            "8ea6a5ecaaea4565a0285cbeb379bf8e",
            "9d7eb710681941bc8190dd466e525582"
          ]
        },
        "id": "648be723",
        "outputId": "6bc8b3fd-22dc-41f9-b014-ae698230a57a"
      },
      "outputs": [
        {
          "output_type": "stream",
          "name": "stdout",
          "text": [
            "Create sweep with ID: 1djgsnaf\n",
            "Sweep URL: https://wandb.ai/ronildosilva/github_aistream-peelout_flow-forecast/sweeps/1djgsnaf\n"
          ]
        },
        {
          "output_type": "stream",
          "name": "stderr",
          "text": [
            "\u001b[34m\u001b[1mwandb\u001b[0m: Agent Starting Run: ndinusi2 with config:\n",
            "\u001b[34m\u001b[1mwandb\u001b[0m: \tbatch_size: 200\n",
            "\u001b[34m\u001b[1mwandb\u001b[0m: \tdropout: 0.1\n",
            "\u001b[34m\u001b[1mwandb\u001b[0m: \tforecast_history: 14\n",
            "\u001b[34m\u001b[1mwandb\u001b[0m: \tforecast_length: 1\n",
            "\u001b[34m\u001b[1mwandb\u001b[0m: \thidden_decoder: 32\n",
            "\u001b[34m\u001b[1mwandb\u001b[0m: \thidden_encoder: 32\n",
            "\u001b[34m\u001b[1mwandb\u001b[0m: \tlr: 0.001\n",
            "\u001b[34m\u001b[1mwandb\u001b[0m: \tout_seq_length: 1\n",
            "\u001b[34m\u001b[1mwandb\u001b[0m: \u001b[33mWARNING\u001b[0m Ignored wandb.init() arg project when running a sweep.\n"
          ]
        },
        {
          "output_type": "display_data",
          "data": {
            "text/plain": [
              "<IPython.core.display.HTML object>"
            ],
            "text/html": [
              "wandb version 0.13.3 is available!  To upgrade, please run:\n",
              " $ pip install wandb --upgrade"
            ]
          },
          "metadata": {}
        },
        {
          "output_type": "display_data",
          "data": {
            "text/plain": [
              "<IPython.core.display.HTML object>"
            ],
            "text/html": [
              "Tracking run with wandb version 0.12.17"
            ]
          },
          "metadata": {}
        },
        {
          "output_type": "display_data",
          "data": {
            "text/plain": [
              "<IPython.core.display.HTML object>"
            ],
            "text/html": [
              "Run data is saved locally in <code>/content/wandb/run-20220914_173045-ndinusi2</code>"
            ]
          },
          "metadata": {}
        },
        {
          "output_type": "display_data",
          "data": {
            "text/plain": [
              "<IPython.core.display.HTML object>"
            ],
            "text/html": [
              "Syncing run <strong><a href=\"https://wandb.ai/ronildosilva/github_aistream-peelout_flow-forecast/runs/ndinusi2\" target=\"_blank\">glorious-sweep-1</a></strong> to <a href=\"https://wandb.ai/ronildosilva/github_aistream-peelout_flow-forecast\" target=\"_blank\">Weights & Biases</a> (<a href=\"https://wandb.me/run\" target=\"_blank\">docs</a>)<br/>Sweep page:  <a href=\"https://wandb.ai/ronildosilva/github_aistream-peelout_flow-forecast/sweeps/1djgsnaf\" target=\"_blank\">https://wandb.ai/ronildosilva/github_aistream-peelout_flow-forecast/sweeps/1djgsnaf</a>"
            ]
          },
          "metadata": {}
        },
        {
          "output_type": "stream",
          "name": "stdout",
          "text": [
            "{'batch_size': 200, 'dropout': 0.1, 'forecast_history': 14, 'forecast_length': 1, 'hidden_decoder': 32, 'hidden_encoder': 32, 'lr': 0.001, 'out_seq_length': 1}\n",
            "config made\n",
            "interpolate should be below\n",
            "Running code to add temporal features\n",
            "Created datetime feature columns are: \n",
            "['hour', 'month']\n",
            "scaling now\n",
            "interpolate should be below\n",
            "Running code to add temporal features\n",
            "Created datetime feature columns are: \n",
            "['hour', 'month']\n",
            "scaling now\n",
            "interpolate should be below\n",
            "Running code to add temporal features\n",
            "Created datetime feature columns are: \n",
            "['hour', 'month']\n",
            "scaling now\n",
            "Using Wandb config:\n",
            "{'batch_size': 200, 'dropout': 0.1, 'forecast_history': 14, 'forecast_length': 1, 'hidden_decoder': 32, 'hidden_encoder': 32, 'lr': 0.001, 'out_seq_length': 1, 'model_name': 'DARNN', 'model_type': 'PyTorch', 'model_params': {'n_time_series': 4, 'forecast_history': 14, 'hidden_size_encoder': 32, 'decoder_hidden_size': 32, 'out_feats': 1, 'dropout': 0.1, 'gru_lstm': False}, 'dataset_params': {'class': 'default', 'num_workers': 12, 'pin_memory': True, 'training_path': 'df_train_keras_tk.csv', 'validation_path': 'df_train_keras_tk.csv', 'test_path': 'df_train_keras_tk.csv', 'batch_size': 200, 'forecast_history': 13, 'forecast_length': 1, 'scaler': 'StandardScaler', 'train_start': 0, 'train_end': 100, 'valid_start': 101, 'valid_end': 151, 'sort_column': 'datetime', 'test_start': 151, 'test_end': 200, 'target_col': ['TimeConclusion'], 'relevant_cols': ['TimeConclusion', 'Duration'], 'interpolate': {'method': 'back_forward_generic', 'params': {'relevant_columns': ['TimeConclusion', 'Duration']}}, 'feature_param': {'datetime_params': {'hour': 'numerical', 'month': 'numerical'}}}, 'training_params': {'criterion': 'MSE', 'optimizer': 'SGD', 'optim_params': {'lr': 0.001}, 'epochs': 12, 'batch_size': 200}, 'early_stopping': {'patience': 3}, 'GCS': False, 'sweep': True, 'wandb': False, 'forward_params': {}, 'metrics': ['MSE', 'MAPE'], 'inference_params': {'datetime_start': '2010-01-13', 'hours_to_forecast': 336, 'num_prediction_samples': 20, 'test_csv_path': 'df_train_keras_tk.csv', 'decoder_params': {'decoder_function': 'simple_decode', 'unsqueeze_dim': 1}, 'dataset_params': {'file_path': 'df_train_keras_tk.csv', 'sort_column': 'datetime', 'scaling': 'StandardScaler', 'forecast_history': 13, 'forecast_length': 1, 'relevant_cols': ['TimeConclusion', 'Duration'], 'target_col': ['TimeConclusion'], 'interpolate_param': {'method': 'back_forward_generic', 'params': {'relevant_columns': ['TimeConclusion', 'Duration']}}, 'feature_params': {'datetime_params': {'hour': 'numerical', 'month': 'numerical'}}}}}\n",
            "Torch is using cpu\n",
            "using 12\n",
            "Pin memory set to true\n",
            "running torch_single_train\n"
          ]
        },
        {
          "output_type": "stream",
          "name": "stderr",
          "text": [
            "This DataLoader will create 12 worker processes in total. Our suggested max number of worker in current system is 2, which is smaller than what this DataLoader is going to create. Please be aware that excessive worker creation might get DataLoader running slow or even freeze, lower the worker number to avoid potential slowness/freeze if necessary.\n"
          ]
        },
        {
          "output_type": "stream",
          "name": "stdout",
          "text": [
            "The running loss is: \n",
            "1.0518139600753784\n",
            "The number of items in train is: 1\n",
            "The loss for epoch 0\n",
            "1.0518139600753784\n",
            "Computing validation loss\n",
            "running torch_single_train\n"
          ]
        },
        {
          "output_type": "stream",
          "name": "stderr",
          "text": [
            "This DataLoader will create 12 worker processes in total. Our suggested max number of worker in current system is 2, which is smaller than what this DataLoader is going to create. Please be aware that excessive worker creation might get DataLoader running slow or even freeze, lower the worker number to avoid potential slowness/freeze if necessary.\n"
          ]
        },
        {
          "output_type": "stream",
          "name": "stdout",
          "text": [
            "The running loss is: \n",
            "1.0534672737121582\n",
            "The number of items in train is: 1\n",
            "The loss for epoch 1\n",
            "1.0534672737121582\n",
            "Computing validation loss\n",
            "running torch_single_train\n"
          ]
        },
        {
          "output_type": "stream",
          "name": "stderr",
          "text": [
            "This DataLoader will create 12 worker processes in total. Our suggested max number of worker in current system is 2, which is smaller than what this DataLoader is going to create. Please be aware that excessive worker creation might get DataLoader running slow or even freeze, lower the worker number to avoid potential slowness/freeze if necessary.\n"
          ]
        },
        {
          "output_type": "stream",
          "name": "stdout",
          "text": [
            "The running loss is: \n",
            "1.053360939025879\n",
            "The number of items in train is: 1\n",
            "The loss for epoch 2\n",
            "1.053360939025879\n",
            "Computing validation loss\n",
            "running torch_single_train\n"
          ]
        },
        {
          "output_type": "stream",
          "name": "stderr",
          "text": [
            "This DataLoader will create 12 worker processes in total. Our suggested max number of worker in current system is 2, which is smaller than what this DataLoader is going to create. Please be aware that excessive worker creation might get DataLoader running slow or even freeze, lower the worker number to avoid potential slowness/freeze if necessary.\n"
          ]
        },
        {
          "output_type": "stream",
          "name": "stdout",
          "text": [
            "The running loss is: \n",
            "1.0528709888458252\n",
            "The number of items in train is: 1\n",
            "The loss for epoch 3\n",
            "1.0528709888458252\n",
            "Computing validation loss\n",
            "running torch_single_train\n"
          ]
        },
        {
          "output_type": "stream",
          "name": "stderr",
          "text": [
            "This DataLoader will create 12 worker processes in total. Our suggested max number of worker in current system is 2, which is smaller than what this DataLoader is going to create. Please be aware that excessive worker creation might get DataLoader running slow or even freeze, lower the worker number to avoid potential slowness/freeze if necessary.\n"
          ]
        },
        {
          "output_type": "stream",
          "name": "stdout",
          "text": [
            "The running loss is: \n",
            "1.0516510009765625\n",
            "The number of items in train is: 1\n",
            "The loss for epoch 4\n",
            "1.0516510009765625\n",
            "Computing validation loss\n",
            "running torch_single_train\n"
          ]
        },
        {
          "output_type": "stream",
          "name": "stderr",
          "text": [
            "This DataLoader will create 12 worker processes in total. Our suggested max number of worker in current system is 2, which is smaller than what this DataLoader is going to create. Please be aware that excessive worker creation might get DataLoader running slow or even freeze, lower the worker number to avoid potential slowness/freeze if necessary.\n"
          ]
        },
        {
          "output_type": "stream",
          "name": "stdout",
          "text": [
            "The running loss is: \n",
            "1.0518423318862915\n",
            "The number of items in train is: 1\n",
            "The loss for epoch 5\n",
            "1.0518423318862915\n",
            "Computing validation loss\n",
            "running torch_single_train\n"
          ]
        },
        {
          "output_type": "stream",
          "name": "stderr",
          "text": [
            "This DataLoader will create 12 worker processes in total. Our suggested max number of worker in current system is 2, which is smaller than what this DataLoader is going to create. Please be aware that excessive worker creation might get DataLoader running slow or even freeze, lower the worker number to avoid potential slowness/freeze if necessary.\n"
          ]
        },
        {
          "output_type": "stream",
          "name": "stdout",
          "text": [
            "The running loss is: \n",
            "1.053450584411621\n",
            "The number of items in train is: 1\n",
            "The loss for epoch 6\n",
            "1.053450584411621\n",
            "Computing validation loss\n",
            "running torch_single_train\n"
          ]
        },
        {
          "output_type": "stream",
          "name": "stderr",
          "text": [
            "This DataLoader will create 12 worker processes in total. Our suggested max number of worker in current system is 2, which is smaller than what this DataLoader is going to create. Please be aware that excessive worker creation might get DataLoader running slow or even freeze, lower the worker number to avoid potential slowness/freeze if necessary.\n"
          ]
        },
        {
          "output_type": "stream",
          "name": "stdout",
          "text": [
            "The running loss is: \n",
            "1.0525916814804077\n",
            "The number of items in train is: 1\n",
            "The loss for epoch 7\n",
            "1.0525916814804077\n",
            "Computing validation loss\n",
            "running torch_single_train\n"
          ]
        },
        {
          "output_type": "stream",
          "name": "stderr",
          "text": [
            "This DataLoader will create 12 worker processes in total. Our suggested max number of worker in current system is 2, which is smaller than what this DataLoader is going to create. Please be aware that excessive worker creation might get DataLoader running slow or even freeze, lower the worker number to avoid potential slowness/freeze if necessary.\n"
          ]
        },
        {
          "output_type": "stream",
          "name": "stdout",
          "text": [
            "The running loss is: \n",
            "1.0509390830993652\n",
            "The number of items in train is: 1\n",
            "The loss for epoch 8\n",
            "1.0509390830993652\n",
            "Computing validation loss\n",
            "running torch_single_train\n"
          ]
        },
        {
          "output_type": "stream",
          "name": "stderr",
          "text": [
            "This DataLoader will create 12 worker processes in total. Our suggested max number of worker in current system is 2, which is smaller than what this DataLoader is going to create. Please be aware that excessive worker creation might get DataLoader running slow or even freeze, lower the worker number to avoid potential slowness/freeze if necessary.\n"
          ]
        },
        {
          "output_type": "stream",
          "name": "stdout",
          "text": [
            "The running loss is: \n",
            "1.0521492958068848\n",
            "The number of items in train is: 1\n",
            "The loss for epoch 9\n",
            "1.0521492958068848\n",
            "Computing validation loss\n",
            "running torch_single_train\n"
          ]
        },
        {
          "output_type": "stream",
          "name": "stderr",
          "text": [
            "This DataLoader will create 12 worker processes in total. Our suggested max number of worker in current system is 2, which is smaller than what this DataLoader is going to create. Please be aware that excessive worker creation might get DataLoader running slow or even freeze, lower the worker number to avoid potential slowness/freeze if necessary.\n"
          ]
        },
        {
          "output_type": "stream",
          "name": "stdout",
          "text": [
            "The running loss is: \n",
            "1.0524377822875977\n",
            "The number of items in train is: 1\n",
            "The loss for epoch 10\n",
            "1.0524377822875977\n",
            "Computing validation loss\n",
            "running torch_single_train\n"
          ]
        },
        {
          "output_type": "stream",
          "name": "stderr",
          "text": [
            "This DataLoader will create 12 worker processes in total. Our suggested max number of worker in current system is 2, which is smaller than what this DataLoader is going to create. Please be aware that excessive worker creation might get DataLoader running slow or even freeze, lower the worker number to avoid potential slowness/freeze if necessary.\n"
          ]
        },
        {
          "output_type": "stream",
          "name": "stdout",
          "text": [
            "The running loss is: \n",
            "1.0515049695968628\n",
            "The number of items in train is: 1\n",
            "The loss for epoch 11\n",
            "1.0515049695968628\n",
            "Computing validation loss\n",
            "Computing validation loss\n"
          ]
        },
        {
          "output_type": "stream",
          "name": "stderr",
          "text": [
            "This DataLoader will create 12 worker processes in total. Our suggested max number of worker in current system is 2, which is smaller than what this DataLoader is going to create. Please be aware that excessive worker creation might get DataLoader running slow or even freeze, lower the worker number to avoid potential slowness/freeze if necessary.\n"
          ]
        },
        {
          "output_type": "stream",
          "name": "stdout",
          "text": [
            "test loss: 29.014607475604862\n",
            "This model is currently forecasting for: 1 targets\n",
            "interpolate should be below\n",
            "Running code to add temporal features\n",
            "Created datetime feature columns are: \n",
            "['hour', 'month']\n",
            "scaling now\n",
            "CSV Path below\n",
            "df_train_keras_tk.csv\n",
            "Add debugging crap below\n",
            "Add debugging crap below\n",
            "Add debugging crap below\n",
            "Add debugging crap below\n",
            "Add debugging crap below\n",
            "Add debugging crap below\n",
            "Add debugging crap below\n",
            "Add debugging crap below\n",
            "Add debugging crap below\n",
            "Add debugging crap below\n",
            "Add debugging crap below\n",
            "Add debugging crap below\n",
            "Add debugging crap below\n",
            "Add debugging crap below\n",
            "Add debugging crap below\n",
            "Add debugging crap below\n",
            "Add debugging crap below\n",
            "Add debugging crap below\n",
            "Add debugging crap below\n",
            "Add debugging crap below\n",
            "Add debugging crap below\n",
            "<class 'numpy.ndarray'>\n",
            "Un-transforming data\n",
            "Current historical dataframe \n",
            "      TimeConclusion  Duration   datetime  original_index  hour  month  \\\n",
            "1851         34.9812    0.0245 2012-01-18            1851     0      1   \n",
            "1852         34.9595    0.0217 2012-01-18            1852     0      1   \n",
            "1853         -0.0000   34.9595 2012-03-01            1853     0      3   \n",
            "1854         43.8941    0.1111 2010-01-19            1854     0      1   \n",
            "1855         43.7203    0.1738 2010-02-11            1855     0      2   \n",
            "...              ...       ...        ...             ...   ...    ...   \n",
            "2195         -0.0000   15.0003 2011-06-11            2195     0      6   \n",
            "2196         48.1619    0.0000 2011-03-22            2196     0      3   \n",
            "2197         48.1535    0.0084 2011-04-01            2197     0      4   \n",
            "2198         48.1531    0.0004 2011-04-01            2198     0      4   \n",
            "2199         15.0005   33.1526 2011-04-07            2199     0      4   \n",
            "\n",
            "          preds  pred_TimeConclusion  \n",
            "1851   0.000000             0.000000  \n",
            "1852   0.000000             0.000000  \n",
            "1853   0.000000             0.000000  \n",
            "1854   0.000000             0.000000  \n",
            "1855   0.000000             0.000000  \n",
            "...         ...                  ...  \n",
            "2195  26.283024            26.283024  \n",
            "2196  26.273748            26.273748  \n",
            "2197  26.292725            26.292725  \n",
            "2198  26.292143            26.292143  \n",
            "2199  26.325758            26.325758  \n",
            "\n",
            "[349 rows x 8 columns]\n"
          ]
        },
        {
          "output_type": "stream",
          "name": "stderr",
          "text": [
            "Using a non-full backward hook when the forward contains multiple autograd Nodes is deprecated and will be removed in future versions. This hook will be missing some grad_input. Please use register_full_backward_hook to get the documented behavior.\n",
            "Using a non-full backward hook when outputs are generated by different autograd Nodes is deprecated and will be removed in future versions. This hook will be missing some grad_output. Please use register_full_backward_hook to get the documented behavior.\n",
            "Named tensors and all their associated APIs are an experimental feature and subject to change. Please do not use them for anything important until they are released as stable. (Triggered internally at  ../c10/core/TensorImpl.h:1405.)\n",
            "/usr/local/lib/python3.7/dist-packages/torch/nn/modules/module.py:1053: UserWarning:\n",
            "\n",
            "Using a non-full backward hook when the forward contains multiple autograd Nodes is deprecated and will be removed in future versions. This hook will be missing some grad_input. Please use register_full_backward_hook to get the documented behavior.\n",
            "\n",
            "/usr/local/lib/python3.7/dist-packages/torch/nn/modules/module.py:1043: UserWarning:\n",
            "\n",
            "Using a non-full backward hook when outputs are generated by different autograd Nodes is deprecated and will be removed in future versions. This hook will be missing some grad_output. Please use register_full_backward_hook to get the documented behavior.\n",
            "\n"
          ]
        },
        {
          "output_type": "stream",
          "name": "stdout",
          "text": [
            "plotting with CI now\n",
            "Now plotting final plots\n"
          ]
        },
        {
          "output_type": "display_data",
          "data": {
            "text/plain": [
              "<IPython.core.display.HTML object>"
            ],
            "text/html": [
              "Waiting for W&B process to finish... <strong style=\"color:green\">(success).</strong>"
            ]
          },
          "metadata": {}
        },
        {
          "output_type": "display_data",
          "data": {
            "text/plain": [
              "VBox(children=(Label(value='0.164 MB of 0.164 MB uploaded (0.000 MB deduped)\\r'), FloatProgress(value=1.0, max…"
            ],
            "application/vnd.jupyter.widget-view+json": {
              "version_major": 2,
              "version_minor": 0,
              "model_id": "c66c4f2047dd4765ab04dbf3dd9c4340"
            }
          },
          "metadata": {}
        },
        {
          "output_type": "display_data",
          "data": {
            "text/plain": [
              "<IPython.core.display.HTML object>"
            ],
            "text/html": [
              "<style>\n",
              "    table.wandb td:nth-child(1) { padding: 0 10px; text-align: left ; width: auto;} td:nth-child(2) {text-align: left ; width: 100%}\n",
              "    .wandb-row { display: flex; flex-direction: row; flex-wrap: wrap; justify-content: flex-start; width: 100% }\n",
              "    .wandb-col { display: flex; flex-direction: column; flex-basis: 100%; flex: 1; padding: 10px; }\n",
              "    </style>\n",
              "<div class=\"wandb-row\"><div class=\"wandb-col\"><h3>Run history:</h3><br/><table class=\"wandb\"><tr><td>average_prediction_sharpe0</td><td>▁</td></tr><tr><td>epoch</td><td>▁▁▂▂▂▂▃▃▄▄▄▄▅▅▅▅▆▆▇▇▇▇███</td></tr><tr><td>loss</td><td>▃██▆▃▄█▆▁▄▅▃</td></tr></table><br/></div><div class=\"wandb-col\"><h3>Run summary:</h3><br/><table class=\"wandb\"><tr><td>average_prediction_sharpe0</td><td>1.12104</td></tr><tr><td>epoch</td><td>11</td></tr><tr><td>loss</td><td>1.0515</td></tr></table><br/></div></div>"
            ]
          },
          "metadata": {}
        },
        {
          "output_type": "display_data",
          "data": {
            "text/plain": [
              "<IPython.core.display.HTML object>"
            ],
            "text/html": [
              "Synced <strong style=\"color:#cdcd00\">glorious-sweep-1</strong>: <a href=\"https://wandb.ai/ronildosilva/github_aistream-peelout_flow-forecast/runs/ndinusi2\" target=\"_blank\">https://wandb.ai/ronildosilva/github_aistream-peelout_flow-forecast/runs/ndinusi2</a><br/>Synced 5 W&B file(s), 16 media file(s), 0 artifact file(s) and 0 other file(s)"
            ]
          },
          "metadata": {}
        },
        {
          "output_type": "display_data",
          "data": {
            "text/plain": [
              "<IPython.core.display.HTML object>"
            ],
            "text/html": [
              "Find logs at: <code>./wandb/run-20220914_173045-ndinusi2/logs</code>"
            ]
          },
          "metadata": {}
        },
        {
          "output_type": "stream",
          "name": "stderr",
          "text": [
            "\u001b[34m\u001b[1mwandb\u001b[0m: Sweep Agent: Waiting for job.\n",
            "\u001b[34m\u001b[1mwandb\u001b[0m: Sweep Agent: Exiting.\n"
          ]
        }
      ],
      "source": [
        "import wandb\n",
        "from flood_forecast.trainer import train_function\n",
        "\n",
        "\n",
        "sweep_id = wandb.sweep(wandb_sweep_config_full, project=\"github_aistream-peelout_flow-forecast\")\n",
        "#sweep_id = \"03l75ilz\"\n",
        "\n",
        "#file_path = \"01010500FVE_flow.csv\"\n",
        "file_path = \"df_train_keras_tk.csv\"\n",
        "\n",
        "wandb.agent(sweep_id, lambda: train_function(\"PyTorch\", make_config_file(file_path, \"01010500\", \"FVE\", None)))\n",
        "\n",
        "#model = train_function(\"PyTorch\", make_config_file(file_path, \"01010500\", \"FVE\", None))"
      ]
    },
    {
      "cell_type": "code",
      "source": [],
      "metadata": {
        "id": "j0skxfiXOe1P"
      },
      "id": "j0skxfiXOe1P",
      "execution_count": 24,
      "outputs": []
    }
  ],
  "metadata": {
    "kernelspec": {
      "display_name": "Python 3 (ipykernel)",
      "language": "python",
      "name": "python3"
    },
    "language_info": {
      "codemirror_mode": {
        "name": "ipython",
        "version": 3
      },
      "file_extension": ".py",
      "mimetype": "text/x-python",
      "name": "python",
      "nbconvert_exporter": "python",
      "pygments_lexer": "ipython3",
      "version": "3.8.10"
    },
    "papermill": {
      "default_parameters": {},
      "duration": 29.538863,
      "end_time": "2021-10-18T07:45:15.523057",
      "environment_variables": {},
      "exception": true,
      "input_path": "__notebook__.ipynb",
      "output_path": "__notebook__.ipynb",
      "parameters": {},
      "start_time": "2021-10-18T07:44:45.984194",
      "version": "2.3.3"
    },
    "colab": {
      "provenance": [],
      "collapsed_sections": [],
      "include_colab_link": true
    },
    "widgets": {
      "application/vnd.jupyter.widget-state+json": {
        "c66c4f2047dd4765ab04dbf3dd9c4340": {
          "model_module": "@jupyter-widgets/controls",
          "model_name": "VBoxModel",
          "model_module_version": "1.5.0",
          "state": {
            "_dom_classes": [],
            "_model_module": "@jupyter-widgets/controls",
            "_model_module_version": "1.5.0",
            "_model_name": "VBoxModel",
            "_view_count": null,
            "_view_module": "@jupyter-widgets/controls",
            "_view_module_version": "1.5.0",
            "_view_name": "VBoxView",
            "box_style": "",
            "children": [
              "IPY_MODEL_80c34709dbcb47a69dde40bdd624ceff",
              "IPY_MODEL_3527523673c049d088572e0c9b53e7cd"
            ],
            "layout": "IPY_MODEL_1bddac742f584e4dbbc24242d5b4c9c5"
          }
        },
        "80c34709dbcb47a69dde40bdd624ceff": {
          "model_module": "@jupyter-widgets/controls",
          "model_name": "LabelModel",
          "model_module_version": "1.5.0",
          "state": {
            "_dom_classes": [],
            "_model_module": "@jupyter-widgets/controls",
            "_model_module_version": "1.5.0",
            "_model_name": "LabelModel",
            "_view_count": null,
            "_view_module": "@jupyter-widgets/controls",
            "_view_module_version": "1.5.0",
            "_view_name": "LabelView",
            "description": "",
            "description_tooltip": null,
            "layout": "IPY_MODEL_caa56eaf2ecf46f6a9c8091040458999",
            "placeholder": "​",
            "style": "IPY_MODEL_289d5e76b69c4675980b1e2087e5db53",
            "value": "0.192 MB of 0.192 MB uploaded (0.000 MB deduped)\r"
          }
        },
        "3527523673c049d088572e0c9b53e7cd": {
          "model_module": "@jupyter-widgets/controls",
          "model_name": "FloatProgressModel",
          "model_module_version": "1.5.0",
          "state": {
            "_dom_classes": [],
            "_model_module": "@jupyter-widgets/controls",
            "_model_module_version": "1.5.0",
            "_model_name": "FloatProgressModel",
            "_view_count": null,
            "_view_module": "@jupyter-widgets/controls",
            "_view_module_version": "1.5.0",
            "_view_name": "ProgressView",
            "bar_style": "",
            "description": "",
            "description_tooltip": null,
            "layout": "IPY_MODEL_8ea6a5ecaaea4565a0285cbeb379bf8e",
            "max": 1,
            "min": 0,
            "orientation": "horizontal",
            "style": "IPY_MODEL_9d7eb710681941bc8190dd466e525582",
            "value": 1
          }
        },
        "1bddac742f584e4dbbc24242d5b4c9c5": {
          "model_module": "@jupyter-widgets/base",
          "model_name": "LayoutModel",
          "model_module_version": "1.2.0",
          "state": {
            "_model_module": "@jupyter-widgets/base",
            "_model_module_version": "1.2.0",
            "_model_name": "LayoutModel",
            "_view_count": null,
            "_view_module": "@jupyter-widgets/base",
            "_view_module_version": "1.2.0",
            "_view_name": "LayoutView",
            "align_content": null,
            "align_items": null,
            "align_self": null,
            "border": null,
            "bottom": null,
            "display": null,
            "flex": null,
            "flex_flow": null,
            "grid_area": null,
            "grid_auto_columns": null,
            "grid_auto_flow": null,
            "grid_auto_rows": null,
            "grid_column": null,
            "grid_gap": null,
            "grid_row": null,
            "grid_template_areas": null,
            "grid_template_columns": null,
            "grid_template_rows": null,
            "height": null,
            "justify_content": null,
            "justify_items": null,
            "left": null,
            "margin": null,
            "max_height": null,
            "max_width": null,
            "min_height": null,
            "min_width": null,
            "object_fit": null,
            "object_position": null,
            "order": null,
            "overflow": null,
            "overflow_x": null,
            "overflow_y": null,
            "padding": null,
            "right": null,
            "top": null,
            "visibility": null,
            "width": null
          }
        },
        "caa56eaf2ecf46f6a9c8091040458999": {
          "model_module": "@jupyter-widgets/base",
          "model_name": "LayoutModel",
          "model_module_version": "1.2.0",
          "state": {
            "_model_module": "@jupyter-widgets/base",
            "_model_module_version": "1.2.0",
            "_model_name": "LayoutModel",
            "_view_count": null,
            "_view_module": "@jupyter-widgets/base",
            "_view_module_version": "1.2.0",
            "_view_name": "LayoutView",
            "align_content": null,
            "align_items": null,
            "align_self": null,
            "border": null,
            "bottom": null,
            "display": null,
            "flex": null,
            "flex_flow": null,
            "grid_area": null,
            "grid_auto_columns": null,
            "grid_auto_flow": null,
            "grid_auto_rows": null,
            "grid_column": null,
            "grid_gap": null,
            "grid_row": null,
            "grid_template_areas": null,
            "grid_template_columns": null,
            "grid_template_rows": null,
            "height": null,
            "justify_content": null,
            "justify_items": null,
            "left": null,
            "margin": null,
            "max_height": null,
            "max_width": null,
            "min_height": null,
            "min_width": null,
            "object_fit": null,
            "object_position": null,
            "order": null,
            "overflow": null,
            "overflow_x": null,
            "overflow_y": null,
            "padding": null,
            "right": null,
            "top": null,
            "visibility": null,
            "width": null
          }
        },
        "289d5e76b69c4675980b1e2087e5db53": {
          "model_module": "@jupyter-widgets/controls",
          "model_name": "DescriptionStyleModel",
          "model_module_version": "1.5.0",
          "state": {
            "_model_module": "@jupyter-widgets/controls",
            "_model_module_version": "1.5.0",
            "_model_name": "DescriptionStyleModel",
            "_view_count": null,
            "_view_module": "@jupyter-widgets/base",
            "_view_module_version": "1.2.0",
            "_view_name": "StyleView",
            "description_width": ""
          }
        },
        "8ea6a5ecaaea4565a0285cbeb379bf8e": {
          "model_module": "@jupyter-widgets/base",
          "model_name": "LayoutModel",
          "model_module_version": "1.2.0",
          "state": {
            "_model_module": "@jupyter-widgets/base",
            "_model_module_version": "1.2.0",
            "_model_name": "LayoutModel",
            "_view_count": null,
            "_view_module": "@jupyter-widgets/base",
            "_view_module_version": "1.2.0",
            "_view_name": "LayoutView",
            "align_content": null,
            "align_items": null,
            "align_self": null,
            "border": null,
            "bottom": null,
            "display": null,
            "flex": null,
            "flex_flow": null,
            "grid_area": null,
            "grid_auto_columns": null,
            "grid_auto_flow": null,
            "grid_auto_rows": null,
            "grid_column": null,
            "grid_gap": null,
            "grid_row": null,
            "grid_template_areas": null,
            "grid_template_columns": null,
            "grid_template_rows": null,
            "height": null,
            "justify_content": null,
            "justify_items": null,
            "left": null,
            "margin": null,
            "max_height": null,
            "max_width": null,
            "min_height": null,
            "min_width": null,
            "object_fit": null,
            "object_position": null,
            "order": null,
            "overflow": null,
            "overflow_x": null,
            "overflow_y": null,
            "padding": null,
            "right": null,
            "top": null,
            "visibility": null,
            "width": null
          }
        },
        "9d7eb710681941bc8190dd466e525582": {
          "model_module": "@jupyter-widgets/controls",
          "model_name": "ProgressStyleModel",
          "model_module_version": "1.5.0",
          "state": {
            "_model_module": "@jupyter-widgets/controls",
            "_model_module_version": "1.5.0",
            "_model_name": "ProgressStyleModel",
            "_view_count": null,
            "_view_module": "@jupyter-widgets/base",
            "_view_module_version": "1.2.0",
            "_view_name": "StyleView",
            "bar_color": null,
            "description_width": ""
          }
        }
      }
    }
  },
  "nbformat": 4,
  "nbformat_minor": 5
}