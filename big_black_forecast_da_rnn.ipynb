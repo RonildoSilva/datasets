{
  "cells": [
    {
      "cell_type": "markdown",
      "metadata": {
        "id": "view-in-github",
        "colab_type": "text"
      },
      "source": [
        "<a href=\"https://colab.research.google.com/github/RonildoSilva/datasets/blob/main/big_black_forecast_da_rnn.ipynb\" target=\"_parent\"><img src=\"https://colab.research.google.com/assets/colab-badge.svg\" alt=\"Open In Colab\"/></a>"
      ]
    },
    {
      "cell_type": "code",
      "execution_count": 1,
      "id": "b8558057",
      "metadata": {
        "_cell_guid": "b1076dfc-b9ad-4769-8c92-a6c4dae69d19",
        "_uuid": "8f2839f25d086af736a60e9eeb907d3b93b6e0e5",
        "execution": {
          "iopub.execute_input": "2021-10-18T07:44:53.831587Z",
          "iopub.status.busy": "2021-10-18T07:44:53.830943Z",
          "iopub.status.idle": "2021-10-18T07:45:14.831734Z",
          "shell.execute_reply": "2021-10-18T07:45:14.832227Z",
          "shell.execute_reply.started": "2021-10-18T07:28:07.959727Z"
        },
        "papermill": {
          "duration": 21.017822,
          "end_time": "2021-10-18T07:45:14.832538",
          "exception": false,
          "start_time": "2021-10-18T07:44:53.814716",
          "status": "completed"
        },
        "tags": [],
        "colab": {
          "base_uri": "https://localhost:8080/",
          "height": 1000
        },
        "id": "b8558057",
        "outputId": "5216673c-3b99-440b-e00b-eb6d509ada61"
      },
      "outputs": [
        {
          "output_type": "stream",
          "name": "stdout",
          "text": [
            "Looking in indexes: https://pypi.org/simple, https://us-python.pkg.dev/colab-wheels/public/simple/\n",
            "Collecting flood-forecast\n",
            "  Downloading flood_forecast-0.99998.dev0-py3-none-any.whl (117 kB)\n",
            "\u001b[K     |████████████████████████████████| 117 kB 2.2 MB/s \n",
            "\u001b[?25hRequirement already satisfied: requests in /usr/local/lib/python3.7/dist-packages (from flood-forecast) (2.23.0)\n",
            "Collecting plotly~=5.7.0\n",
            "  Downloading plotly-5.7.0-py2.py3-none-any.whl (28.8 MB)\n",
            "\u001b[K     |████████████████████████████████| 28.8 MB 2.8 MB/s \n",
            "\u001b[?25hCollecting setuptools~=62.0.0\n",
            "  Downloading setuptools-62.0.0-py3-none-any.whl (1.1 MB)\n",
            "\u001b[K     |████████████████████████████████| 1.1 MB 44.9 MB/s \n",
            "\u001b[?25hRequirement already satisfied: sphinx in /usr/local/lib/python3.7/dist-packages (from flood-forecast) (1.8.6)\n",
            "Requirement already satisfied: numba>=0.50 in /usr/local/lib/python3.7/dist-packages (from flood-forecast) (0.56.2)\n",
            "Collecting tb-nightly\n",
            "  Downloading tb_nightly-2.11.0a20220920-py3-none-any.whl (5.9 MB)\n",
            "\u001b[K     |████████████████████████████████| 5.9 MB 24.0 MB/s \n",
            "\u001b[?25hRequirement already satisfied: future in /usr/local/lib/python3.7/dist-packages (from flood-forecast) (0.16.0)\n",
            "Collecting sphinx-autodoc-typehints\n",
            "  Downloading sphinx_autodoc_typehints-1.19.2-py3-none-any.whl (12 kB)\n",
            "Collecting mpld3>=0.5\n",
            "  Downloading mpld3-0.5.8-py3-none-any.whl (201 kB)\n",
            "\u001b[K     |████████████████████████████████| 201 kB 41.5 MB/s \n",
            "\u001b[?25hCollecting wandb==0.12.17\n",
            "  Downloading wandb-0.12.17-py2.py3-none-any.whl (1.8 MB)\n",
            "\u001b[K     |████████████████████████████████| 1.8 MB 53.4 MB/s \n",
            "\u001b[?25hRequirement already satisfied: torchvision>=0.6.0 in /usr/local/lib/python3.7/dist-packages (from flood-forecast) (0.13.1+cu113)\n",
            "Requirement already satisfied: torch in /usr/local/lib/python3.7/dist-packages (from flood-forecast) (1.12.1+cu113)\n",
            "Collecting google-cloud\n",
            "  Downloading google_cloud-0.34.0-py2.py3-none-any.whl (1.8 kB)\n",
            "Requirement already satisfied: pandas in /usr/local/lib/python3.7/dist-packages (from flood-forecast) (1.3.5)\n",
            "Requirement already satisfied: google-cloud-storage in /usr/local/lib/python3.7/dist-packages (from flood-forecast) (1.18.1)\n",
            "Collecting sphinx-rtd-theme\n",
            "  Downloading sphinx_rtd_theme-1.0.0-py2.py3-none-any.whl (2.8 MB)\n",
            "\u001b[K     |████████████████████████████████| 2.8 MB 36.7 MB/s \n",
            "\u001b[?25hRequirement already satisfied: scikit-learn>=1.0.1 in /usr/local/lib/python3.7/dist-packages (from flood-forecast) (1.0.2)\n",
            "Collecting shap==0.40.0\n",
            "  Downloading shap-0.40.0-cp37-cp37m-manylinux2010_x86_64.whl (564 kB)\n",
            "\u001b[K     |████████████████████████████████| 564 kB 53.0 MB/s \n",
            "\u001b[?25hRequirement already satisfied: numpy>=1.21 in /usr/local/lib/python3.7/dist-packages (from flood-forecast) (1.21.6)\n",
            "Requirement already satisfied: pytz>=2022.1 in /usr/local/lib/python3.7/dist-packages (from flood-forecast) (2022.2.1)\n",
            "Requirement already satisfied: seaborn in /usr/local/lib/python3.7/dist-packages (from flood-forecast) (0.11.2)\n",
            "Requirement already satisfied: h5py in /usr/local/lib/python3.7/dist-packages (from flood-forecast) (3.1.0)\n",
            "Collecting slicer==0.0.7\n",
            "  Downloading slicer-0.0.7-py3-none-any.whl (14 kB)\n",
            "Requirement already satisfied: packaging>20.9 in /usr/local/lib/python3.7/dist-packages (from shap==0.40.0->flood-forecast) (21.3)\n",
            "Requirement already satisfied: scipy in /usr/local/lib/python3.7/dist-packages (from shap==0.40.0->flood-forecast) (1.7.3)\n",
            "Requirement already satisfied: cloudpickle in /usr/local/lib/python3.7/dist-packages (from shap==0.40.0->flood-forecast) (1.5.0)\n",
            "Requirement already satisfied: tqdm>4.25.0 in /usr/local/lib/python3.7/dist-packages (from shap==0.40.0->flood-forecast) (4.64.1)\n",
            "Requirement already satisfied: promise<3,>=2.0 in /usr/local/lib/python3.7/dist-packages (from wandb==0.12.17->flood-forecast) (2.3)\n",
            "Collecting pathtools\n",
            "  Downloading pathtools-0.1.2.tar.gz (11 kB)\n",
            "Collecting docker-pycreds>=0.4.0\n",
            "  Downloading docker_pycreds-0.4.0-py2.py3-none-any.whl (9.0 kB)\n",
            "Requirement already satisfied: six>=1.13.0 in /usr/local/lib/python3.7/dist-packages (from wandb==0.12.17->flood-forecast) (1.15.0)\n",
            "Collecting shortuuid>=0.5.0\n",
            "  Downloading shortuuid-1.0.9-py3-none-any.whl (9.4 kB)\n",
            "Requirement already satisfied: psutil>=5.0.0 in /usr/local/lib/python3.7/dist-packages (from wandb==0.12.17->flood-forecast) (5.4.8)\n",
            "Requirement already satisfied: python-dateutil>=2.6.1 in /usr/local/lib/python3.7/dist-packages (from wandb==0.12.17->flood-forecast) (2.8.2)\n",
            "Collecting GitPython>=1.0.0\n",
            "  Downloading GitPython-3.1.27-py3-none-any.whl (181 kB)\n",
            "\u001b[K     |████████████████████████████████| 181 kB 50.5 MB/s \n",
            "\u001b[?25hRequirement already satisfied: protobuf<4.0dev,>=3.12.0 in /usr/local/lib/python3.7/dist-packages (from wandb==0.12.17->flood-forecast) (3.17.3)\n",
            "Requirement already satisfied: PyYAML in /usr/local/lib/python3.7/dist-packages (from wandb==0.12.17->flood-forecast) (6.0)\n",
            "Collecting setproctitle\n",
            "  Downloading setproctitle-1.3.2-cp37-cp37m-manylinux_2_5_x86_64.manylinux1_x86_64.manylinux_2_17_x86_64.manylinux2014_x86_64.whl (30 kB)\n",
            "Collecting sentry-sdk>=1.0.0\n",
            "  Downloading sentry_sdk-1.9.8-py2.py3-none-any.whl (158 kB)\n",
            "\u001b[K     |████████████████████████████████| 158 kB 51.1 MB/s \n",
            "\u001b[?25hRequirement already satisfied: Click!=8.0.0,>=7.0 in /usr/local/lib/python3.7/dist-packages (from wandb==0.12.17->flood-forecast) (7.1.2)\n",
            "Collecting gitdb<5,>=4.0.1\n",
            "  Downloading gitdb-4.0.9-py3-none-any.whl (63 kB)\n",
            "\u001b[K     |████████████████████████████████| 63 kB 1.6 MB/s \n",
            "\u001b[?25hRequirement already satisfied: typing-extensions>=3.7.4.3 in /usr/local/lib/python3.7/dist-packages (from GitPython>=1.0.0->wandb==0.12.17->flood-forecast) (4.1.1)\n",
            "Collecting smmap<6,>=3.0.1\n",
            "  Downloading smmap-5.0.0-py3-none-any.whl (24 kB)\n",
            "Requirement already satisfied: matplotlib in /usr/local/lib/python3.7/dist-packages (from mpld3>=0.5->flood-forecast) (3.2.2)\n",
            "Requirement already satisfied: jinja2 in /usr/local/lib/python3.7/dist-packages (from mpld3>=0.5->flood-forecast) (2.11.3)\n",
            "Requirement already satisfied: llvmlite<0.40,>=0.39.0dev0 in /usr/local/lib/python3.7/dist-packages (from numba>=0.50->flood-forecast) (0.39.1)\n",
            "Collecting numba>=0.50\n",
            "  Downloading numba-0.56.0-cp37-cp37m-manylinux2014_x86_64.manylinux_2_17_x86_64.whl (3.5 MB)\n",
            "\u001b[K     |████████████████████████████████| 3.5 MB 35.5 MB/s \n",
            "\u001b[?25hRequirement already satisfied: importlib-metadata in /usr/local/lib/python3.7/dist-packages (from numba>=0.50->flood-forecast) (4.12.0)\n",
            "Requirement already satisfied: pyparsing!=3.0.5,>=2.0.2 in /usr/local/lib/python3.7/dist-packages (from packaging>20.9->shap==0.40.0->flood-forecast) (3.0.9)\n",
            "Requirement already satisfied: tenacity>=6.2.0 in /usr/local/lib/python3.7/dist-packages (from plotly~=5.7.0->flood-forecast) (8.0.1)\n",
            "Requirement already satisfied: idna<3,>=2.5 in /usr/local/lib/python3.7/dist-packages (from requests->flood-forecast) (2.10)\n",
            "Requirement already satisfied: certifi>=2017.4.17 in /usr/local/lib/python3.7/dist-packages (from requests->flood-forecast) (2022.6.15)\n",
            "Requirement already satisfied: chardet<4,>=3.0.2 in /usr/local/lib/python3.7/dist-packages (from requests->flood-forecast) (3.0.4)\n",
            "Requirement already satisfied: urllib3!=1.25.0,!=1.25.1,<1.26,>=1.21.1 in /usr/local/lib/python3.7/dist-packages (from requests->flood-forecast) (1.24.3)\n",
            "Requirement already satisfied: threadpoolctl>=2.0.0 in /usr/local/lib/python3.7/dist-packages (from scikit-learn>=1.0.1->flood-forecast) (3.1.0)\n",
            "Requirement already satisfied: joblib>=0.11 in /usr/local/lib/python3.7/dist-packages (from scikit-learn>=1.0.1->flood-forecast) (1.1.0)\n",
            "Collecting sentry-sdk>=1.0.0\n",
            "  Downloading sentry_sdk-1.9.7-py2.py3-none-any.whl (157 kB)\n",
            "\u001b[K     |████████████████████████████████| 157 kB 46.7 MB/s \n",
            "\u001b[?25h  Downloading sentry_sdk-1.9.6-py2.py3-none-any.whl (157 kB)\n",
            "\u001b[K     |████████████████████████████████| 157 kB 52.9 MB/s \n",
            "\u001b[?25h  Downloading sentry_sdk-1.9.5-py2.py3-none-any.whl (157 kB)\n",
            "\u001b[K     |████████████████████████████████| 157 kB 36.8 MB/s \n",
            "\u001b[?25h  Downloading sentry_sdk-1.9.4-py2.py3-none-any.whl (157 kB)\n",
            "\u001b[K     |████████████████████████████████| 157 kB 51.9 MB/s \n",
            "\u001b[?25h  Downloading sentry_sdk-1.9.3-py2.py3-none-any.whl (157 kB)\n",
            "\u001b[K     |████████████████████████████████| 157 kB 50.5 MB/s \n",
            "\u001b[?25h  Downloading sentry_sdk-1.9.2-py2.py3-none-any.whl (157 kB)\n",
            "\u001b[K     |████████████████████████████████| 157 kB 51.7 MB/s \n",
            "\u001b[?25h  Downloading sentry_sdk-1.9.1-py2.py3-none-any.whl (157 kB)\n",
            "\u001b[K     |████████████████████████████████| 157 kB 41.7 MB/s \n",
            "\u001b[?25h  Downloading sentry_sdk-1.9.0-py2.py3-none-any.whl (156 kB)\n",
            "\u001b[K     |████████████████████████████████| 156 kB 52.6 MB/s \n",
            "\u001b[?25hRequirement already satisfied: pillow!=8.3.*,>=5.3.0 in /usr/local/lib/python3.7/dist-packages (from torchvision>=0.6.0->flood-forecast) (7.1.2)\n",
            "Requirement already satisfied: google-resumable-media<0.5.0dev,>=0.3.1 in /usr/local/lib/python3.7/dist-packages (from google-cloud-storage->flood-forecast) (0.4.1)\n",
            "Requirement already satisfied: google-auth>=1.2.0 in /usr/local/lib/python3.7/dist-packages (from google-cloud-storage->flood-forecast) (1.35.0)\n",
            "Requirement already satisfied: google-cloud-core<2.0dev,>=1.0.0 in /usr/local/lib/python3.7/dist-packages (from google-cloud-storage->flood-forecast) (1.0.3)\n",
            "Requirement already satisfied: pyasn1-modules>=0.2.1 in /usr/local/lib/python3.7/dist-packages (from google-auth>=1.2.0->google-cloud-storage->flood-forecast) (0.2.8)\n",
            "Requirement already satisfied: cachetools<5.0,>=2.0.0 in /usr/local/lib/python3.7/dist-packages (from google-auth>=1.2.0->google-cloud-storage->flood-forecast) (4.2.4)\n",
            "Requirement already satisfied: rsa<5,>=3.1.4 in /usr/local/lib/python3.7/dist-packages (from google-auth>=1.2.0->google-cloud-storage->flood-forecast) (4.9)\n",
            "Requirement already satisfied: google-api-core<2.0.0dev,>=1.14.0 in /usr/local/lib/python3.7/dist-packages (from google-cloud-core<2.0dev,>=1.0.0->google-cloud-storage->flood-forecast) (1.31.6)\n",
            "Requirement already satisfied: googleapis-common-protos<2.0dev,>=1.6.0 in /usr/local/lib/python3.7/dist-packages (from google-api-core<2.0.0dev,>=1.14.0->google-cloud-core<2.0dev,>=1.0.0->google-cloud-storage->flood-forecast) (1.56.4)\n",
            "Requirement already satisfied: pyasn1<0.5.0,>=0.4.6 in /usr/local/lib/python3.7/dist-packages (from pyasn1-modules>=0.2.1->google-auth>=1.2.0->google-cloud-storage->flood-forecast) (0.4.8)\n",
            "Requirement already satisfied: cached-property in /usr/local/lib/python3.7/dist-packages (from h5py->flood-forecast) (1.5.2)\n",
            "Requirement already satisfied: zipp>=0.5 in /usr/local/lib/python3.7/dist-packages (from importlib-metadata->numba>=0.50->flood-forecast) (3.8.1)\n",
            "Requirement already satisfied: MarkupSafe>=0.23 in /usr/local/lib/python3.7/dist-packages (from jinja2->mpld3>=0.5->flood-forecast) (2.0.1)\n",
            "Requirement already satisfied: cycler>=0.10 in /usr/local/lib/python3.7/dist-packages (from matplotlib->mpld3>=0.5->flood-forecast) (0.11.0)\n",
            "Requirement already satisfied: kiwisolver>=1.0.1 in /usr/local/lib/python3.7/dist-packages (from matplotlib->mpld3>=0.5->flood-forecast) (1.4.4)\n",
            "Requirement already satisfied: sphinxcontrib-websupport in /usr/local/lib/python3.7/dist-packages (from sphinx->flood-forecast) (1.2.4)\n",
            "Requirement already satisfied: babel!=2.0,>=1.3 in /usr/local/lib/python3.7/dist-packages (from sphinx->flood-forecast) (2.10.3)\n",
            "Requirement already satisfied: alabaster<0.8,>=0.7 in /usr/local/lib/python3.7/dist-packages (from sphinx->flood-forecast) (0.7.12)\n",
            "Requirement already satisfied: Pygments>=2.0 in /usr/local/lib/python3.7/dist-packages (from sphinx->flood-forecast) (2.6.1)\n",
            "Requirement already satisfied: docutils<0.18,>=0.11 in /usr/local/lib/python3.7/dist-packages (from sphinx->flood-forecast) (0.17.1)\n",
            "Requirement already satisfied: snowballstemmer>=1.1 in /usr/local/lib/python3.7/dist-packages (from sphinx->flood-forecast) (2.2.0)\n",
            "Requirement already satisfied: imagesize in /usr/local/lib/python3.7/dist-packages (from sphinx->flood-forecast) (1.4.1)\n",
            "Collecting sphinx\n",
            "  Downloading Sphinx-5.1.1-py3-none-any.whl (3.2 MB)\n",
            "\u001b[K     |████████████████████████████████| 3.2 MB 33.3 MB/s \n",
            "\u001b[?25hCollecting sphinxcontrib-jsmath\n",
            "  Downloading sphinxcontrib_jsmath-1.0.1-py2.py3-none-any.whl (5.1 kB)\n",
            "Collecting sphinxcontrib-applehelp\n",
            "  Downloading sphinxcontrib_applehelp-1.0.2-py2.py3-none-any.whl (121 kB)\n",
            "\u001b[K     |████████████████████████████████| 121 kB 63.8 MB/s \n",
            "\u001b[?25hCollecting sphinxcontrib-qthelp\n",
            "  Downloading sphinxcontrib_qthelp-1.0.3-py2.py3-none-any.whl (90 kB)\n",
            "\u001b[K     |████████████████████████████████| 90 kB 8.9 MB/s \n",
            "\u001b[?25hCollecting sphinxcontrib-htmlhelp>=2.0.0\n",
            "  Downloading sphinxcontrib_htmlhelp-2.0.0-py2.py3-none-any.whl (100 kB)\n",
            "\u001b[K     |████████████████████████████████| 100 kB 9.3 MB/s \n",
            "\u001b[?25hCollecting sphinxcontrib-devhelp\n",
            "  Downloading sphinxcontrib_devhelp-1.0.2-py2.py3-none-any.whl (84 kB)\n",
            "\u001b[K     |████████████████████████████████| 84 kB 3.6 MB/s \n",
            "\u001b[?25hRequirement already satisfied: sphinxcontrib-serializinghtml>=1.1.5 in /usr/local/lib/python3.7/dist-packages (from sphinx->flood-forecast) (1.1.5)\n",
            "Requirement already satisfied: absl-py>=0.4 in /usr/local/lib/python3.7/dist-packages (from tb-nightly->flood-forecast) (1.2.0)\n",
            "Requirement already satisfied: wheel>=0.26 in /usr/local/lib/python3.7/dist-packages (from tb-nightly->flood-forecast) (0.37.1)\n",
            "Requirement already satisfied: tensorboard-data-server<0.7.0,>=0.6.0 in /usr/local/lib/python3.7/dist-packages (from tb-nightly->flood-forecast) (0.6.1)\n",
            "Requirement already satisfied: grpcio>=1.24.3 in /usr/local/lib/python3.7/dist-packages (from tb-nightly->flood-forecast) (1.48.1)\n",
            "Requirement already satisfied: werkzeug>=1.0.1 in /usr/local/lib/python3.7/dist-packages (from tb-nightly->flood-forecast) (1.0.1)\n",
            "Requirement already satisfied: tensorboard-plugin-wit>=1.6.0 in /usr/local/lib/python3.7/dist-packages (from tb-nightly->flood-forecast) (1.8.1)\n",
            "Requirement already satisfied: google-auth-oauthlib<0.5,>=0.4.1 in /usr/local/lib/python3.7/dist-packages (from tb-nightly->flood-forecast) (0.4.6)\n",
            "Requirement already satisfied: markdown>=2.6.8 in /usr/local/lib/python3.7/dist-packages (from tb-nightly->flood-forecast) (3.4.1)\n",
            "Requirement already satisfied: requests-oauthlib>=0.7.0 in /usr/local/lib/python3.7/dist-packages (from google-auth-oauthlib<0.5,>=0.4.1->tb-nightly->flood-forecast) (1.3.1)\n",
            "Requirement already satisfied: oauthlib>=3.0.0 in /usr/local/lib/python3.7/dist-packages (from requests-oauthlib>=0.7.0->google-auth-oauthlib<0.5,>=0.4.1->tb-nightly->flood-forecast) (3.2.0)\n",
            "Building wheels for collected packages: pathtools\n",
            "  Building wheel for pathtools (setup.py) ... \u001b[?25l\u001b[?25hdone\n",
            "  Created wheel for pathtools: filename=pathtools-0.1.2-py3-none-any.whl size=8806 sha256=9a5376726aee6f174a7a6c4481d8213fc8df018e8d32e30aa8272c0eb8644419\n",
            "  Stored in directory: /root/.cache/pip/wheels/3e/31/09/fa59cef12cdcfecc627b3d24273699f390e71828921b2cbba2\n",
            "Successfully built pathtools\n",
            "Installing collected packages: setuptools, smmap, sphinxcontrib-qthelp, sphinxcontrib-jsmath, sphinxcontrib-htmlhelp, sphinxcontrib-devhelp, sphinxcontrib-applehelp, gitdb, sphinx, slicer, shortuuid, setproctitle, sentry-sdk, pathtools, numba, GitPython, docker-pycreds, wandb, tb-nightly, sphinx-rtd-theme, sphinx-autodoc-typehints, shap, plotly, mpld3, google-cloud, flood-forecast\n",
            "  Attempting uninstall: setuptools\n",
            "    Found existing installation: setuptools 57.4.0\n",
            "    Uninstalling setuptools-57.4.0:\n",
            "      Successfully uninstalled setuptools-57.4.0\n",
            "  Attempting uninstall: sphinx\n",
            "    Found existing installation: Sphinx 1.8.6\n",
            "    Uninstalling Sphinx-1.8.6:\n",
            "      Successfully uninstalled Sphinx-1.8.6\n",
            "  Attempting uninstall: numba\n",
            "    Found existing installation: numba 0.56.2\n",
            "    Uninstalling numba-0.56.2:\n",
            "      Successfully uninstalled numba-0.56.2\n",
            "  Attempting uninstall: plotly\n",
            "    Found existing installation: plotly 5.5.0\n",
            "    Uninstalling plotly-5.5.0:\n",
            "      Successfully uninstalled plotly-5.5.0\n",
            "\u001b[31mERROR: pip's dependency resolver does not currently take into account all the packages that are installed. This behaviour is the source of the following dependency conflicts.\n",
            "ipython 7.9.0 requires jedi>=0.10, which is not installed.\u001b[0m\n",
            "Successfully installed GitPython-3.1.27 docker-pycreds-0.4.0 flood-forecast-0.99998.dev0 gitdb-4.0.9 google-cloud-0.34.0 mpld3-0.5.8 numba-0.56.0 pathtools-0.1.2 plotly-5.7.0 sentry-sdk-1.9.0 setproctitle-1.3.2 setuptools-62.0.0 shap-0.40.0 shortuuid-1.0.9 slicer-0.0.7 smmap-5.0.0 sphinx-5.1.1 sphinx-autodoc-typehints-1.19.2 sphinx-rtd-theme-1.0.0 sphinxcontrib-applehelp-1.0.2 sphinxcontrib-devhelp-1.0.2 sphinxcontrib-htmlhelp-2.0.0 sphinxcontrib-jsmath-1.0.1 sphinxcontrib-qthelp-1.0.3 tb-nightly-2.11.0a20220920 wandb-0.12.17\n"
          ]
        },
        {
          "output_type": "display_data",
          "data": {
            "application/vnd.colab-display-data+json": {
              "pip_warning": {
                "packages": [
                  "pkg_resources",
                  "sphinxcontrib"
                ]
              }
            }
          },
          "metadata": {}
        }
      ],
      "source": [
        "from datetime import datetime\n",
        "\n",
        "! pip install flood-forecast"
      ]
    },
    {
      "cell_type": "code",
      "source": [],
      "metadata": {
        "id": "8XgIRFDxzHkb"
      },
      "id": "8XgIRFDxzHkb",
      "execution_count": 1,
      "outputs": []
    },
    {
      "cell_type": "code",
      "source": [
        "! pip install wget"
      ],
      "metadata": {
        "colab": {
          "base_uri": "https://localhost:8080/"
        },
        "id": "zkvQQVm-iHt0",
        "outputId": "c592a2e8-c34f-40b3-ddcc-6a110e438411"
      },
      "id": "zkvQQVm-iHt0",
      "execution_count": 2,
      "outputs": [
        {
          "output_type": "stream",
          "name": "stdout",
          "text": [
            "Looking in indexes: https://pypi.org/simple, https://us-python.pkg.dev/colab-wheels/public/simple/\n",
            "Collecting wget\n",
            "  Downloading wget-3.2.zip (10 kB)\n",
            "Building wheels for collected packages: wget\n",
            "  Building wheel for wget (setup.py) ... \u001b[?25l\u001b[?25hdone\n",
            "  Created wheel for wget: filename=wget-3.2-py3-none-any.whl size=9675 sha256=ef5df4dbd700ebb765f25021fc541abb80f9fd897c34705a0f55314c2a441c0e\n",
            "  Stored in directory: /root/.cache/pip/wheels/a1/b6/7c/0e63e34eb06634181c63adacca38b79ff8f35c37e3c13e3c02\n",
            "Successfully built wget\n",
            "Installing collected packages: wget\n",
            "Successfully installed wget-3.2\n"
          ]
        }
      ]
    },
    {
      "cell_type": "code",
      "source": [
        "import wget\n",
        "import os.path"
      ],
      "metadata": {
        "id": "V0UO6wwpiRlX"
      },
      "id": "V0UO6wwpiRlX",
      "execution_count": 3,
      "outputs": []
    },
    {
      "cell_type": "code",
      "source": [
        "#! unzip 01010500FVE_flow.csv.zip"
      ],
      "metadata": {
        "id": "ioHBvdJBiRnn"
      },
      "id": "ioHBvdJBiRnn",
      "execution_count": 4,
      "outputs": []
    },
    {
      "cell_type": "code",
      "source": [
        "import wget\n",
        "import os.path\n",
        "\n",
        "if(not os.path.exists('df_train_keras_tk.csv')):\n",
        "    wget.download('https://raw.githubusercontent.com/RonildoSilva/datasets/main/df_train_keras_tk.csv')\n",
        "\n",
        "if(not os.path.exists('df_val_keras_tk.csv')):\n",
        "    wget.download('https://raw.githubusercontent.com/RonildoSilva/datasets/main/df_val_keras_tk.csv')\n",
        "\n",
        "if(not os.path.exists('df_test_keras_tk.csv')):\n",
        "    wget.download('https://raw.githubusercontent.com/RonildoSilva/datasets/main/df_test_keras_tk.csv')"
      ],
      "metadata": {
        "id": "kOlQ2sBFFemA"
      },
      "id": "kOlQ2sBFFemA",
      "execution_count": 9,
      "outputs": []
    },
    {
      "cell_type": "code",
      "source": [
        "\"\"\"\n",
        "from google.colab import files\n",
        "uploaded = files.upload()\n",
        "\"\"\""
      ],
      "metadata": {
        "colab": {
          "base_uri": "https://localhost:8080/",
          "height": 35
        },
        "id": "i-m4kcrL0bDo",
        "outputId": "8584cdd4-2f7f-4a2e-ea7c-e904995d215e"
      },
      "id": "i-m4kcrL0bDo",
      "execution_count": 10,
      "outputs": [
        {
          "output_type": "execute_result",
          "data": {
            "text/plain": [
              "'\\nfrom google.colab import files\\nuploaded = files.upload()\\n'"
            ],
            "application/vnd.google.colaboratory.intrinsic+json": {
              "type": "string"
            }
          },
          "metadata": {},
          "execution_count": 10
        }
      ]
    },
    {
      "cell_type": "code",
      "source": [
        "! ls"
      ],
      "metadata": {
        "id": "-oHO0yMWeUfR",
        "colab": {
          "base_uri": "https://localhost:8080/"
        },
        "outputId": "12000d75-fcef-4834-e0cb-1b5b3377634a"
      },
      "id": "-oHO0yMWeUfR",
      "execution_count": 281,
      "outputs": [
        {
          "output_type": "stream",
          "name": "stdout",
          "text": [
            "checkpoint.pth\t      df_train_keras_tk.csv  sample_data     TimeConclusion.csv\n",
            "df_full.csv\t      df_val_keras_tk.csv    temp_df.csv     wandb\n",
            "df_test_keras_tk.csv  model_save\t     temp_preds.csv\n"
          ]
        }
      ]
    },
    {
      "cell_type": "markdown",
      "source": [
        "Merge"
      ],
      "metadata": {
        "id": "7kfWF1esP3Ts"
      },
      "id": "7kfWF1esP3Ts"
    },
    {
      "cell_type": "code",
      "source": [
        "import pandas as pd \n",
        "df = pd.concat([\n",
        "    pd.read_csv('df_train_keras_tk.csv'),\n",
        "    pd.read_csv('df_val_keras_tk.csv'),\n",
        "    pd.read_csv('df_test_keras_tk.csv')\n",
        "])"
      ],
      "metadata": {
        "id": "bv1OEhFmFeoE"
      },
      "id": "bv1OEhFmFeoE",
      "execution_count": 282,
      "outputs": []
    },
    {
      "cell_type": "code",
      "source": [
        "print(\n",
        "    pd.read_csv('df_train_keras_tk.csv').shape,\n",
        "    pd.read_csv('df_val_keras_tk.csv').shape,\n",
        "    pd.read_csv('df_test_keras_tk.csv').shape\n",
        ")"
      ],
      "metadata": {
        "colab": {
          "base_uri": "https://localhost:8080/"
        },
        "id": "9-LlEhN0N3G3",
        "outputId": "e9e1693a-0de1-4261-b9fb-2a58a081e13b"
      },
      "id": "9-LlEhN0N3G3",
      "execution_count": 283,
      "outputs": [
        {
          "output_type": "stream",
          "name": "stdout",
          "text": [
            "(12363, 20) (3825, 20) (4216, 20)\n"
          ]
        }
      ]
    },
    {
      "cell_type": "code",
      "source": [
        "pd.to_datetime(pd.read_csv('df_val_keras_tk.csv')['datetime']).dt.strftime('%Y-%m-%d').max()"
      ],
      "metadata": {
        "colab": {
          "base_uri": "https://localhost:8080/",
          "height": 35
        },
        "id": "8WSKxgqxuatO",
        "outputId": "ad56ee90-4e16-43b7-c959-6523ade94ad2"
      },
      "id": "8WSKxgqxuatO",
      "execution_count": 284,
      "outputs": [
        {
          "output_type": "execute_result",
          "data": {
            "text/plain": [
              "'2012-09-20'"
            ],
            "application/vnd.google.colaboratory.intrinsic+json": {
              "type": "string"
            }
          },
          "metadata": {},
          "execution_count": 284
        }
      ]
    },
    {
      "cell_type": "code",
      "source": [
        "TRAIN_START = 0\n",
        "TRAIN_END = pd.read_csv('df_train_keras_tk.csv').shape[0]\n",
        "#TRAIN_END = 100\n",
        "\n",
        "VAL_START = TRAIN_END + 1\n",
        "VAL_END = VAL_START + pd.read_csv('df_val_keras_tk.csv').shape[0]\n",
        "#VAL_END = VAL_START + 50\n",
        "\n",
        "TEST_START = VAL_END + 1\n",
        "TEST_END = TEST_START + pd.read_csv('df_test_keras_tk.csv').shape[0] - 1\n",
        "#TEST_END = TEST_START + 50"
      ],
      "metadata": {
        "id": "FRwOYLo5M-bf"
      },
      "id": "FRwOYLo5M-bf",
      "execution_count": 285,
      "outputs": []
    },
    {
      "cell_type": "code",
      "source": [
        "print(TRAIN_START, TRAIN_END, VAL_START, VAL_END, TEST_START, TEST_END)"
      ],
      "metadata": {
        "colab": {
          "base_uri": "https://localhost:8080/"
        },
        "id": "rF0O28-GQi5I",
        "outputId": "64382097-59e6-4269-a84b-b1499366150c"
      },
      "id": "rF0O28-GQi5I",
      "execution_count": 286,
      "outputs": [
        {
          "output_type": "stream",
          "name": "stdout",
          "text": [
            "0 12363 12364 16189 16190 20405\n"
          ]
        }
      ]
    },
    {
      "cell_type": "code",
      "source": [
        "DATETIME_START = pd.to_datetime(pd.read_csv('df_test_keras_tk.csv')['datetime']).dt.strftime('%Y-%m-%d').min()\n",
        "DATETIME_END = pd.to_datetime(pd.read_csv('df_test_keras_tk.csv')['datetime']).dt.strftime('%Y-%m-%d').max()\n",
        "\n",
        "#DATETIME_START = pd.to_datetime(pd.read_csv('df_test_keras_tk.csv')['datetime']).dt.strftime('%Y-%m-%d')[TEST_START]\n",
        "#DATETIME_END = pd.to_datetime(pd.read_csv('df_test_keras_tk.csv')['datetime']).dt.strftime('%Y-%m-%d %H:%m:%S+00:00')[TEST_END]\n",
        "\n",
        "DATETIME_START, DATETIME_END"
      ],
      "metadata": {
        "colab": {
          "base_uri": "https://localhost:8080/"
        },
        "id": "sqCX0hzg0Vt5",
        "outputId": "d473612d-d0d5-4806-acdf-81ad9477947a"
      },
      "id": "sqCX0hzg0Vt5",
      "execution_count": 301,
      "outputs": [
        {
          "output_type": "execute_result",
          "data": {
            "text/plain": [
              "('2012-07-30', '2014-01-03')"
            ]
          },
          "metadata": {},
          "execution_count": 301
        }
      ]
    },
    {
      "cell_type": "code",
      "source": [
        "df['datetime'] = pd.to_datetime(df['datetime']).dt.strftime('%Y-%m-%d')\n",
        "#df['datetime'] = pd.to_datetime(df['datetime']).dt.strftime('%Y-%m-%d %H:%m:%S+00:00')\n",
        "#2000-04-04 04:00:00+00:00"
      ],
      "metadata": {
        "id": "1N6AYKwBM-dc"
      },
      "id": "1N6AYKwBM-dc",
      "execution_count": 302,
      "outputs": []
    },
    {
      "cell_type": "code",
      "source": [
        "#df = df[[\"TimeConclusion\", \"Duration\", \"datetime\"]]\n",
        "df.to_csv('df_full.csv', index=False)"
      ],
      "metadata": {
        "id": "t7iJv5SmM-fm"
      },
      "id": "t7iJv5SmM-fm",
      "execution_count": 303,
      "outputs": []
    },
    {
      "cell_type": "code",
      "source": [
        "df.head()"
      ],
      "metadata": {
        "colab": {
          "base_uri": "https://localhost:8080/",
          "height": 206
        },
        "id": "9n2JosxiCwMk",
        "outputId": "01905af9-47f3-452c-f42e-d2f53868f926"
      },
      "id": "9n2JosxiCwMk",
      "execution_count": 304,
      "outputs": [
        {
          "output_type": "execute_result",
          "data": {
            "text/plain": [
              "   0  1  2  3  4  5  6  7  8  9  10  11  12  13  14    datetime  Duration  \\\n",
              "0  1  0  0  0  0  0  0  0  0  0   0   0   0   0   0  2010-01-13    0.0000   \n",
              "1  1  2  0  0  0  0  0  0  0  0   0   0   0   0   0  2010-01-29   16.0084   \n",
              "2  1  2  3  0  0  0  0  0  0  0   0   0   0   0   0  2010-01-29    0.0001   \n",
              "3  1  2  3  5  0  0  0  0  0  0   0   0   0   0   0  2010-02-13   15.0002   \n",
              "4  1  0  0  0  0  0  0  0  0  0   0   0   0   0   0  2010-01-13    0.0000   \n",
              "\n",
              "   PassedTime  Step  TimeConclusion  \n",
              "0      0.0000     1         31.0087  \n",
              "1     15.0002     2         15.0003  \n",
              "2     15.0003     3         15.0002  \n",
              "3     31.0087     4          0.0000  \n",
              "4      0.0000     1         30.9822  "
            ],
            "text/html": [
              "\n",
              "  <div id=\"df-5265d2a1-9ae1-4986-94f4-18d4c8bac53c\">\n",
              "    <div class=\"colab-df-container\">\n",
              "      <div>\n",
              "<style scoped>\n",
              "    .dataframe tbody tr th:only-of-type {\n",
              "        vertical-align: middle;\n",
              "    }\n",
              "\n",
              "    .dataframe tbody tr th {\n",
              "        vertical-align: top;\n",
              "    }\n",
              "\n",
              "    .dataframe thead th {\n",
              "        text-align: right;\n",
              "    }\n",
              "</style>\n",
              "<table border=\"1\" class=\"dataframe\">\n",
              "  <thead>\n",
              "    <tr style=\"text-align: right;\">\n",
              "      <th></th>\n",
              "      <th>0</th>\n",
              "      <th>1</th>\n",
              "      <th>2</th>\n",
              "      <th>3</th>\n",
              "      <th>4</th>\n",
              "      <th>5</th>\n",
              "      <th>6</th>\n",
              "      <th>7</th>\n",
              "      <th>8</th>\n",
              "      <th>9</th>\n",
              "      <th>10</th>\n",
              "      <th>11</th>\n",
              "      <th>12</th>\n",
              "      <th>13</th>\n",
              "      <th>14</th>\n",
              "      <th>datetime</th>\n",
              "      <th>Duration</th>\n",
              "      <th>PassedTime</th>\n",
              "      <th>Step</th>\n",
              "      <th>TimeConclusion</th>\n",
              "    </tr>\n",
              "  </thead>\n",
              "  <tbody>\n",
              "    <tr>\n",
              "      <th>0</th>\n",
              "      <td>1</td>\n",
              "      <td>0</td>\n",
              "      <td>0</td>\n",
              "      <td>0</td>\n",
              "      <td>0</td>\n",
              "      <td>0</td>\n",
              "      <td>0</td>\n",
              "      <td>0</td>\n",
              "      <td>0</td>\n",
              "      <td>0</td>\n",
              "      <td>0</td>\n",
              "      <td>0</td>\n",
              "      <td>0</td>\n",
              "      <td>0</td>\n",
              "      <td>0</td>\n",
              "      <td>2010-01-13</td>\n",
              "      <td>0.0000</td>\n",
              "      <td>0.0000</td>\n",
              "      <td>1</td>\n",
              "      <td>31.0087</td>\n",
              "    </tr>\n",
              "    <tr>\n",
              "      <th>1</th>\n",
              "      <td>1</td>\n",
              "      <td>2</td>\n",
              "      <td>0</td>\n",
              "      <td>0</td>\n",
              "      <td>0</td>\n",
              "      <td>0</td>\n",
              "      <td>0</td>\n",
              "      <td>0</td>\n",
              "      <td>0</td>\n",
              "      <td>0</td>\n",
              "      <td>0</td>\n",
              "      <td>0</td>\n",
              "      <td>0</td>\n",
              "      <td>0</td>\n",
              "      <td>0</td>\n",
              "      <td>2010-01-29</td>\n",
              "      <td>16.0084</td>\n",
              "      <td>15.0002</td>\n",
              "      <td>2</td>\n",
              "      <td>15.0003</td>\n",
              "    </tr>\n",
              "    <tr>\n",
              "      <th>2</th>\n",
              "      <td>1</td>\n",
              "      <td>2</td>\n",
              "      <td>3</td>\n",
              "      <td>0</td>\n",
              "      <td>0</td>\n",
              "      <td>0</td>\n",
              "      <td>0</td>\n",
              "      <td>0</td>\n",
              "      <td>0</td>\n",
              "      <td>0</td>\n",
              "      <td>0</td>\n",
              "      <td>0</td>\n",
              "      <td>0</td>\n",
              "      <td>0</td>\n",
              "      <td>0</td>\n",
              "      <td>2010-01-29</td>\n",
              "      <td>0.0001</td>\n",
              "      <td>15.0003</td>\n",
              "      <td>3</td>\n",
              "      <td>15.0002</td>\n",
              "    </tr>\n",
              "    <tr>\n",
              "      <th>3</th>\n",
              "      <td>1</td>\n",
              "      <td>2</td>\n",
              "      <td>3</td>\n",
              "      <td>5</td>\n",
              "      <td>0</td>\n",
              "      <td>0</td>\n",
              "      <td>0</td>\n",
              "      <td>0</td>\n",
              "      <td>0</td>\n",
              "      <td>0</td>\n",
              "      <td>0</td>\n",
              "      <td>0</td>\n",
              "      <td>0</td>\n",
              "      <td>0</td>\n",
              "      <td>0</td>\n",
              "      <td>2010-02-13</td>\n",
              "      <td>15.0002</td>\n",
              "      <td>31.0087</td>\n",
              "      <td>4</td>\n",
              "      <td>0.0000</td>\n",
              "    </tr>\n",
              "    <tr>\n",
              "      <th>4</th>\n",
              "      <td>1</td>\n",
              "      <td>0</td>\n",
              "      <td>0</td>\n",
              "      <td>0</td>\n",
              "      <td>0</td>\n",
              "      <td>0</td>\n",
              "      <td>0</td>\n",
              "      <td>0</td>\n",
              "      <td>0</td>\n",
              "      <td>0</td>\n",
              "      <td>0</td>\n",
              "      <td>0</td>\n",
              "      <td>0</td>\n",
              "      <td>0</td>\n",
              "      <td>0</td>\n",
              "      <td>2010-01-13</td>\n",
              "      <td>0.0000</td>\n",
              "      <td>0.0000</td>\n",
              "      <td>1</td>\n",
              "      <td>30.9822</td>\n",
              "    </tr>\n",
              "  </tbody>\n",
              "</table>\n",
              "</div>\n",
              "      <button class=\"colab-df-convert\" onclick=\"convertToInteractive('df-5265d2a1-9ae1-4986-94f4-18d4c8bac53c')\"\n",
              "              title=\"Convert this dataframe to an interactive table.\"\n",
              "              style=\"display:none;\">\n",
              "        \n",
              "  <svg xmlns=\"http://www.w3.org/2000/svg\" height=\"24px\"viewBox=\"0 0 24 24\"\n",
              "       width=\"24px\">\n",
              "    <path d=\"M0 0h24v24H0V0z\" fill=\"none\"/>\n",
              "    <path d=\"M18.56 5.44l.94 2.06.94-2.06 2.06-.94-2.06-.94-.94-2.06-.94 2.06-2.06.94zm-11 1L8.5 8.5l.94-2.06 2.06-.94-2.06-.94L8.5 2.5l-.94 2.06-2.06.94zm10 10l.94 2.06.94-2.06 2.06-.94-2.06-.94-.94-2.06-.94 2.06-2.06.94z\"/><path d=\"M17.41 7.96l-1.37-1.37c-.4-.4-.92-.59-1.43-.59-.52 0-1.04.2-1.43.59L10.3 9.45l-7.72 7.72c-.78.78-.78 2.05 0 2.83L4 21.41c.39.39.9.59 1.41.59.51 0 1.02-.2 1.41-.59l7.78-7.78 2.81-2.81c.8-.78.8-2.07 0-2.86zM5.41 20L4 18.59l7.72-7.72 1.47 1.35L5.41 20z\"/>\n",
              "  </svg>\n",
              "      </button>\n",
              "      \n",
              "  <style>\n",
              "    .colab-df-container {\n",
              "      display:flex;\n",
              "      flex-wrap:wrap;\n",
              "      gap: 12px;\n",
              "    }\n",
              "\n",
              "    .colab-df-convert {\n",
              "      background-color: #E8F0FE;\n",
              "      border: none;\n",
              "      border-radius: 50%;\n",
              "      cursor: pointer;\n",
              "      display: none;\n",
              "      fill: #1967D2;\n",
              "      height: 32px;\n",
              "      padding: 0 0 0 0;\n",
              "      width: 32px;\n",
              "    }\n",
              "\n",
              "    .colab-df-convert:hover {\n",
              "      background-color: #E2EBFA;\n",
              "      box-shadow: 0px 1px 2px rgba(60, 64, 67, 0.3), 0px 1px 3px 1px rgba(60, 64, 67, 0.15);\n",
              "      fill: #174EA6;\n",
              "    }\n",
              "\n",
              "    [theme=dark] .colab-df-convert {\n",
              "      background-color: #3B4455;\n",
              "      fill: #D2E3FC;\n",
              "    }\n",
              "\n",
              "    [theme=dark] .colab-df-convert:hover {\n",
              "      background-color: #434B5C;\n",
              "      box-shadow: 0px 1px 3px 1px rgba(0, 0, 0, 0.15);\n",
              "      filter: drop-shadow(0px 1px 2px rgba(0, 0, 0, 0.3));\n",
              "      fill: #FFFFFF;\n",
              "    }\n",
              "  </style>\n",
              "\n",
              "      <script>\n",
              "        const buttonEl =\n",
              "          document.querySelector('#df-5265d2a1-9ae1-4986-94f4-18d4c8bac53c button.colab-df-convert');\n",
              "        buttonEl.style.display =\n",
              "          google.colab.kernel.accessAllowed ? 'block' : 'none';\n",
              "\n",
              "        async function convertToInteractive(key) {\n",
              "          const element = document.querySelector('#df-5265d2a1-9ae1-4986-94f4-18d4c8bac53c');\n",
              "          const dataTable =\n",
              "            await google.colab.kernel.invokeFunction('convertToInteractive',\n",
              "                                                     [key], {});\n",
              "          if (!dataTable) return;\n",
              "\n",
              "          const docLinkHtml = 'Like what you see? Visit the ' +\n",
              "            '<a target=\"_blank\" href=https://colab.research.google.com/notebooks/data_table.ipynb>data table notebook</a>'\n",
              "            + ' to learn more about interactive tables.';\n",
              "          element.innerHTML = '';\n",
              "          dataTable['output_type'] = 'display_data';\n",
              "          await google.colab.output.renderOutput(dataTable, element);\n",
              "          const docLink = document.createElement('div');\n",
              "          docLink.innerHTML = docLinkHtml;\n",
              "          element.appendChild(docLink);\n",
              "        }\n",
              "      </script>\n",
              "    </div>\n",
              "  </div>\n",
              "  "
            ]
          },
          "metadata": {},
          "execution_count": 304
        }
      ]
    },
    {
      "cell_type": "code",
      "source": [
        "\"\"\"\n",
        "!pip install -Uqq ipdb\n",
        "import ipdb\n",
        "%pdb on\n",
        "\"\"\""
      ],
      "metadata": {
        "colab": {
          "base_uri": "https://localhost:8080/",
          "height": 35
        },
        "id": "3rPU2ejAFep6",
        "outputId": "3c9ed975-d957-4f99-c3fe-7b408d81111f"
      },
      "id": "3rPU2ejAFep6",
      "execution_count": 305,
      "outputs": [
        {
          "output_type": "execute_result",
          "data": {
            "text/plain": [
              "'\\n!pip install -Uqq ipdb\\nimport ipdb\\n%pdb on\\n'"
            ],
            "application/vnd.google.colaboratory.intrinsic+json": {
              "type": "string"
            }
          },
          "metadata": {},
          "execution_count": 305
        }
      ]
    },
    {
      "cell_type": "code",
      "source": [
        "FEATURE_COLS = df.columns.tolist()\n",
        "FEATURE_COLS.remove('datetime')\n",
        "\n",
        "TARGET_COL = [\"TimeConclusion\"]"
      ],
      "metadata": {
        "id": "wE23st5CLvxD"
      },
      "id": "wE23st5CLvxD",
      "execution_count": 306,
      "outputs": []
    },
    {
      "cell_type": "code",
      "source": [
        "DIMENSION_FEAT = len(FEATURE_COLS)"
      ],
      "metadata": {
        "id": "w_-0f_smXaLW"
      },
      "id": "w_-0f_smXaLW",
      "execution_count": 307,
      "outputs": []
    },
    {
      "cell_type": "code",
      "source": [
        "DIMENSION_FEAT"
      ],
      "metadata": {
        "colab": {
          "base_uri": "https://localhost:8080/"
        },
        "id": "hQnf0D8iXfWh",
        "outputId": "43ed8f30-192d-4c8a-f072-e89a3eb25cf3"
      },
      "id": "hQnf0D8iXfWh",
      "execution_count": 308,
      "outputs": [
        {
          "output_type": "execute_result",
          "data": {
            "text/plain": [
              "19"
            ]
          },
          "metadata": {},
          "execution_count": 308
        }
      ]
    },
    {
      "cell_type": "code",
      "source": [
        "print(FEATURE_COLS, sep=' ')"
      ],
      "metadata": {
        "colab": {
          "base_uri": "https://localhost:8080/"
        },
        "id": "1zX4Ep5MVyNv",
        "outputId": "4e941fe4-54d2-4af4-8dd2-4244d35aa2ec"
      },
      "id": "1zX4Ep5MVyNv",
      "execution_count": 309,
      "outputs": [
        {
          "output_type": "stream",
          "name": "stdout",
          "text": [
            "['0', '1', '2', '3', '4', '5', '6', '7', '8', '9', '10', '11', '12', '13', '14', 'Duration', 'PassedTime', 'Step', 'TimeConclusion']\n"
          ]
        }
      ]
    },
    {
      "cell_type": "code",
      "source": [
        "print(TARGET_COL)"
      ],
      "metadata": {
        "colab": {
          "base_uri": "https://localhost:8080/"
        },
        "id": "VNYmoR5fWFuA",
        "outputId": "37900b2b-5643-4c37-b7fc-94d8c3d15ad4"
      },
      "id": "VNYmoR5fWFuA",
      "execution_count": 310,
      "outputs": [
        {
          "output_type": "stream",
          "name": "stdout",
          "text": [
            "['TimeConclusion']\n"
          ]
        }
      ]
    },
    {
      "cell_type": "markdown",
      "source": [
        "Config"
      ],
      "metadata": {
        "id": "hPt5W__jQ8mJ"
      },
      "id": "hPt5W__jQ8mJ"
    },
    {
      "cell_type": "code",
      "source": [
        "PROJECT_NAME = 'hd17-flow-forecast'"
      ],
      "metadata": {
        "id": "l-Y6vnprzk1k"
      },
      "id": "l-Y6vnprzk1k",
      "execution_count": 311,
      "outputs": []
    },
    {
      "cell_type": "code",
      "source": [
        "def make_config_file(flow_file_path, gage_id, station_id, weight_path=None, pretrained=[]):\n",
        "    run = wandb.init(project=PROJECT_NAME)\n",
        "    wandb_config = run.config\n",
        "    the_wandb_c = run.config\n",
        "    print(wandb_config)\n",
        "    the_config4 = {\"model_name\": \"DARNN\",\n",
        "        \"model_type\": \"PyTorch\",\n",
        "        \"model_params\": {\n",
        "        \"n_time_series\": (2+DIMENSION_FEAT),\n",
        "        \"forecast_history\": 15,\n",
        "        \"hidden_size_encoder\":18,\n",
        "        \"decoder_hidden_size\": 18,\n",
        "        \"out_feats\": 1,\n",
        "        \"dropout\": 0.1,\n",
        "        \"gru_lstm\": False},\n",
        "       \"dataset_params\":{\"class\": \"default\",\n",
        "       \"num_workers\":2,\n",
        "       \"pin_memory\": True,\n",
        "       \"training_path\": flow_file_path,\n",
        "       \"validation_path\": flow_file_path,\n",
        "       \"test_path\": flow_file_path,\n",
        "       \"batch_size\": 500,\n",
        "       \"forecast_history\": (15 - 1),\n",
        "       \"forecast_length\": 1,\n",
        "       \"scaler\": \"StandardScaler\",\n",
        "       \"train_start\": TRAIN_START,\n",
        "       \"train_end\": TRAIN_END,\n",
        "       \"valid_start\": VAL_START,\n",
        "       \"valid_end\": VAL_END,\n",
        "       \"sort_column\": \"datetime\",# \"hour_updated\",\n",
        "       \"test_start\": TEST_START,\n",
        "       \"test_end\": TEST_END,\n",
        "       \"target_col\": TARGET_COL,\n",
        "       \"relevant_cols\": FEATURE_COLS, \n",
        "       \"interpolate\":{\n",
        "           \"method\":\"back_forward_generic\",\n",
        "           \"params\":{\n",
        "               \"relevant_columns\":FEATURE_COLS}\n",
        "           },\n",
        "      \"feature_param\":\n",
        "          {\n",
        "            \"datetime_params\":{\n",
        "            \"day\":\"numerical\",\n",
        "            \"month\": \"numerical\"\n",
        "            }\n",
        "          }\n",
        "       },\n",
        "    \"training_params\":\n",
        "    {\n",
        "       \"criterion\":\"L1\", #\"MSE\"\n",
        "       \"optimizer\": \"Adam\",# \"SGD\", #\"Adam\"\n",
        "       #\"criterion_params\":{\"baseline_method\":\"mean\"},\n",
        "    \"optim_params\":{\n",
        "       \"lr\": 0.001\n",
        "    },\n",
        "       \"epochs\": 5,\n",
        "       \"batch_size\": 500\n",
        "    },\n",
        "    \"early_stopping\":{\n",
        "        \"patience\": 3\n",
        "    },\n",
        "    \"GCS\": False,\n",
        "    \"sweep\":True,\n",
        "    \"wandb\":False,\n",
        "    \"forward_params\":{},\n",
        "   \"metrics\":[\"MSE\", \"L1\"],\n",
        "   \"inference_params\":\n",
        "   {     \n",
        "          \"datetime_start\":DATETIME_START,\n",
        "          \"hours_to_forecast\": 600, \n",
        "          \"num_prediction_samples\": 100,\n",
        "          \"test_csv_path\":flow_file_path,\n",
        "          \"decoder_params\":{\n",
        "            \"decoder_function\": \"simple_decode\", \n",
        "            \"unsqueeze_dim\": 1},\n",
        "          \"dataset_params\":{\n",
        "             \"file_path\": flow_file_path,\n",
        "             \"sort_column\": \"datetime\",\n",
        "             \"scaling\": \"StandardScaler\",\n",
        "             \"forecast_history\": (15 - 1),\n",
        "             \"forecast_length\":1,\n",
        "             \"relevant_cols\": FEATURE_COLS,\n",
        "             \"target_col\": TARGET_COL,\n",
        "             \"interpolate_param\":{\n",
        "                 \"method\":\"back_forward_generic\",\n",
        "                 \"params\":{\"relevant_columns\":FEATURE_COLS}\n",
        "                 }, \n",
        "            \"feature_params\":\n",
        "        {\n",
        "         \"datetime_params\":{\n",
        "            \"day\":\"numerical\",\n",
        "            \"month\": \"numerical\"         \n",
        "     }\n",
        "             }\n",
        "          }\n",
        "          } \n",
        "    }\n",
        "\n",
        "      \n",
        "    if weight_path:\n",
        "        the_config4[\"weight_path\"] = weight_path\n",
        "    wandb.config.update(the_config4)\n",
        "    print(\"config made\")\n",
        "    return the_config4\n",
        "  \n",
        "wandb_sweep_config_full = {\n",
        "  \"name\": \"Default sweep\",\n",
        "  \"method\": \"grid\",\n",
        "  \"parameters\": {\n",
        "        \"forecast_length\":{\n",
        "            \"values\":[1]}\n",
        "            ,\n",
        "        \"batch_size\": {\n",
        "            \"values\": [500]\n",
        "        },\n",
        "        \"lr\":{\n",
        "            \"values\":[0.001]\n",
        "        },\n",
        "        \"forecast_history\":{\n",
        "            \"values\":[15]\n",
        "        },\n",
        "        \"out_seq_length\":{\n",
        "            \"values\":[1]\n",
        "        },\n",
        "        \"hidden_encoder\":\n",
        "        {\n",
        "            \"values\":[18]\n",
        "        },\n",
        "        \"hidden_decoder\":\n",
        "        {\n",
        "            \"values\":[18]\n",
        "        }, \n",
        "        \"dropout\":\n",
        "        {\n",
        "            \"values\": [0.05]\n",
        "        }\n",
        "  \n",
        "    }\n",
        "}"
      ],
      "metadata": {
        "id": "u6Ckdoi0Q7yT"
      },
      "id": "u6Ckdoi0Q7yT",
      "execution_count": 331,
      "outputs": []
    },
    {
      "cell_type": "code",
      "execution_count": 332,
      "id": "648be723",
      "metadata": {
        "execution": {
          "iopub.status.busy": "2021-10-18T07:23:19.999671Z",
          "iopub.status.idle": "2021-10-18T07:23:20.000095Z",
          "shell.execute_reply": "2021-10-18T07:23:19.999918Z",
          "shell.execute_reply.started": "2021-10-18T07:23:19.999895Z"
        },
        "papermill": {
          "duration": null,
          "end_time": null,
          "exception": null,
          "start_time": null,
          "status": "pending"
        },
        "tags": [],
        "colab": {
          "base_uri": "https://localhost:8080/",
          "height": 1000,
          "referenced_widgets": [
            "50f079149b954a42bb7af76f548eac16",
            "576b875ba74f4c8da698635c9273bd4e",
            "85d3d89448a343e08fa2807468ffd769",
            "ece557ed8709437cad8cbd59009bffa9",
            "53bc656b430545139e4231a68a3a10ff",
            "b5975855cf464a3e82c78488e90cda0a",
            "6840ed7e7bb0491d8560f552ed4a3ff6",
            "caa40ec678e94bbd89f7e4d567c52116"
          ]
        },
        "id": "648be723",
        "outputId": "a8571592-70c3-465a-c391-a83e494db403"
      },
      "outputs": [
        {
          "output_type": "stream",
          "name": "stdout",
          "text": [
            "Create sweep with ID: 033av1y1\n",
            "Sweep URL: https://wandb.ai/ronildosilva/hd17-flow-forecast/sweeps/033av1y1\n"
          ]
        },
        {
          "output_type": "display_data",
          "data": {
            "text/plain": [
              "<IPython.core.display.HTML object>"
            ],
            "text/html": [
              "Changes to your `wandb` environment variables will be ignored because your `wandb` session has already started. For more information on how to modify your settings with `wandb.init()` arguments, please refer to <a href=\"https://wandb.me/wandb-init\" target=\"_blank\">the W&B docs</a>."
            ]
          },
          "metadata": {}
        },
        {
          "output_type": "display_data",
          "data": {
            "text/plain": [
              "<IPython.core.display.HTML object>"
            ],
            "text/html": [
              "Finishing last run (ID:3nirzrjj) before initializing another..."
            ]
          },
          "metadata": {}
        },
        {
          "output_type": "display_data",
          "data": {
            "text/plain": [
              "<IPython.core.display.HTML object>"
            ],
            "text/html": [
              "Waiting for W&B process to finish... <strong style=\"color:green\">(success).</strong>"
            ]
          },
          "metadata": {}
        },
        {
          "output_type": "display_data",
          "data": {
            "text/plain": [
              "VBox(children=(Label(value='0.560 MB of 0.560 MB uploaded (0.000 MB deduped)\\r'), FloatProgress(value=1.0, max…"
            ],
            "application/vnd.jupyter.widget-view+json": {
              "version_major": 2,
              "version_minor": 0,
              "model_id": "50f079149b954a42bb7af76f548eac16"
            }
          },
          "metadata": {}
        },
        {
          "output_type": "display_data",
          "data": {
            "text/plain": [
              "<IPython.core.display.HTML object>"
            ],
            "text/html": [
              "<style>\n",
              "    table.wandb td:nth-child(1) { padding: 0 10px; text-align: left ; width: auto;} td:nth-child(2) {text-align: left ; width: 100%}\n",
              "    .wandb-row { display: flex; flex-direction: row; flex-wrap: wrap; justify-content: flex-start; width: 100% }\n",
              "    .wandb-col { display: flex; flex-direction: column; flex-basis: 100%; flex: 1; padding: 10px; }\n",
              "    </style>\n",
              "<div class=\"wandb-row\"><div class=\"wandb-col\"><h3>Run history:</h3><br/><table class=\"wandb\"><tr><td>average_prediction_sharpe0</td><td>▁</td></tr><tr><td>epoch</td><td>▁▁▃▃▅▅▆▆███</td></tr><tr><td>loss</td><td>█▂▁▁▁</td></tr></table><br/></div><div class=\"wandb-col\"><h3>Run summary:</h3><br/><table class=\"wandb\"><tr><td>average_prediction_sharpe0</td><td>0.63464</td></tr><tr><td>epoch</td><td>4</td></tr><tr><td>loss</td><td>0.23595</td></tr></table><br/></div></div>"
            ]
          },
          "metadata": {}
        },
        {
          "output_type": "display_data",
          "data": {
            "text/plain": [
              "<IPython.core.display.HTML object>"
            ],
            "text/html": [
              "Synced <strong style=\"color:#cdcd00\">sage-armadillo-68</strong>: <a href=\"https://wandb.ai/ronildosilva/hd17-flow-forecast/runs/3nirzrjj\" target=\"_blank\">https://wandb.ai/ronildosilva/hd17-flow-forecast/runs/3nirzrjj</a><br/>Synced 5 W&B file(s), 67 media file(s), 0 artifact file(s) and 0 other file(s)"
            ]
          },
          "metadata": {}
        },
        {
          "output_type": "display_data",
          "data": {
            "text/plain": [
              "<IPython.core.display.HTML object>"
            ],
            "text/html": [
              "Find logs at: <code>./wandb/run-20220920_211152-3nirzrjj/logs</code>"
            ]
          },
          "metadata": {}
        },
        {
          "output_type": "display_data",
          "data": {
            "text/plain": [
              "<IPython.core.display.HTML object>"
            ],
            "text/html": [
              "Successfully finished last run (ID:3nirzrjj). Initializing new run:<br/>"
            ]
          },
          "metadata": {}
        },
        {
          "output_type": "display_data",
          "data": {
            "text/plain": [
              "<IPython.core.display.HTML object>"
            ],
            "text/html": [
              "wandb version 0.13.3 is available!  To upgrade, please run:\n",
              " $ pip install wandb --upgrade"
            ]
          },
          "metadata": {}
        },
        {
          "output_type": "display_data",
          "data": {
            "text/plain": [
              "<IPython.core.display.HTML object>"
            ],
            "text/html": [
              "Tracking run with wandb version 0.12.17"
            ]
          },
          "metadata": {}
        },
        {
          "output_type": "display_data",
          "data": {
            "text/plain": [
              "<IPython.core.display.HTML object>"
            ],
            "text/html": [
              "Run data is saved locally in <code>/content/wandb/run-20220920_212131-20yom9se</code>"
            ]
          },
          "metadata": {}
        },
        {
          "output_type": "display_data",
          "data": {
            "text/plain": [
              "<IPython.core.display.HTML object>"
            ],
            "text/html": [
              "Syncing run <strong><a href=\"https://wandb.ai/ronildosilva/hd17-flow-forecast/runs/20yom9se\" target=\"_blank\">sleek-smoke-70</a></strong> to <a href=\"https://wandb.ai/ronildosilva/hd17-flow-forecast\" target=\"_blank\">Weights & Biases</a> (<a href=\"https://wandb.me/run\" target=\"_blank\">docs</a>)<br/>"
            ]
          },
          "metadata": {}
        },
        {
          "output_type": "stream",
          "name": "stdout",
          "text": [
            "{}\n",
            "config made\n",
            "interpolate should be below\n",
            "Running code to add temporal features\n",
            "Created datetime feature columns are: \n",
            "['day', 'month']\n",
            "scaling now\n",
            "interpolate should be below\n",
            "Running code to add temporal features\n",
            "Created datetime feature columns are: \n",
            "['day', 'month']\n",
            "scaling now\n",
            "interpolate should be below\n",
            "Running code to add temporal features\n",
            "Created datetime feature columns are: \n",
            "['day', 'month']\n",
            "scaling now\n",
            "Using Wandb config:\n",
            "{'model_name': 'DARNN', 'model_type': 'PyTorch', 'model_params': {'n_time_series': 21, 'forecast_history': 15, 'hidden_size_encoder': 18, 'decoder_hidden_size': 18, 'out_feats': 1, 'dropout': 0.1, 'gru_lstm': False}, 'dataset_params': {'class': 'default', 'num_workers': 2, 'pin_memory': True, 'training_path': 'df_full.csv', 'validation_path': 'df_full.csv', 'test_path': 'df_full.csv', 'batch_size': 500, 'forecast_history': 14, 'forecast_length': 1, 'scaler': 'StandardScaler', 'train_start': 0, 'train_end': 12363, 'valid_start': 12364, 'valid_end': 16189, 'sort_column': 'datetime', 'test_start': 16190, 'test_end': 20405, 'target_col': ['TimeConclusion'], 'relevant_cols': ['0', '1', '2', '3', '4', '5', '6', '7', '8', '9', '10', '11', '12', '13', '14', 'Duration', 'PassedTime', 'Step', 'TimeConclusion'], 'interpolate': {'method': 'back_forward_generic', 'params': {'relevant_columns': ['0', '1', '2', '3', '4', '5', '6', '7', '8', '9', '10', '11', '12', '13', '14', 'Duration', 'PassedTime', 'Step', 'TimeConclusion']}}, 'feature_param': {'datetime_params': {'day': 'numerical', 'month': 'numerical'}}}, 'training_params': {'criterion': 'L1', 'optimizer': 'Adam', 'optim_params': {'lr': 0.001}, 'epochs': 5, 'batch_size': 500}, 'early_stopping': {'patience': 3}, 'GCS': False, 'sweep': True, 'wandb': False, 'forward_params': {}, 'metrics': ['MSE', 'L1'], 'inference_params': {'datetime_start': '2012-07-30', 'hours_to_forecast': 600, 'num_prediction_samples': 100, 'test_csv_path': 'df_full.csv', 'decoder_params': {'decoder_function': 'simple_decode', 'unsqueeze_dim': 1}, 'dataset_params': {'file_path': 'df_full.csv', 'sort_column': 'datetime', 'scaling': 'StandardScaler', 'forecast_history': 14, 'forecast_length': 1, 'relevant_cols': ['0', '1', '2', '3', '4', '5', '6', '7', '8', '9', '10', '11', '12', '13', '14', 'Duration', 'PassedTime', 'Step', 'TimeConclusion'], 'target_col': ['TimeConclusion'], 'interpolate_param': {'method': 'back_forward_generic', 'params': {'relevant_columns': ['0', '1', '2', '3', '4', '5', '6', '7', '8', '9', '10', '11', '12', '13', '14', 'Duration', 'PassedTime', 'Step', 'TimeConclusion']}}, 'feature_params': {'datetime_params': {'day': 'numerical', 'month': 'numerical'}}}}}\n",
            "Torch is using cpu\n",
            "using 2\n",
            "Pin memory set to true\n",
            "running torch_single_train\n",
            "The running loss is: \n",
            "6.513475511223078\n",
            "The number of items in train is: 25\n",
            "The loss for epoch 0\n",
            "0.26053902044892313\n",
            "Computing validation loss\n",
            "running torch_single_train\n",
            "The running loss is: \n",
            "5.948021147400141\n",
            "The number of items in train is: 25\n",
            "The loss for epoch 1\n",
            "0.23792084589600562\n",
            "Computing validation loss\n",
            "1\n",
            "running torch_single_train\n",
            "The running loss is: \n",
            "5.888540813699365\n",
            "The number of items in train is: 25\n",
            "The loss for epoch 2\n",
            "0.23554163254797458\n",
            "Computing validation loss\n",
            "2\n",
            "running torch_single_train\n",
            "The running loss is: \n",
            "5.873281927779317\n",
            "The number of items in train is: 25\n",
            "The loss for epoch 3\n",
            "0.23493127711117268\n",
            "Computing validation loss\n",
            "3\n",
            "Stopping model now\n",
            "Computing validation loss\n",
            "test loss: 4415.20241702356\n",
            "This model is currently forecasting for: 1 targets\n",
            "interpolate should be below\n",
            "Running code to add temporal features\n",
            "Created datetime feature columns are: \n",
            "['day', 'month']\n",
            "scaling now\n",
            "CSV Path below\n",
            "df_full.csv\n",
            "Add debugging crap below\n",
            "Add debugging crap below\n",
            "Add debugging crap below\n",
            "Add debugging crap below\n",
            "Add debugging crap below\n",
            "Add debugging crap below\n",
            "Add debugging crap below\n",
            "Add debugging crap below\n",
            "Add debugging crap below\n",
            "Add debugging crap below\n",
            "Add debugging crap below\n",
            "Add debugging crap below\n",
            "Add debugging crap below\n",
            "Add debugging crap below\n",
            "Add debugging crap below\n",
            "Add debugging crap below\n",
            "Add debugging crap below\n",
            "Add debugging crap below\n",
            "Add debugging crap below\n",
            "Add debugging crap below\n",
            "Add debugging crap below\n",
            "Add debugging crap below\n",
            "Add debugging crap below\n",
            "Add debugging crap below\n",
            "Add debugging crap below\n",
            "Add debugging crap below\n",
            "Add debugging crap below\n",
            "Add debugging crap below\n",
            "Add debugging crap below\n",
            "Add debugging crap below\n",
            "Add debugging crap below\n",
            "Add debugging crap below\n",
            "Add debugging crap below\n",
            "Add debugging crap below\n",
            "Add debugging crap below\n",
            "Add debugging crap below\n",
            "Add debugging crap below\n",
            "Add debugging crap below\n",
            "Add debugging crap below\n",
            "Add debugging crap below\n",
            "Add debugging crap below\n",
            "Add debugging crap below\n",
            "Add debugging crap below\n",
            "Add debugging crap below\n",
            "Add debugging crap below\n",
            "Add debugging crap below\n",
            "Add debugging crap below\n",
            "Add debugging crap below\n",
            "Add debugging crap below\n",
            "Add debugging crap below\n",
            "Add debugging crap below\n",
            "Add debugging crap below\n",
            "Add debugging crap below\n",
            "Add debugging crap below\n",
            "Add debugging crap below\n",
            "Add debugging crap below\n",
            "Add debugging crap below\n",
            "Add debugging crap below\n",
            "Add debugging crap below\n",
            "Add debugging crap below\n",
            "Add debugging crap below\n",
            "Add debugging crap below\n",
            "Add debugging crap below\n",
            "Add debugging crap below\n",
            "Add debugging crap below\n",
            "Add debugging crap below\n",
            "Add debugging crap below\n",
            "Add debugging crap below\n",
            "Add debugging crap below\n",
            "Add debugging crap below\n",
            "Add debugging crap below\n",
            "Add debugging crap below\n",
            "Add debugging crap below\n",
            "Add debugging crap below\n",
            "Add debugging crap below\n",
            "Add debugging crap below\n",
            "Add debugging crap below\n",
            "Add debugging crap below\n",
            "Add debugging crap below\n",
            "Add debugging crap below\n",
            "Add debugging crap below\n",
            "Add debugging crap below\n",
            "Add debugging crap below\n",
            "Add debugging crap below\n",
            "Add debugging crap below\n",
            "Add debugging crap below\n",
            "Add debugging crap below\n",
            "Add debugging crap below\n",
            "Add debugging crap below\n",
            "Add debugging crap below\n",
            "Add debugging crap below\n",
            "Add debugging crap below\n",
            "Add debugging crap below\n",
            "Add debugging crap below\n",
            "Add debugging crap below\n",
            "Add debugging crap below\n",
            "Add debugging crap below\n",
            "Add debugging crap below\n",
            "Add debugging crap below\n",
            "Add debugging crap below\n",
            "Add debugging crap below\n",
            "<class 'numpy.ndarray'>\n",
            "Un-transforming data\n",
            "Current historical dataframe \n",
            "       0  1  2  3  4  5  6  7  8  9  ...   datetime  Duration  PassedTime  \\\n",
            "15505  1  0  0  0  0  0  0  0  0  0  ... 2012-07-05    0.0000      0.0000   \n",
            "15506  1  2  0  0  0  0  0  0  0  0  ... 2012-07-05    0.0001     32.2772   \n",
            "15507  1  2  3  0  0  0  0  0  0  0  ... 2012-07-06    0.7288     33.0060   \n",
            "15508  1  2  3  5  0  0  0  0  0  0  ... 2012-08-07   32.2772     33.0061   \n",
            "15509  1  0  0  0  0  0  0  0  0  0  ... 2012-07-06    0.0000      0.0000   \n",
            "...   .. .. .. .. .. .. .. .. .. ..  ...        ...       ...         ...   \n",
            "16114  1  0  0  0  0  0  0  0  0  0  ... 2012-07-26    0.0000      0.0000   \n",
            "16115  1  2  0  0  0  0  0  0  0  0  ... 2012-07-27    0.7666     37.0181   \n",
            "16116  1  2  3  0  0  0  0  0  0  0  ... 2012-07-27    0.2152     37.2333   \n",
            "16117  1  2  3  5  0  0  0  0  0  0  ... 2012-09-02   37.0181     37.9999   \n",
            "16118  1  0  0  0  0  0  0  0  0  0  ... 2012-07-27    0.0000      0.0000   \n",
            "\n",
            "       Step  TimeConclusion original_index  day  month      preds  \\\n",
            "15505     1         33.0061          15505    5      7   0.000000   \n",
            "15506     2         33.0060          15506    5      7   0.000000   \n",
            "15507     3         32.2772          15507    6      7   0.000000   \n",
            "15508     4          0.0000          15508    7      8   0.000000   \n",
            "15509     1         33.0054          15509    6      7   0.000000   \n",
            "...     ...             ...            ...  ...    ...        ...   \n",
            "16114     1         37.9999          16114   26      7  23.073029   \n",
            "16115     2         37.2333          16115   27      7  23.089687   \n",
            "16116     3         37.0181          16116   27      7  23.106382   \n",
            "16117     4          0.0000          16117    2      9  23.090342   \n",
            "16118     1         40.0041          16118   27      7  23.095856   \n",
            "\n",
            "       pred_TimeConclusion  \n",
            "15505             0.000000  \n",
            "15506             0.000000  \n",
            "15507             0.000000  \n",
            "15508             0.000000  \n",
            "15509             0.000000  \n",
            "...                    ...  \n",
            "16114            23.073029  \n",
            "16115            23.089687  \n",
            "16116            23.106382  \n",
            "16117            23.090342  \n",
            "16118            23.095856  \n",
            "\n",
            "[614 rows x 25 columns]\n"
          ]
        },
        {
          "output_type": "stream",
          "name": "stderr",
          "text": [
            "/usr/local/lib/python3.7/dist-packages/torch/nn/modules/module.py:1053: UserWarning:\n",
            "\n",
            "Using a non-full backward hook when the forward contains multiple autograd Nodes is deprecated and will be removed in future versions. This hook will be missing some grad_input. Please use register_full_backward_hook to get the documented behavior.\n",
            "\n",
            "/usr/local/lib/python3.7/dist-packages/torch/nn/modules/module.py:1043: UserWarning:\n",
            "\n",
            "Using a non-full backward hook when outputs are generated by different autograd Nodes is deprecated and will be removed in future versions. This hook will be missing some grad_output. Please use register_full_backward_hook to get the documented behavior.\n",
            "\n"
          ]
        },
        {
          "output_type": "stream",
          "name": "stdout",
          "text": [
            "plotting with CI now\n",
            "Now plotting final plots\n"
          ]
        }
      ],
      "source": [
        "import wandb\n",
        "from flood_forecast.trainer import train_function\n",
        "\n",
        "\n",
        "sweep_id = wandb.sweep(wandb_sweep_config_full, project=PROJECT_NAME)\n",
        "\n",
        "file_path = \"df_full.csv\"\n",
        "\n",
        "#wandb.agent(sweep_id, lambda: train_function(\"PyTorch\", make_config_file(file_path, \"01010500\", \"FVE\", None)))\n",
        "\n",
        "model = train_function(\"PyTorch\", make_config_file(file_path, \"01010500\", \"FVE\", None))"
      ]
    },
    {
      "cell_type": "code",
      "source": [
        "#model.test_data.df"
      ],
      "metadata": {
        "id": "efhkpGKdG9RP"
      },
      "id": "efhkpGKdG9RP",
      "execution_count": 325,
      "outputs": []
    },
    {
      "cell_type": "markdown",
      "source": [
        "- 3.6995912646861027"
      ],
      "metadata": {
        "id": "UyAksjzIz7GY"
      },
      "id": "UyAksjzIz7GY"
    },
    {
      "cell_type": "code",
      "source": [],
      "metadata": {
        "id": "FPnvqxgZuUWj"
      },
      "id": "FPnvqxgZuUWj",
      "execution_count": 317,
      "outputs": []
    }
  ],
  "metadata": {
    "kernelspec": {
      "display_name": "Python 3 (ipykernel)",
      "language": "python",
      "name": "python3"
    },
    "language_info": {
      "codemirror_mode": {
        "name": "ipython",
        "version": 3
      },
      "file_extension": ".py",
      "mimetype": "text/x-python",
      "name": "python",
      "nbconvert_exporter": "python",
      "pygments_lexer": "ipython3",
      "version": "3.8.10"
    },
    "papermill": {
      "default_parameters": {},
      "duration": 29.538863,
      "end_time": "2021-10-18T07:45:15.523057",
      "environment_variables": {},
      "exception": true,
      "input_path": "__notebook__.ipynb",
      "output_path": "__notebook__.ipynb",
      "parameters": {},
      "start_time": "2021-10-18T07:44:45.984194",
      "version": "2.3.3"
    },
    "colab": {
      "provenance": [],
      "collapsed_sections": [],
      "include_colab_link": true
    },
    "widgets": {
      "application/vnd.jupyter.widget-state+json": {
        "50f079149b954a42bb7af76f548eac16": {
          "model_module": "@jupyter-widgets/controls",
          "model_name": "VBoxModel",
          "model_module_version": "1.5.0",
          "state": {
            "_dom_classes": [],
            "_model_module": "@jupyter-widgets/controls",
            "_model_module_version": "1.5.0",
            "_model_name": "VBoxModel",
            "_view_count": null,
            "_view_module": "@jupyter-widgets/controls",
            "_view_module_version": "1.5.0",
            "_view_name": "VBoxView",
            "box_style": "",
            "children": [
              "IPY_MODEL_576b875ba74f4c8da698635c9273bd4e",
              "IPY_MODEL_85d3d89448a343e08fa2807468ffd769"
            ],
            "layout": "IPY_MODEL_ece557ed8709437cad8cbd59009bffa9"
          }
        },
        "576b875ba74f4c8da698635c9273bd4e": {
          "model_module": "@jupyter-widgets/controls",
          "model_name": "LabelModel",
          "model_module_version": "1.5.0",
          "state": {
            "_dom_classes": [],
            "_model_module": "@jupyter-widgets/controls",
            "_model_module_version": "1.5.0",
            "_model_name": "LabelModel",
            "_view_count": null,
            "_view_module": "@jupyter-widgets/controls",
            "_view_module_version": "1.5.0",
            "_view_name": "LabelView",
            "description": "",
            "description_tooltip": null,
            "layout": "IPY_MODEL_53bc656b430545139e4231a68a3a10ff",
            "placeholder": "​",
            "style": "IPY_MODEL_b5975855cf464a3e82c78488e90cda0a",
            "value": "0.604 MB of 0.604 MB uploaded (0.000 MB deduped)\r"
          }
        },
        "85d3d89448a343e08fa2807468ffd769": {
          "model_module": "@jupyter-widgets/controls",
          "model_name": "FloatProgressModel",
          "model_module_version": "1.5.0",
          "state": {
            "_dom_classes": [],
            "_model_module": "@jupyter-widgets/controls",
            "_model_module_version": "1.5.0",
            "_model_name": "FloatProgressModel",
            "_view_count": null,
            "_view_module": "@jupyter-widgets/controls",
            "_view_module_version": "1.5.0",
            "_view_name": "ProgressView",
            "bar_style": "",
            "description": "",
            "description_tooltip": null,
            "layout": "IPY_MODEL_6840ed7e7bb0491d8560f552ed4a3ff6",
            "max": 1,
            "min": 0,
            "orientation": "horizontal",
            "style": "IPY_MODEL_caa40ec678e94bbd89f7e4d567c52116",
            "value": 1
          }
        },
        "ece557ed8709437cad8cbd59009bffa9": {
          "model_module": "@jupyter-widgets/base",
          "model_name": "LayoutModel",
          "model_module_version": "1.2.0",
          "state": {
            "_model_module": "@jupyter-widgets/base",
            "_model_module_version": "1.2.0",
            "_model_name": "LayoutModel",
            "_view_count": null,
            "_view_module": "@jupyter-widgets/base",
            "_view_module_version": "1.2.0",
            "_view_name": "LayoutView",
            "align_content": null,
            "align_items": null,
            "align_self": null,
            "border": null,
            "bottom": null,
            "display": null,
            "flex": null,
            "flex_flow": null,
            "grid_area": null,
            "grid_auto_columns": null,
            "grid_auto_flow": null,
            "grid_auto_rows": null,
            "grid_column": null,
            "grid_gap": null,
            "grid_row": null,
            "grid_template_areas": null,
            "grid_template_columns": null,
            "grid_template_rows": null,
            "height": null,
            "justify_content": null,
            "justify_items": null,
            "left": null,
            "margin": null,
            "max_height": null,
            "max_width": null,
            "min_height": null,
            "min_width": null,
            "object_fit": null,
            "object_position": null,
            "order": null,
            "overflow": null,
            "overflow_x": null,
            "overflow_y": null,
            "padding": null,
            "right": null,
            "top": null,
            "visibility": null,
            "width": null
          }
        },
        "53bc656b430545139e4231a68a3a10ff": {
          "model_module": "@jupyter-widgets/base",
          "model_name": "LayoutModel",
          "model_module_version": "1.2.0",
          "state": {
            "_model_module": "@jupyter-widgets/base",
            "_model_module_version": "1.2.0",
            "_model_name": "LayoutModel",
            "_view_count": null,
            "_view_module": "@jupyter-widgets/base",
            "_view_module_version": "1.2.0",
            "_view_name": "LayoutView",
            "align_content": null,
            "align_items": null,
            "align_self": null,
            "border": null,
            "bottom": null,
            "display": null,
            "flex": null,
            "flex_flow": null,
            "grid_area": null,
            "grid_auto_columns": null,
            "grid_auto_flow": null,
            "grid_auto_rows": null,
            "grid_column": null,
            "grid_gap": null,
            "grid_row": null,
            "grid_template_areas": null,
            "grid_template_columns": null,
            "grid_template_rows": null,
            "height": null,
            "justify_content": null,
            "justify_items": null,
            "left": null,
            "margin": null,
            "max_height": null,
            "max_width": null,
            "min_height": null,
            "min_width": null,
            "object_fit": null,
            "object_position": null,
            "order": null,
            "overflow": null,
            "overflow_x": null,
            "overflow_y": null,
            "padding": null,
            "right": null,
            "top": null,
            "visibility": null,
            "width": null
          }
        },
        "b5975855cf464a3e82c78488e90cda0a": {
          "model_module": "@jupyter-widgets/controls",
          "model_name": "DescriptionStyleModel",
          "model_module_version": "1.5.0",
          "state": {
            "_model_module": "@jupyter-widgets/controls",
            "_model_module_version": "1.5.0",
            "_model_name": "DescriptionStyleModel",
            "_view_count": null,
            "_view_module": "@jupyter-widgets/base",
            "_view_module_version": "1.2.0",
            "_view_name": "StyleView",
            "description_width": ""
          }
        },
        "6840ed7e7bb0491d8560f552ed4a3ff6": {
          "model_module": "@jupyter-widgets/base",
          "model_name": "LayoutModel",
          "model_module_version": "1.2.0",
          "state": {
            "_model_module": "@jupyter-widgets/base",
            "_model_module_version": "1.2.0",
            "_model_name": "LayoutModel",
            "_view_count": null,
            "_view_module": "@jupyter-widgets/base",
            "_view_module_version": "1.2.0",
            "_view_name": "LayoutView",
            "align_content": null,
            "align_items": null,
            "align_self": null,
            "border": null,
            "bottom": null,
            "display": null,
            "flex": null,
            "flex_flow": null,
            "grid_area": null,
            "grid_auto_columns": null,
            "grid_auto_flow": null,
            "grid_auto_rows": null,
            "grid_column": null,
            "grid_gap": null,
            "grid_row": null,
            "grid_template_areas": null,
            "grid_template_columns": null,
            "grid_template_rows": null,
            "height": null,
            "justify_content": null,
            "justify_items": null,
            "left": null,
            "margin": null,
            "max_height": null,
            "max_width": null,
            "min_height": null,
            "min_width": null,
            "object_fit": null,
            "object_position": null,
            "order": null,
            "overflow": null,
            "overflow_x": null,
            "overflow_y": null,
            "padding": null,
            "right": null,
            "top": null,
            "visibility": null,
            "width": null
          }
        },
        "caa40ec678e94bbd89f7e4d567c52116": {
          "model_module": "@jupyter-widgets/controls",
          "model_name": "ProgressStyleModel",
          "model_module_version": "1.5.0",
          "state": {
            "_model_module": "@jupyter-widgets/controls",
            "_model_module_version": "1.5.0",
            "_model_name": "ProgressStyleModel",
            "_view_count": null,
            "_view_module": "@jupyter-widgets/base",
            "_view_module_version": "1.2.0",
            "_view_name": "StyleView",
            "bar_color": null,
            "description_width": ""
          }
        }
      }
    }
  },
  "nbformat": 4,
  "nbformat_minor": 5
}